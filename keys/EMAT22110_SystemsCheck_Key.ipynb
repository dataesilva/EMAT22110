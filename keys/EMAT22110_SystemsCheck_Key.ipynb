{
 "cells": [
  {
   "cell_type": "markdown",
   "metadata": {},
   "source": [
    "# Systems Check - Key\n",
    "### EMAT 22110 - Data in Emerging Media and Technology\n",
    "### Author: David E. Silva\n",
    "<img src = https://www.jpl.nasa.gov/images/asteroid/20180723/main-animation-16.gif alt=\"Near-earth objects; source: NASA Jet Propulsion Laboratory\" title=\"Tracking Near-earth Objects\" width=\"600px\"/>\n",
    "\n",
    "\n",
    "#### Purpose\n",
    "**This introductory assignment is to verify your environment is properly configured and that you can identify and submit the correct file types. (20pts)**\n",
    "\n",
    "Before attempting this assignment you will need to install Anaconda, create an environment, and install Jupyter.\n",
    "\n",
    "To complete this assignment:\n",
    "1. Launch Jupyter Notebooks from the Anaconda Powershell\n",
    "2. Create a course folder\n",
    "3. Create a new .ipynb file\n",
    "4. Rename the .ipynb file\n",
    "5. Create <a href = \"https://jupyter-notebook.readthedocs.io/en/stable/examples/Notebook/Working%20With%20Markdown%20Cells.html\">Markdown cells</a> with multi-level headings, ordered lists, and **basic** *text* and image formats\n",
    "6. Enable the <a href=\"https://github.com/ipython-contrib/jupyter_contrib_nbextensions/tree/master/src/jupyter_contrib_nbextensions/nbextensions/spellchecker\">spellcheck</a> extension with <code>conda install -c conda-forge jupyter_contrib_nbextensions</code>\n",
    "7. Create a code cells for variable assignment, a basic for loop, a print statement, and a return statement (see examples below)\n",
    "\n",
    "This assignment is graded on completion. Successfully implementing each of the above steps will earn full points. Incomplete submissions will earn a 0 until corrected."
   ]
  },
  {
   "cell_type": "markdown",
   "metadata": {},
   "source": [
    "#### Variable Assignment"
   ]
  },
  {
   "cell_type": "code",
   "execution_count": 1,
   "metadata": {},
   "outputs": [],
   "source": [
    "x = range(10)"
   ]
  },
  {
   "cell_type": "markdown",
   "metadata": {},
   "source": [
    "#### Basic Loop"
   ]
  },
  {
   "cell_type": "code",
   "execution_count": 2,
   "metadata": {},
   "outputs": [],
   "source": [
    "y = []\n",
    "for i in x:\n",
    "    y.append(i+3)"
   ]
  },
  {
   "cell_type": "markdown",
   "metadata": {},
   "source": [
    "#### Print Statement"
   ]
  },
  {
   "cell_type": "code",
   "execution_count": 3,
   "metadata": {},
   "outputs": [
    {
     "name": "stdout",
     "output_type": "stream",
     "text": [
      "range(0, 10) [3, 4, 5, 6, 7, 8, 9, 10, 11, 12]\n"
     ]
    }
   ],
   "source": [
    "print(x, y)"
   ]
  },
  {
   "cell_type": "markdown",
   "metadata": {},
   "source": [
    "#### Return Statement"
   ]
  },
  {
   "cell_type": "code",
   "execution_count": 4,
   "metadata": {},
   "outputs": [
    {
     "data": {
      "text/plain": [
       "[0, 1, 2, 3, 4, 5, 6, 7, 8, 9]"
      ]
     },
     "execution_count": 4,
     "metadata": {},
     "output_type": "execute_result"
    }
   ],
   "source": [
    "def subthree (x):\n",
    "    return x-3\n",
    "\n",
    "[subthree(i) for i in y]"
   ]
  },
  {
   "cell_type": "markdown",
   "metadata": {},
   "source": [
    "###### End"
   ]
  }
 ],
 "metadata": {
  "kernelspec": {
   "display_name": "Python 3",
   "language": "python",
   "name": "python3"
  },
  "language_info": {
   "codemirror_mode": {
    "name": "ipython",
    "version": 3
   },
   "file_extension": ".py",
   "mimetype": "text/x-python",
   "name": "python",
   "nbconvert_exporter": "python",
   "pygments_lexer": "ipython3",
   "version": "3.8.3"
  },
  "latex_envs": {
   "LaTeX_envs_menu_present": true,
   "autoclose": false,
   "autocomplete": true,
   "bibliofile": "biblio.bib",
   "cite_by": "apalike",
   "current_citInitial": 1,
   "eqLabelWithNumbers": true,
   "eqNumInitial": 1,
   "hotkeys": {
    "equation": "Ctrl-E",
    "itemize": "Ctrl-I"
   },
   "labels_anchors": false,
   "latex_user_defs": false,
   "report_style_numbering": false,
   "user_envs_cfg": false
  }
 },
 "nbformat": 4,
 "nbformat_minor": 4
}

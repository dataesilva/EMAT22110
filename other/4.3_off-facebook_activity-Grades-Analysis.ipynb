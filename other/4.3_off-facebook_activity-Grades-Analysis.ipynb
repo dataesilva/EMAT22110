{
 "cells": [
  {
   "cell_type": "markdown",
   "metadata": {},
   "source": [
    "## \"your_off-facebook_activity\" Report grade analysis\n",
    "Having graded all the submissions for the \"your_off-facebook_activity\" Report assignment, a decision needs to be made.\n",
    "1. How did the class do on this second assignment?\n",
    "2. Are there any concerns present in the data?\n",
    "3. Is some action needed (like an assignment correction)?\n",
    "4. Did the class do better or worse on this assignment than the last one?\n",
    "\n",
    "For this analysis, the assignment scores from the first and second assignment were downloaded from Blackboard. The first assignment scores included resubmissions and corrections. The student information was stripped from the data using Excel and replaced with a random ID number. The scores were then randomized in Excel. This means that the normally-alphabetical data now has no association with student names or Kent State ID number.\n",
    "\n",
    "### Analysis Plan\n",
    "To analyze the data, the assignment scores will be loaded into the working environment and converted to a two-column DataFrame object. The univariate distributions will be assessed by plotting a histogram. Outliers will be assessed and descriptive statistics (mean, median, standard deviation) will be calculated before and after any outliers are removed. In addition, a probability plot will show how well the grades match a normal distribution. Finally, a pair-sample t-test will be used to determine if the scores differed significantly between the two assignments."
   ]
  },
  {
   "cell_type": "markdown",
   "metadata": {},
   "source": [
    "### Setting up the Environment\n",
    "The following libraries will be used:\n",
    "- scipy.stats\n",
    "- pandas\n",
    "- matplotlib.pyplot"
   ]
  },
  {
   "cell_type": "code",
   "execution_count": 42,
   "metadata": {},
   "outputs": [],
   "source": [
    "from scipy import stats\n",
    "import pandas as pd\n",
    "from matplotlib import pyplot as plt"
   ]
  },
  {
   "cell_type": "markdown",
   "metadata": {},
   "source": [
    "The grade data was exported as a CSV from Blackboard. The pandas library provides the `read_csv()` function to load CSV data as a DataFrame."
   ]
  },
  {
   "cell_type": "code",
   "execution_count": 43,
   "metadata": {},
   "outputs": [
    {
     "name": "stdout",
     "output_type": "stream",
     "text": [
      "23\n"
     ]
    },
    {
     "data": {
      "text/html": [
       "<div>\n",
       "<style scoped>\n",
       "    .dataframe tbody tr th:only-of-type {\n",
       "        vertical-align: middle;\n",
       "    }\n",
       "\n",
       "    .dataframe tbody tr th {\n",
       "        vertical-align: top;\n",
       "    }\n",
       "\n",
       "    .dataframe thead th {\n",
       "        text-align: right;\n",
       "    }\n",
       "</style>\n",
       "<table border=\"1\" class=\"dataframe\">\n",
       "  <thead>\n",
       "    <tr style=\"text-align: right;\">\n",
       "      <th></th>\n",
       "      <th>likes</th>\n",
       "      <th>fb_activity</th>\n",
       "      <th>id</th>\n",
       "    </tr>\n",
       "  </thead>\n",
       "  <tbody>\n",
       "    <tr>\n",
       "      <th>0</th>\n",
       "      <td>145</td>\n",
       "      <td>121.000</td>\n",
       "      <td>150782</td>\n",
       "    </tr>\n",
       "    <tr>\n",
       "      <th>1</th>\n",
       "      <td>141</td>\n",
       "      <td>137.000</td>\n",
       "      <td>200123</td>\n",
       "    </tr>\n",
       "    <tr>\n",
       "      <th>2</th>\n",
       "      <td>147</td>\n",
       "      <td>150.000</td>\n",
       "      <td>334680</td>\n",
       "    </tr>\n",
       "    <tr>\n",
       "      <th>3</th>\n",
       "      <td>143</td>\n",
       "      <td>137.985</td>\n",
       "      <td>363412</td>\n",
       "    </tr>\n",
       "    <tr>\n",
       "      <th>4</th>\n",
       "      <td>141</td>\n",
       "      <td>150.000</td>\n",
       "      <td>511258</td>\n",
       "    </tr>\n",
       "  </tbody>\n",
       "</table>\n",
       "</div>"
      ],
      "text/plain": [
       "   likes  fb_activity      id\n",
       "0    145      121.000  150782\n",
       "1    141      137.000  200123\n",
       "2    147      150.000  334680\n",
       "3    143      137.985  363412\n",
       "4    141      150.000  511258"
      ]
     },
     "execution_count": 43,
     "metadata": {},
     "output_type": "execute_result"
    }
   ],
   "source": [
    "filepath = r'D:\\EMAT_22110\\EMAT22110\\two-assignment_grades.csv'\n",
    "t_grades = pd.read_csv(filepath)\n",
    "print(len(t_grades))\n",
    "t_grades.head()"
   ]
  },
  {
   "cell_type": "markdown",
   "metadata": {},
   "source": [
    "### Univariate Distribution\n",
    "The distribution of the grades is plotted using pyplot's `hist()` function."
   ]
  },
  {
   "cell_type": "code",
   "execution_count": 44,
   "metadata": {},
   "outputs": [
    {
     "data": {
      "image/png": "[encoded data removed]",
      "text/plain": [
       "<Figure size 432x288 with 1 Axes>"
      ]
     },
     "metadata": {
      "needs_background": "light"
     },
     "output_type": "display_data"
    }
   ],
   "source": [
    "fig, ax0 = plt.subplots()\n",
    "ax0.hist([t_grades['likes'], t_grades['fb_activity']], label = [\"Likes\", \"Facebook Activity\"])\n",
    "ax0.legend(frameon = False, loc = 'upper center')\n",
    "plt.show()"
   ]
  },
  {
   "cell_type": "markdown",
   "metadata": {},
   "source": [
    "The maximum points possible for this assignment was 150. We can see two clear outliers at 0. After going back to Blackboard these two 0s are accurate, but fall well outside the norm for the class. In the analysis from the last assignment, it was found that the zeros can be removed without impacting the quality of the decisions made. So, a second DataFrame was created by removing the rows with zeros."
   ]
  },
  {
   "cell_type": "code",
   "execution_count": 45,
   "metadata": {},
   "outputs": [
    {
     "name": "stdout",
     "output_type": "stream",
     "text": [
      "21\n"
     ]
    },
    {
     "data": {
      "text/html": [
       "<div>\n",
       "<style scoped>\n",
       "    .dataframe tbody tr th:only-of-type {\n",
       "        vertical-align: middle;\n",
       "    }\n",
       "\n",
       "    .dataframe tbody tr th {\n",
       "        vertical-align: top;\n",
       "    }\n",
       "\n",
       "    .dataframe thead th {\n",
       "        text-align: right;\n",
       "    }\n",
       "</style>\n",
       "<table border=\"1\" class=\"dataframe\">\n",
       "  <thead>\n",
       "    <tr style=\"text-align: right;\">\n",
       "      <th></th>\n",
       "      <th>likes</th>\n",
       "      <th>fb_activity</th>\n",
       "      <th>id</th>\n",
       "    </tr>\n",
       "  </thead>\n",
       "  <tbody>\n",
       "    <tr>\n",
       "      <th>0</th>\n",
       "      <td>145</td>\n",
       "      <td>121.000</td>\n",
       "      <td>150782</td>\n",
       "    </tr>\n",
       "    <tr>\n",
       "      <th>1</th>\n",
       "      <td>141</td>\n",
       "      <td>137.000</td>\n",
       "      <td>200123</td>\n",
       "    </tr>\n",
       "    <tr>\n",
       "      <th>2</th>\n",
       "      <td>147</td>\n",
       "      <td>150.000</td>\n",
       "      <td>334680</td>\n",
       "    </tr>\n",
       "    <tr>\n",
       "      <th>3</th>\n",
       "      <td>143</td>\n",
       "      <td>137.985</td>\n",
       "      <td>363412</td>\n",
       "    </tr>\n",
       "    <tr>\n",
       "      <th>4</th>\n",
       "      <td>141</td>\n",
       "      <td>150.000</td>\n",
       "      <td>511258</td>\n",
       "    </tr>\n",
       "  </tbody>\n",
       "</table>\n",
       "</div>"
      ],
      "text/plain": [
       "   likes  fb_activity      id\n",
       "0    145      121.000  150782\n",
       "1    141      137.000  200123\n",
       "2    147      150.000  334680\n",
       "3    143      137.985  363412\n",
       "4    141      150.000  511258"
      ]
     },
     "execution_count": 45,
     "metadata": {},
     "output_type": "execute_result"
    }
   ],
   "source": [
    "t_grades_no_zeros = t_grades.loc[t_grades['fb_activity'] > 0]\n",
    "print(len(t_grades_no_zeros))\n",
    "t_grades_no_zeros.head()"
   ]
  },
  {
   "cell_type": "code",
   "execution_count": 46,
   "metadata": {},
   "outputs": [
    {
     "data": {
      "image/png": "[encoded data removed]",
      "text/plain": [
       "<Figure size 432x288 with 1 Axes>"
      ]
     },
     "metadata": {
      "needs_background": "light"
     },
     "output_type": "display_data"
    }
   ],
   "source": [
    "fig, ax1 = plt.subplots()\n",
    "ax1.hist([t_grades_no_zeros['likes'], t_grades_no_zeros['fb_activity']], label = [\"Likes\", \"Facebook Activity\"])\n",
    "ax1.legend(frameon = False, loc = 'upper center')\n",
    "plt.show()"
   ]
  },
  {
   "cell_type": "markdown",
   "metadata": {},
   "source": [
    "### Descriptive Statistics\n",
    "From scipy.stats, the `describe()` function provides the mean, standard deviation, minimum and maximum values, and measures of normality. Also from scipy.stats, `mode()` calculates the mode. The `probplot()` function shows the data against an ideal normal distribution. If the observed values (the blue dots) fit closely with the theoretical probability line (in red), then the data matches a normal distribution. Deviations from the probability line show how the data is different from normal.\n",
    "We will compute these for both the full data and for the data without the zero values.\n",
    "\n",
    "`describe()` returns a DescribeResult object, from which we can call the specific stats of interest."
   ]
  },
  {
   "cell_type": "markdown",
   "metadata": {},
   "source": [
    "#### Description of the data without zeros\n",
    "The number of observations is:"
   ]
  },
  {
   "cell_type": "code",
   "execution_count": 47,
   "metadata": {},
   "outputs": [
    {
     "data": {
      "text/plain": [
       "21"
      ]
     },
     "execution_count": 47,
     "metadata": {},
     "output_type": "execute_result"
    }
   ],
   "source": [
    "stats.describe(t_grades_no_zeros['fb_activity']).nobs"
   ]
  },
  {
   "cell_type": "markdown",
   "metadata": {},
   "source": [
    "The mean is:"
   ]
  },
  {
   "cell_type": "code",
   "execution_count": 48,
   "metadata": {},
   "outputs": [
    {
     "data": {
      "text/plain": [
       "130.5227380952381"
      ]
     },
     "execution_count": 48,
     "metadata": {},
     "output_type": "execute_result"
    }
   ],
   "source": [
    "stats.describe(t_grades_no_zeros['fb_activity']).mean"
   ]
  },
  {
   "cell_type": "markdown",
   "metadata": {},
   "source": [
    "The variance is:"
   ]
  },
  {
   "cell_type": "code",
   "execution_count": 49,
   "metadata": {
    "scrolled": true
   },
   "outputs": [
    {
     "data": {
      "text/plain": [
       "245.93360744047627"
      ]
     },
     "execution_count": 49,
     "metadata": {},
     "output_type": "execute_result"
    }
   ],
   "source": [
    "stats.describe(t_grades_no_zeros['fb_activity']).variance"
   ]
  },
  {
   "cell_type": "markdown",
   "metadata": {},
   "source": [
    "The minimum and maximum values are:"
   ]
  },
  {
   "cell_type": "code",
   "execution_count": 50,
   "metadata": {
    "scrolled": true
   },
   "outputs": [
    {
     "data": {
      "text/plain": [
       "(90.0, 150.0)"
      ]
     },
     "execution_count": 50,
     "metadata": {},
     "output_type": "execute_result"
    }
   ],
   "source": [
    "stats.describe(t_grades_no_zeros['fb_activity']).minmax"
   ]
  },
  {
   "cell_type": "markdown",
   "metadata": {},
   "source": [
    "The mode is:"
   ]
  },
  {
   "cell_type": "code",
   "execution_count": 51,
   "metadata": {},
   "outputs": [
    {
     "data": {
      "text/plain": [
       "150.0"
      ]
     },
     "execution_count": 51,
     "metadata": {},
     "output_type": "execute_result"
    }
   ],
   "source": [
    "stats.mode(t_grades_no_zeros['fb_activity']).mode[0]"
   ]
  },
  {
   "cell_type": "markdown",
   "metadata": {},
   "source": [
    "The quantile ranges are:"
   ]
  },
  {
   "cell_type": "code",
   "execution_count": 52,
   "metadata": {
    "scrolled": true
   },
   "outputs": [
    {
     "data": {
      "text/plain": [
       "array([124.4   , 132.    , 140.0895])"
      ]
     },
     "execution_count": 52,
     "metadata": {},
     "output_type": "execute_result"
    }
   ],
   "source": [
    "stats.mstats.mquantiles(t_grades_no_zeros['fb_activity'])"
   ]
  },
  {
   "cell_type": "markdown",
   "metadata": {},
   "source": [
    "Plotting the probability of the scores still shows large deviations from a normal distribution, especially at the lower tail. However, it is closer to normal."
   ]
  },
  {
   "cell_type": "code",
   "execution_count": 53,
   "metadata": {},
   "outputs": [
    {
     "data": {
      "image/png": "[encoded data removed]",
      "text/plain": [
       "<Figure size 432x288 with 1 Axes>"
      ]
     },
     "metadata": {
      "needs_background": "light"
     },
     "output_type": "display_data"
    }
   ],
   "source": [
    "ax2 = plt.subplot()\n",
    "res = stats.probplot(t_grades_no_zeros['fb_activity'], plot = plt)\n",
    "plt.show()"
   ]
  },
  {
   "cell_type": "markdown",
   "metadata": {},
   "source": [
    "### Conclusions\n",
    "The average percentage with the zeros removed from the data is a respectable 87%. This is actually a little above my set goal of a B average in assignments by 2%."
   ]
  },
  {
   "cell_type": "code",
   "execution_count": 54,
   "metadata": {},
   "outputs": [
    {
     "data": {
      "text/plain": [
       "87.01515873015873"
      ]
     },
     "execution_count": 54,
     "metadata": {},
     "output_type": "execute_result"
    }
   ],
   "source": [
    "stats.describe(t_grades_no_zeros['fb_activity']).mean/150*100"
   ]
  },
  {
   "cell_type": "markdown",
   "metadata": {},
   "source": [
    "Surprisingly, we see that the the most frequent score (the mode) is a perfect 100% on the assignment! In this case, the mean and the mode give us different ideas about how best to summarize the performance of the class? Is it more descriptive to say that the class average was as B+ or to say that the most common score was a 100%?"
   ]
  },
  {
   "cell_type": "code",
   "execution_count": 55,
   "metadata": {},
   "outputs": [
    {
     "data": {
      "text/plain": [
       "100.0"
      ]
     },
     "execution_count": 55,
     "metadata": {},
     "output_type": "execute_result"
    }
   ],
   "source": [
    "stats.mode(t_grades_no_zeros['fb_activity']).mode[0]/150*100"
   ]
  },
  {
   "cell_type": "markdown",
   "metadata": {},
   "source": [
    "#### What about change in grades?\n",
    "The average and mode for this assignment were higher than for the \"likes\" Report, but did the class do consistently better on this assignment than the last assignment? This is exactly what a Paired Sample t-test can tell us.\n",
    "\n",
    "Previously, we talked about an independent t-test, which compares two distributions against each other. This approach assumes independence of the values.\n",
    "\n",
    "When we compare the scores for the same group of students between two assignments, our data is NOT independent. Because the you who turned in the \"likes\" Report is very much related to the you that turned in the \"off-Facebook activity\" Report, we have violated the assumption of independence. The data from both assignments is dependent on the person who did the assignments. This is also sometimes called a repeated measure. \n",
    "\n",
    "Thankfully, the Paired Sample t-test (which is what `stats.ttest_rel()` conducts) was built to correct for this violated assumption by evaluating the data in two steps. First, a Paired Sample t-test quantifies how much of the two values are similar _within_ a single person's two scores. That takes care of the dependence portion. Then something like a normal t-test is conducted that looks at the differences _between_ different people's scores.\n",
    "\n",
    "The [`ttest_rel()`](https://docs.scipy.org/doc/scipy/reference/generated/scipy.stats.ttest_rel.html) function accepts two arrays that are the same shape. It's assumed that the indexes are the same for each individual in the data. For example individual A's scores are at index 0 in both arrays, and individual B's scores are in index 1, etc.\n",
    "\n",
    "Let's compare the results between an independent t-test, which is incorrect, and a Paired Sample t-test, which is correct.\n",
    "\n",
    "##### Independent t-test"
   ]
  },
  {
   "cell_type": "code",
   "execution_count": 56,
   "metadata": {},
   "outputs": [
    {
     "data": {
      "text/plain": [
       "Ttest_indResult(statistic=1.8869118482116014, pvalue=0.06644487518701359)"
      ]
     },
     "execution_count": 56,
     "metadata": {},
     "output_type": "execute_result"
    }
   ],
   "source": [
    "stats.ttest_ind(t_grades_no_zeros['likes'], t_grades_no_zeros['fb_activity'])"
   ]
  },
  {
   "cell_type": "markdown",
   "metadata": {},
   "source": [
    "##### Paired Sample t-test"
   ]
  },
  {
   "cell_type": "code",
   "execution_count": 57,
   "metadata": {},
   "outputs": [
    {
     "data": {
      "text/plain": [
       "Ttest_relResult(statistic=2.1931574224094335, pvalue=0.040286059343552075)"
      ]
     },
     "execution_count": 57,
     "metadata": {},
     "output_type": "execute_result"
    }
   ],
   "source": [
    "stats.ttest_rel(t_grades_no_zeros['likes'], t_grades_no_zeros['fb_activity'])"
   ]
  },
  {
   "cell_type": "markdown",
   "metadata": {},
   "source": [
    "What is similar, what is different, and how can we interpret these results?"
   ]
  },
  {
   "cell_type": "code",
   "execution_count": 58,
   "metadata": {},
   "outputs": [
    {
     "data": {
      "text/plain": [
       "138.57142857142858"
      ]
     },
     "execution_count": 58,
     "metadata": {},
     "output_type": "execute_result"
    }
   ],
   "source": [
    "stats.describe(t_grades_no_zeros['likes']).mean"
   ]
  },
  {
   "cell_type": "code",
   "execution_count": 59,
   "metadata": {},
   "outputs": [
    {
     "data": {
      "text/plain": [
       "130.5227380952381"
      ]
     },
     "execution_count": 59,
     "metadata": {},
     "output_type": "execute_result"
    }
   ],
   "source": [
    "stats.describe(t_grades_no_zeros['fb_activity']).mean"
   ]
  },
  {
   "cell_type": "markdown",
   "metadata": {},
   "source": [
    "This tells us that the __after-corrections__ scores for the \"likes\" Report were significantly higher than the __before-correction__ grades for the \"off-Facebook Activity\" Report grades. That is true for the average of the class, but most importantly, is true when we take into account the dependent nature of the data. For most people, they earned a slightly lower score this time than last time."
   ]
  },
  {
   "cell_type": "code",
   "execution_count": 60,
   "metadata": {},
   "outputs": [
    {
     "name": "stderr",
     "output_type": "stream",
     "text": [
      "<ipython-input-60-88fd852c235b>:1: SettingWithCopyWarning: \n",
      "A value is trying to be set on a copy of a slice from a DataFrame.\n",
      "Try using .loc[row_indexer,col_indexer] = value instead\n",
      "\n",
      "See the caveats in the documentation: https://pandas.pydata.org/pandas-docs/stable/user_guide/indexing.html#returning-a-view-versus-a-copy\n",
      "  t_grades_no_zeros['Change in Grade'] = t_grades_no_zeros.fb_activity - t_grades_no_zeros.likes\n"
     ]
    },
    {
     "data": {
      "text/html": [
       "<div>\n",
       "<style scoped>\n",
       "    .dataframe tbody tr th:only-of-type {\n",
       "        vertical-align: middle;\n",
       "    }\n",
       "\n",
       "    .dataframe tbody tr th {\n",
       "        vertical-align: top;\n",
       "    }\n",
       "\n",
       "    .dataframe thead th {\n",
       "        text-align: right;\n",
       "    }\n",
       "</style>\n",
       "<table border=\"1\" class=\"dataframe\">\n",
       "  <thead>\n",
       "    <tr style=\"text-align: right;\">\n",
       "      <th></th>\n",
       "      <th>likes</th>\n",
       "      <th>fb_activity</th>\n",
       "      <th>id</th>\n",
       "      <th>Change in Grade</th>\n",
       "    </tr>\n",
       "  </thead>\n",
       "  <tbody>\n",
       "    <tr>\n",
       "      <th>0</th>\n",
       "      <td>145</td>\n",
       "      <td>121.0000</td>\n",
       "      <td>150782</td>\n",
       "      <td>-24.0000</td>\n",
       "    </tr>\n",
       "    <tr>\n",
       "      <th>1</th>\n",
       "      <td>141</td>\n",
       "      <td>137.0000</td>\n",
       "      <td>200123</td>\n",
       "      <td>-4.0000</td>\n",
       "    </tr>\n",
       "    <tr>\n",
       "      <th>2</th>\n",
       "      <td>147</td>\n",
       "      <td>150.0000</td>\n",
       "      <td>334680</td>\n",
       "      <td>3.0000</td>\n",
       "    </tr>\n",
       "    <tr>\n",
       "      <th>3</th>\n",
       "      <td>143</td>\n",
       "      <td>137.9850</td>\n",
       "      <td>363412</td>\n",
       "      <td>-5.0150</td>\n",
       "    </tr>\n",
       "    <tr>\n",
       "      <th>4</th>\n",
       "      <td>141</td>\n",
       "      <td>150.0000</td>\n",
       "      <td>511258</td>\n",
       "      <td>9.0000</td>\n",
       "    </tr>\n",
       "    <tr>\n",
       "      <th>7</th>\n",
       "      <td>100</td>\n",
       "      <td>105.0000</td>\n",
       "      <td>585357</td>\n",
       "      <td>5.0000</td>\n",
       "    </tr>\n",
       "    <tr>\n",
       "      <th>8</th>\n",
       "      <td>146</td>\n",
       "      <td>133.4850</td>\n",
       "      <td>618191</td>\n",
       "      <td>-12.5150</td>\n",
       "    </tr>\n",
       "    <tr>\n",
       "      <th>9</th>\n",
       "      <td>114</td>\n",
       "      <td>150.0000</td>\n",
       "      <td>656423</td>\n",
       "      <td>36.0000</td>\n",
       "    </tr>\n",
       "    <tr>\n",
       "      <th>10</th>\n",
       "      <td>145</td>\n",
       "      <td>131.0000</td>\n",
       "      <td>675426</td>\n",
       "      <td>-14.0000</td>\n",
       "    </tr>\n",
       "    <tr>\n",
       "      <th>11</th>\n",
       "      <td>138</td>\n",
       "      <td>135.0000</td>\n",
       "      <td>690806</td>\n",
       "      <td>-3.0000</td>\n",
       "    </tr>\n",
       "    <tr>\n",
       "      <th>12</th>\n",
       "      <td>135</td>\n",
       "      <td>90.0000</td>\n",
       "      <td>712253</td>\n",
       "      <td>-45.0000</td>\n",
       "    </tr>\n",
       "    <tr>\n",
       "      <th>13</th>\n",
       "      <td>141</td>\n",
       "      <td>105.0000</td>\n",
       "      <td>728811</td>\n",
       "      <td>-36.0000</td>\n",
       "    </tr>\n",
       "    <tr>\n",
       "      <th>14</th>\n",
       "      <td>144</td>\n",
       "      <td>132.0000</td>\n",
       "      <td>802492</td>\n",
       "      <td>-12.0000</td>\n",
       "    </tr>\n",
       "    <tr>\n",
       "      <th>15</th>\n",
       "      <td>141</td>\n",
       "      <td>128.0000</td>\n",
       "      <td>823578</td>\n",
       "      <td>-13.0000</td>\n",
       "    </tr>\n",
       "    <tr>\n",
       "      <th>16</th>\n",
       "      <td>129</td>\n",
       "      <td>125.0000</td>\n",
       "      <td>833228</td>\n",
       "      <td>-4.0000</td>\n",
       "    </tr>\n",
       "    <tr>\n",
       "      <th>17</th>\n",
       "      <td>141</td>\n",
       "      <td>136.0000</td>\n",
       "      <td>841201</td>\n",
       "      <td>-5.0000</td>\n",
       "    </tr>\n",
       "    <tr>\n",
       "      <th>18</th>\n",
       "      <td>137</td>\n",
       "      <td>123.0000</td>\n",
       "      <td>904031</td>\n",
       "      <td>-14.0000</td>\n",
       "    </tr>\n",
       "    <tr>\n",
       "      <th>19</th>\n",
       "      <td>147</td>\n",
       "      <td>132.0000</td>\n",
       "      <td>913028</td>\n",
       "      <td>-15.0000</td>\n",
       "    </tr>\n",
       "    <tr>\n",
       "      <th>20</th>\n",
       "      <td>141</td>\n",
       "      <td>145.0000</td>\n",
       "      <td>961877</td>\n",
       "      <td>4.0000</td>\n",
       "    </tr>\n",
       "    <tr>\n",
       "      <th>21</th>\n",
       "      <td>144</td>\n",
       "      <td>147.0075</td>\n",
       "      <td>974733</td>\n",
       "      <td>3.0075</td>\n",
       "    </tr>\n",
       "    <tr>\n",
       "      <th>22</th>\n",
       "      <td>150</td>\n",
       "      <td>127.5000</td>\n",
       "      <td>982697</td>\n",
       "      <td>-22.5000</td>\n",
       "    </tr>\n",
       "  </tbody>\n",
       "</table>\n",
       "</div>"
      ],
      "text/plain": [
       "    likes  fb_activity      id  Change in Grade\n",
       "0     145     121.0000  150782         -24.0000\n",
       "1     141     137.0000  200123          -4.0000\n",
       "2     147     150.0000  334680           3.0000\n",
       "3     143     137.9850  363412          -5.0150\n",
       "4     141     150.0000  511258           9.0000\n",
       "7     100     105.0000  585357           5.0000\n",
       "8     146     133.4850  618191         -12.5150\n",
       "9     114     150.0000  656423          36.0000\n",
       "10    145     131.0000  675426         -14.0000\n",
       "11    138     135.0000  690806          -3.0000\n",
       "12    135      90.0000  712253         -45.0000\n",
       "13    141     105.0000  728811         -36.0000\n",
       "14    144     132.0000  802492         -12.0000\n",
       "15    141     128.0000  823578         -13.0000\n",
       "16    129     125.0000  833228          -4.0000\n",
       "17    141     136.0000  841201          -5.0000\n",
       "18    137     123.0000  904031         -14.0000\n",
       "19    147     132.0000  913028         -15.0000\n",
       "20    141     145.0000  961877           4.0000\n",
       "21    144     147.0075  974733           3.0075\n",
       "22    150     127.5000  982697         -22.5000"
      ]
     },
     "execution_count": 60,
     "metadata": {},
     "output_type": "execute_result"
    }
   ],
   "source": [
    "t_grades_no_zeros['Change in Grade'] = t_grades_no_zeros.fb_activity - t_grades_no_zeros.likes\n",
    "t_grades_no_zeros"
   ]
  },
  {
   "cell_type": "markdown",
   "metadata": {},
   "source": [
    "__The same solution__: This assignment was more demanding than the last one, but you also have had more training. To me, the solution from last time worked well. Those who wanted to improve their scores were able to do so, boosting the overall class average. I have no problem with doing that again.\n",
    "\n",
    "So, students can submit a corrected version of the assignment to earn back half credit of the points they missed. The deadline for corrections will be:<br />\n",
    "__9:00 am ET March 16.__\n",
    "\n",
    "For me, this is a fair solution. It still requires more work for those who did not do well on the first assignment. Those with less to fix can earn back some points with minimal effort. And those who already earned an A on the assignment can focus on other things."
   ]
  }
 ],
 "metadata": {
  "kernelspec": {
   "display_name": "Python 3",
   "language": "python",
   "name": "python3"
  },
  "language_info": {
   "codemirror_mode": {
    "name": "ipython",
    "version": 3
   },
   "file_extension": ".py",
   "mimetype": "text/x-python",
   "name": "python",
   "nbconvert_exporter": "python",
   "pygments_lexer": "ipython3",
   "version": "3.9.1"
  }
 },
 "nbformat": 4,
 "nbformat_minor": 4
}

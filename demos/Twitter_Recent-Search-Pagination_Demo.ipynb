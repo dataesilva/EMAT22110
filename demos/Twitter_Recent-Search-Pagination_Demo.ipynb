{
 "cells": [
  {
   "cell_type": "code",
   "execution_count": 1,
   "id": "pursuant-stopping",
   "metadata": {},
   "outputs": [],
   "source": [
    "import requests\n",
    "import urllib\n",
    "import json\n",
    "import pandas as pd"
   ]
  },
  {
   "cell_type": "code",
   "execution_count": 2,
   "id": "postal-trainer",
   "metadata": {},
   "outputs": [],
   "source": [
    "tokens = pd.read_csv('Twitter-Keys_4.20.21.txt', sep = '\\t', header = None).T\n",
    "tokens.columns = tokens.iloc[0]\n",
    "tokens = tokens[1:]\n",
    "#tokens.Bearer_Token[1]"
   ]
  },
  {
   "cell_type": "code",
   "execution_count": 3,
   "id": "orange-revolution",
   "metadata": {},
   "outputs": [],
   "source": [
    "def auth():\n",
    "    return tokens.Bearer_Token[1]\n",
    "\n",
    "#print(auth())"
   ]
  },
  {
   "cell_type": "code",
   "execution_count": 4,
   "id": "mathematical-legislation",
   "metadata": {},
   "outputs": [
    {
     "name": "stdout",
     "output_type": "stream",
     "text": [
      "https://api.twitter.com/2/tweets/search/recent?query=%28%22Columbus%20Crew%22%29%20OR%20%23Crew96%20lang%3Aen%20-is%3Aretweet&tweet.fields=author_id,conversation_id,public_metrics,id,text\n"
     ]
    }
   ],
   "source": [
    "def create_url():\n",
    "    #query = '(\"Columbus Crew\") OR #Crew96 -is:retweet'\n",
    "    query = urllib.parse.quote('(\"Columbus Crew\") OR #Crew96 lang:en -is:retweet')\n",
    "    tweet_fields = 'tweet.fields=author_id,conversation_id,public_metrics,id,text'\n",
    "    url = 'https://api.twitter.com/2/tweets/search/recent?query={}&{}'.format(query, tweet_fields)\n",
    "    return url\n",
    "\n",
    "print(create_url())"
   ]
  },
  {
   "cell_type": "code",
   "execution_count": 5,
   "id": "agricultural-anniversary",
   "metadata": {},
   "outputs": [],
   "source": [
    "def create_headers(bearer_token):\n",
    "    headers = {\"Authorization\": \"Bearer {}\".format(bearer_token)}\n",
    "    return headers\n",
    "\n",
    "#print(create_headers(tokens.Bearer_Token[1]))"
   ]
  },
  {
   "cell_type": "code",
   "execution_count": 6,
   "id": "muslim-format",
   "metadata": {},
   "outputs": [],
   "source": [
    "def connect_to_endpoint(url, headers):\n",
    "    response = requests.request(\"GET\", url, headers=headers)\n",
    "    print(response.status_code)\n",
    "    if response.status_code != 200:\n",
    "        raise Exception(response.status_code, response.text)\n",
    "    return response.json()"
   ]
  },
  {
   "cell_type": "code",
   "execution_count": 7,
   "id": "ideal-legislation",
   "metadata": {},
   "outputs": [],
   "source": [
    "def one_request():\n",
    "    bearer_token = auth()\n",
    "    url = create_url()\n",
    "    headers = create_headers(bearer_token)\n",
    "    json_response = connect_to_endpoint(url, headers)\n",
    "    #print(json.dumps(json_response, indent = 4, sort_keys = True))\n",
    "    return json_response"
   ]
  },
  {
   "cell_type": "code",
   "execution_count": 8,
   "id": "caroline-separate",
   "metadata": {},
   "outputs": [
    {
     "name": "stdout",
     "output_type": "stream",
     "text": [
      "200\n"
     ]
    }
   ],
   "source": [
    "results = one_request()"
   ]
  },
  {
   "cell_type": "code",
   "execution_count": 9,
   "id": "blind-circumstances",
   "metadata": {},
   "outputs": [],
   "source": [
    "#results"
   ]
  },
  {
   "cell_type": "code",
   "execution_count": 10,
   "id": "scheduled-disclosure",
   "metadata": {},
   "outputs": [
    {
     "data": {
      "text/plain": [
       "dict_keys(['data', 'meta'])"
      ]
     },
     "execution_count": 10,
     "metadata": {},
     "output_type": "execute_result"
    }
   ],
   "source": [
    "results.keys()"
   ]
  },
  {
   "cell_type": "code",
   "execution_count": 11,
   "id": "beneficial-contamination",
   "metadata": {},
   "outputs": [],
   "source": [
    "tweet_dat = pd.DataFrame(results['data'])"
   ]
  },
  {
   "cell_type": "code",
   "execution_count": 12,
   "id": "boring-quantum",
   "metadata": {},
   "outputs": [
    {
     "data": {
      "text/html": [
       "<div>\n",
       "<style scoped>\n",
       "    .dataframe tbody tr th:only-of-type {\n",
       "        vertical-align: middle;\n",
       "    }\n",
       "\n",
       "    .dataframe tbody tr th {\n",
       "        vertical-align: top;\n",
       "    }\n",
       "\n",
       "    .dataframe thead th {\n",
       "        text-align: right;\n",
       "    }\n",
       "</style>\n",
       "<table border=\"1\" class=\"dataframe\">\n",
       "  <thead>\n",
       "    <tr style=\"text-align: right;\">\n",
       "      <th></th>\n",
       "      <th>text</th>\n",
       "      <th>public_metrics</th>\n",
       "      <th>conversation_id</th>\n",
       "      <th>author_id</th>\n",
       "      <th>id</th>\n",
       "    </tr>\n",
       "  </thead>\n",
       "  <tbody>\n",
       "    <tr>\n",
       "      <th>0</th>\n",
       "      <td>I'm gonna be a #columbus citizen this Friday. ...</td>\n",
       "      <td>{'retweet_count': 0, 'reply_count': 0, 'like_c...</td>\n",
       "      <td>1385085183213383680</td>\n",
       "      <td>868209115</td>\n",
       "      <td>1385085183213383680</td>\n",
       "    </tr>\n",
       "    <tr>\n",
       "      <th>1</th>\n",
       "      <td>I think a thing that will help to ease LigaMX ...</td>\n",
       "      <td>{'retweet_count': 0, 'reply_count': 1, 'like_c...</td>\n",
       "      <td>1385084124092903429</td>\n",
       "      <td>3296109765</td>\n",
       "      <td>1385084124092903429</td>\n",
       "    </tr>\n",
       "  </tbody>\n",
       "</table>\n",
       "</div>"
      ],
      "text/plain": [
       "                                                text  \\\n",
       "0  I'm gonna be a #columbus citizen this Friday. ...   \n",
       "1  I think a thing that will help to ease LigaMX ...   \n",
       "\n",
       "                                      public_metrics      conversation_id  \\\n",
       "0  {'retweet_count': 0, 'reply_count': 0, 'like_c...  1385085183213383680   \n",
       "1  {'retweet_count': 0, 'reply_count': 1, 'like_c...  1385084124092903429   \n",
       "\n",
       "    author_id                   id  \n",
       "0   868209115  1385085183213383680  \n",
       "1  3296109765  1385084124092903429  "
      ]
     },
     "execution_count": 12,
     "metadata": {},
     "output_type": "execute_result"
    }
   ],
   "source": [
    "tweet_dat.head(2)"
   ]
  },
  {
   "cell_type": "code",
   "execution_count": 13,
   "id": "planned-viking",
   "metadata": {},
   "outputs": [],
   "source": [
    "metrics = pd.DataFrame(list(tweet_dat['public_metrics']))"
   ]
  },
  {
   "cell_type": "code",
   "execution_count": 14,
   "id": "alternate-theology",
   "metadata": {},
   "outputs": [
    {
     "data": {
      "text/html": [
       "<div>\n",
       "<style scoped>\n",
       "    .dataframe tbody tr th:only-of-type {\n",
       "        vertical-align: middle;\n",
       "    }\n",
       "\n",
       "    .dataframe tbody tr th {\n",
       "        vertical-align: top;\n",
       "    }\n",
       "\n",
       "    .dataframe thead th {\n",
       "        text-align: right;\n",
       "    }\n",
       "</style>\n",
       "<table border=\"1\" class=\"dataframe\">\n",
       "  <thead>\n",
       "    <tr style=\"text-align: right;\">\n",
       "      <th></th>\n",
       "      <th>retweet_count</th>\n",
       "      <th>reply_count</th>\n",
       "      <th>like_count</th>\n",
       "      <th>quote_count</th>\n",
       "    </tr>\n",
       "  </thead>\n",
       "  <tbody>\n",
       "    <tr>\n",
       "      <th>0</th>\n",
       "      <td>0</td>\n",
       "      <td>0</td>\n",
       "      <td>1</td>\n",
       "      <td>0</td>\n",
       "    </tr>\n",
       "    <tr>\n",
       "      <th>1</th>\n",
       "      <td>0</td>\n",
       "      <td>1</td>\n",
       "      <td>0</td>\n",
       "      <td>0</td>\n",
       "    </tr>\n",
       "  </tbody>\n",
       "</table>\n",
       "</div>"
      ],
      "text/plain": [
       "   retweet_count  reply_count  like_count  quote_count\n",
       "0              0            0           1            0\n",
       "1              0            1           0            0"
      ]
     },
     "execution_count": 14,
     "metadata": {},
     "output_type": "execute_result"
    }
   ],
   "source": [
    "metrics.head(2)"
   ]
  },
  {
   "cell_type": "code",
   "execution_count": 15,
   "id": "loose-sigma",
   "metadata": {},
   "outputs": [
    {
     "data": {
      "text/html": [
       "<div>\n",
       "<style scoped>\n",
       "    .dataframe tbody tr th:only-of-type {\n",
       "        vertical-align: middle;\n",
       "    }\n",
       "\n",
       "    .dataframe tbody tr th {\n",
       "        vertical-align: top;\n",
       "    }\n",
       "\n",
       "    .dataframe thead th {\n",
       "        text-align: right;\n",
       "    }\n",
       "</style>\n",
       "<table border=\"1\" class=\"dataframe\">\n",
       "  <thead>\n",
       "    <tr style=\"text-align: right;\">\n",
       "      <th></th>\n",
       "      <th>text</th>\n",
       "      <th>conversation_id</th>\n",
       "      <th>author_id</th>\n",
       "      <th>id</th>\n",
       "    </tr>\n",
       "  </thead>\n",
       "  <tbody>\n",
       "    <tr>\n",
       "      <th>0</th>\n",
       "      <td>I'm gonna be a #columbus citizen this Friday. ...</td>\n",
       "      <td>1385085183213383680</td>\n",
       "      <td>868209115</td>\n",
       "      <td>1385085183213383680</td>\n",
       "    </tr>\n",
       "    <tr>\n",
       "      <th>1</th>\n",
       "      <td>I think a thing that will help to ease LigaMX ...</td>\n",
       "      <td>1385084124092903429</td>\n",
       "      <td>3296109765</td>\n",
       "      <td>1385084124092903429</td>\n",
       "    </tr>\n",
       "  </tbody>\n",
       "</table>\n",
       "</div>"
      ],
      "text/plain": [
       "                                                text      conversation_id  \\\n",
       "0  I'm gonna be a #columbus citizen this Friday. ...  1385085183213383680   \n",
       "1  I think a thing that will help to ease LigaMX ...  1385084124092903429   \n",
       "\n",
       "    author_id                   id  \n",
       "0   868209115  1385085183213383680  \n",
       "1  3296109765  1385084124092903429  "
      ]
     },
     "execution_count": 15,
     "metadata": {},
     "output_type": "execute_result"
    }
   ],
   "source": [
    "tweet_dat.drop('public_metrics', axis=1).head(2)"
   ]
  },
  {
   "cell_type": "code",
   "execution_count": 16,
   "id": "political-automation",
   "metadata": {},
   "outputs": [],
   "source": [
    "full_dat = pd.concat([tweet_dat.drop('public_metrics', axis = 1).reset_index(drop=True), metrics], axis=1)"
   ]
  },
  {
   "cell_type": "code",
   "execution_count": 17,
   "id": "surrounded-binding",
   "metadata": {},
   "outputs": [
    {
     "data": {
      "text/html": [
       "<div>\n",
       "<style scoped>\n",
       "    .dataframe tbody tr th:only-of-type {\n",
       "        vertical-align: middle;\n",
       "    }\n",
       "\n",
       "    .dataframe tbody tr th {\n",
       "        vertical-align: top;\n",
       "    }\n",
       "\n",
       "    .dataframe thead th {\n",
       "        text-align: right;\n",
       "    }\n",
       "</style>\n",
       "<table border=\"1\" class=\"dataframe\">\n",
       "  <thead>\n",
       "    <tr style=\"text-align: right;\">\n",
       "      <th></th>\n",
       "      <th>text</th>\n",
       "      <th>conversation_id</th>\n",
       "      <th>author_id</th>\n",
       "      <th>id</th>\n",
       "      <th>retweet_count</th>\n",
       "      <th>reply_count</th>\n",
       "      <th>like_count</th>\n",
       "      <th>quote_count</th>\n",
       "    </tr>\n",
       "  </thead>\n",
       "  <tbody>\n",
       "    <tr>\n",
       "      <th>0</th>\n",
       "      <td>I'm gonna be a #columbus citizen this Friday. ...</td>\n",
       "      <td>1385085183213383680</td>\n",
       "      <td>868209115</td>\n",
       "      <td>1385085183213383680</td>\n",
       "      <td>0</td>\n",
       "      <td>0</td>\n",
       "      <td>1</td>\n",
       "      <td>0</td>\n",
       "    </tr>\n",
       "    <tr>\n",
       "      <th>1</th>\n",
       "      <td>I think a thing that will help to ease LigaMX ...</td>\n",
       "      <td>1385084124092903429</td>\n",
       "      <td>3296109765</td>\n",
       "      <td>1385084124092903429</td>\n",
       "      <td>0</td>\n",
       "      <td>1</td>\n",
       "      <td>0</td>\n",
       "      <td>0</td>\n",
       "    </tr>\n",
       "  </tbody>\n",
       "</table>\n",
       "</div>"
      ],
      "text/plain": [
       "                                                text      conversation_id  \\\n",
       "0  I'm gonna be a #columbus citizen this Friday. ...  1385085183213383680   \n",
       "1  I think a thing that will help to ease LigaMX ...  1385084124092903429   \n",
       "\n",
       "    author_id                   id  retweet_count  reply_count  like_count  \\\n",
       "0   868209115  1385085183213383680              0            0           1   \n",
       "1  3296109765  1385084124092903429              0            1           0   \n",
       "\n",
       "   quote_count  \n",
       "0            0  \n",
       "1            0  "
      ]
     },
     "execution_count": 17,
     "metadata": {},
     "output_type": "execute_result"
    }
   ],
   "source": [
    "full_dat.head(2)"
   ]
  },
  {
   "cell_type": "code",
   "execution_count": 18,
   "id": "ranking-fault",
   "metadata": {},
   "outputs": [
    {
     "data": {
      "text/plain": [
       "{'newest_id': '1385085183213383680',\n",
       " 'oldest_id': '1385045506670346249',\n",
       " 'result_count': 10,\n",
       " 'next_token': 'b26v89c19zqg8o3fostsvxkmztntx2w2gwhrpigv70nel'}"
      ]
     },
     "execution_count": 18,
     "metadata": {},
     "output_type": "execute_result"
    }
   ],
   "source": [
    "results['meta']"
   ]
  },
  {
   "cell_type": "code",
   "execution_count": 19,
   "id": "thrown-jewel",
   "metadata": {},
   "outputs": [
    {
     "data": {
      "text/plain": [
       "'b26v89c19zqg8o3fostsvxkmztntx2w2gwhrpigv70nel'"
      ]
     },
     "execution_count": 19,
     "metadata": {},
     "output_type": "execute_result"
    }
   ],
   "source": [
    "results['meta']['next_token']"
   ]
  },
  {
   "cell_type": "markdown",
   "id": "macro-orbit",
   "metadata": {},
   "source": [
    "Check out the [Pagination documentation](https://developer.twitter.com/en/docs/twitter-api/pagination)"
   ]
  },
  {
   "cell_type": "code",
   "execution_count": 20,
   "id": "forward-productivity",
   "metadata": {},
   "outputs": [
    {
     "name": "stdout",
     "output_type": "stream",
     "text": [
      "https://api.twitter.com/2/tweets/search/recent?query=%28%22Columbus%20Crew%22%29%20OR%20%23Crew96%20-is%3Aretweet%20lang%3Aen&tweet.fields=author_id,conversation_id,public_metrics,id,text&max_results=10\n",
      "https://api.twitter.com/2/tweets/search/recent?query=%28%22Columbus%20Crew%22%29%20OR%20%23Crew96%20-is%3Aretweet%20lang%3Aen&max_results=10&next_token=000000000000000&tweet.fields=author_id,conversation_id,public_metrics,id,text\n"
     ]
    }
   ],
   "source": [
    "def create_url_pag(next_token = None):\n",
    "    if (next_token):\n",
    "        #query = '(\"Columbus Crew\") OR #Crew96 -is:retweet'\n",
    "        query = urllib.parse.quote('(\"Columbus Crew\") OR #Crew96 -is:retweet lang:en')\n",
    "        tweet_fields = 'tweet.fields=author_id,conversation_id,public_metrics,id,text'\n",
    "        pagination = str(next_token)\n",
    "        url = 'https://api.twitter.com/2/tweets/search/recent?query={}&max_results=10&next_token={}&{}'.format(query, pagination, tweet_fields)\n",
    "        return url\n",
    "    else:\n",
    "        #query = '(\"Columbus Crew\") OR #Crew96 -is:retweet'\n",
    "        query = urllib.parse.quote('(\"Columbus Crew\") OR #Crew96 -is:retweet lang:en')\n",
    "        tweet_fields = 'tweet.fields=author_id,conversation_id,public_metrics,id,text'\n",
    "        url = 'https://api.twitter.com/2/tweets/search/recent?query={}&{}&max_results=10'.format(query, tweet_fields)\n",
    "        return url\n",
    "    \n",
    "print(create_url_pag(None))\n",
    "print(create_url_pag('000000000000000'))"
   ]
  },
  {
   "cell_type": "code",
   "execution_count": 21,
   "id": "adverse-drunk",
   "metadata": {},
   "outputs": [],
   "source": [
    "def pages():\n",
    "    count = 0\n",
    "    next_token = None\n",
    "    dat = pd.DataFrame()\n",
    "    while (count < 3):\n",
    "        bearer_token = auth()\n",
    "        url = create_url_pag(next_token)\n",
    "        #print(url)\n",
    "        headers = create_headers(bearer_token)\n",
    "        json_response = connect_to_endpoint(url, headers)\n",
    "        #print(json.dumps(json_response, indent = 4, sort_keys = True))\n",
    "        next_token = json_response['meta']['next_token']\n",
    "        dat = dat.append(pd.DataFrame(json_response['data']))\n",
    "        #print(pd.DataFrame(json_response['data']))\n",
    "        count = count + 1\n",
    "    return dat"
   ]
  },
  {
   "cell_type": "code",
   "execution_count": 22,
   "id": "progressive-helicopter",
   "metadata": {},
   "outputs": [
    {
     "name": "stdout",
     "output_type": "stream",
     "text": [
      "200\n",
      "200\n",
      "200\n"
     ]
    }
   ],
   "source": [
    "pages = pages()"
   ]
  },
  {
   "cell_type": "code",
   "execution_count": 23,
   "id": "conservative-ontario",
   "metadata": {},
   "outputs": [
    {
     "data": {
      "text/html": [
       "<div>\n",
       "<style scoped>\n",
       "    .dataframe tbody tr th:only-of-type {\n",
       "        vertical-align: middle;\n",
       "    }\n",
       "\n",
       "    .dataframe tbody tr th {\n",
       "        vertical-align: top;\n",
       "    }\n",
       "\n",
       "    .dataframe thead th {\n",
       "        text-align: right;\n",
       "    }\n",
       "</style>\n",
       "<table border=\"1\" class=\"dataframe\">\n",
       "  <thead>\n",
       "    <tr style=\"text-align: right;\">\n",
       "      <th></th>\n",
       "      <th>public_metrics</th>\n",
       "      <th>author_id</th>\n",
       "      <th>text</th>\n",
       "      <th>id</th>\n",
       "      <th>conversation_id</th>\n",
       "    </tr>\n",
       "  </thead>\n",
       "  <tbody>\n",
       "    <tr>\n",
       "      <th>0</th>\n",
       "      <td>{'retweet_count': 0, 'reply_count': 0, 'like_c...</td>\n",
       "      <td>868209115</td>\n",
       "      <td>I'm gonna be a #columbus citizen this Friday. ...</td>\n",
       "      <td>1385085183213383680</td>\n",
       "      <td>1385085183213383680</td>\n",
       "    </tr>\n",
       "    <tr>\n",
       "      <th>1</th>\n",
       "      <td>{'retweet_count': 0, 'reply_count': 1, 'like_c...</td>\n",
       "      <td>3296109765</td>\n",
       "      <td>I think a thing that will help to ease LigaMX ...</td>\n",
       "      <td>1385084124092903429</td>\n",
       "      <td>1385084124092903429</td>\n",
       "    </tr>\n",
       "  </tbody>\n",
       "</table>\n",
       "</div>"
      ],
      "text/plain": [
       "                                      public_metrics   author_id  \\\n",
       "0  {'retweet_count': 0, 'reply_count': 0, 'like_c...   868209115   \n",
       "1  {'retweet_count': 0, 'reply_count': 1, 'like_c...  3296109765   \n",
       "\n",
       "                                                text                   id  \\\n",
       "0  I'm gonna be a #columbus citizen this Friday. ...  1385085183213383680   \n",
       "1  I think a thing that will help to ease LigaMX ...  1385084124092903429   \n",
       "\n",
       "       conversation_id  \n",
       "0  1385085183213383680  \n",
       "1  1385084124092903429  "
      ]
     },
     "execution_count": 23,
     "metadata": {},
     "output_type": "execute_result"
    }
   ],
   "source": [
    "pages.head(2)"
   ]
  },
  {
   "cell_type": "code",
   "execution_count": 24,
   "id": "indonesian-thermal",
   "metadata": {},
   "outputs": [],
   "source": [
    "metrics_full = pd.DataFrame(list(pages['public_metrics']))"
   ]
  },
  {
   "cell_type": "code",
   "execution_count": 25,
   "id": "chemical-primary",
   "metadata": {},
   "outputs": [
    {
     "data": {
      "text/html": [
       "<div>\n",
       "<style scoped>\n",
       "    .dataframe tbody tr th:only-of-type {\n",
       "        vertical-align: middle;\n",
       "    }\n",
       "\n",
       "    .dataframe tbody tr th {\n",
       "        vertical-align: top;\n",
       "    }\n",
       "\n",
       "    .dataframe thead th {\n",
       "        text-align: right;\n",
       "    }\n",
       "</style>\n",
       "<table border=\"1\" class=\"dataframe\">\n",
       "  <thead>\n",
       "    <tr style=\"text-align: right;\">\n",
       "      <th></th>\n",
       "      <th>retweet_count</th>\n",
       "      <th>reply_count</th>\n",
       "      <th>like_count</th>\n",
       "      <th>quote_count</th>\n",
       "    </tr>\n",
       "  </thead>\n",
       "  <tbody>\n",
       "    <tr>\n",
       "      <th>0</th>\n",
       "      <td>0</td>\n",
       "      <td>0</td>\n",
       "      <td>1</td>\n",
       "      <td>0</td>\n",
       "    </tr>\n",
       "    <tr>\n",
       "      <th>1</th>\n",
       "      <td>0</td>\n",
       "      <td>1</td>\n",
       "      <td>0</td>\n",
       "      <td>0</td>\n",
       "    </tr>\n",
       "  </tbody>\n",
       "</table>\n",
       "</div>"
      ],
      "text/plain": [
       "   retweet_count  reply_count  like_count  quote_count\n",
       "0              0            0           1            0\n",
       "1              0            1           0            0"
      ]
     },
     "execution_count": 25,
     "metadata": {},
     "output_type": "execute_result"
    }
   ],
   "source": [
    "metrics_full.head(2)"
   ]
  },
  {
   "cell_type": "code",
   "execution_count": 26,
   "id": "ready-hours",
   "metadata": {},
   "outputs": [],
   "source": [
    "full_dat2 = pd.concat([pages.drop('public_metrics', axis = 1).reset_index(drop=True), metrics_full], axis=1)"
   ]
  },
  {
   "cell_type": "code",
   "execution_count": 27,
   "id": "finite-reputation",
   "metadata": {},
   "outputs": [
    {
     "data": {
      "text/html": [
       "<div>\n",
       "<style scoped>\n",
       "    .dataframe tbody tr th:only-of-type {\n",
       "        vertical-align: middle;\n",
       "    }\n",
       "\n",
       "    .dataframe tbody tr th {\n",
       "        vertical-align: top;\n",
       "    }\n",
       "\n",
       "    .dataframe thead th {\n",
       "        text-align: right;\n",
       "    }\n",
       "</style>\n",
       "<table border=\"1\" class=\"dataframe\">\n",
       "  <thead>\n",
       "    <tr style=\"text-align: right;\">\n",
       "      <th></th>\n",
       "      <th>author_id</th>\n",
       "      <th>text</th>\n",
       "      <th>id</th>\n",
       "      <th>conversation_id</th>\n",
       "      <th>retweet_count</th>\n",
       "      <th>reply_count</th>\n",
       "      <th>like_count</th>\n",
       "      <th>quote_count</th>\n",
       "    </tr>\n",
       "  </thead>\n",
       "  <tbody>\n",
       "    <tr>\n",
       "      <th>0</th>\n",
       "      <td>868209115</td>\n",
       "      <td>I'm gonna be a #columbus citizen this Friday. ...</td>\n",
       "      <td>1385085183213383680</td>\n",
       "      <td>1385085183213383680</td>\n",
       "      <td>0</td>\n",
       "      <td>0</td>\n",
       "      <td>1</td>\n",
       "      <td>0</td>\n",
       "    </tr>\n",
       "    <tr>\n",
       "      <th>1</th>\n",
       "      <td>3296109765</td>\n",
       "      <td>I think a thing that will help to ease LigaMX ...</td>\n",
       "      <td>1385084124092903429</td>\n",
       "      <td>1385084124092903429</td>\n",
       "      <td>0</td>\n",
       "      <td>1</td>\n",
       "      <td>0</td>\n",
       "      <td>0</td>\n",
       "    </tr>\n",
       "  </tbody>\n",
       "</table>\n",
       "</div>"
      ],
      "text/plain": [
       "    author_id                                               text  \\\n",
       "0   868209115  I'm gonna be a #columbus citizen this Friday. ...   \n",
       "1  3296109765  I think a thing that will help to ease LigaMX ...   \n",
       "\n",
       "                    id      conversation_id  retweet_count  reply_count  \\\n",
       "0  1385085183213383680  1385085183213383680              0            0   \n",
       "1  1385084124092903429  1385084124092903429              0            1   \n",
       "\n",
       "   like_count  quote_count  \n",
       "0           1            0  \n",
       "1           0            0  "
      ]
     },
     "execution_count": 27,
     "metadata": {},
     "output_type": "execute_result"
    }
   ],
   "source": [
    "full_dat2.head(2)"
   ]
  },
  {
   "cell_type": "code",
   "execution_count": 28,
   "id": "alternate-airplane",
   "metadata": {},
   "outputs": [
    {
     "data": {
      "text/plain": [
       "30"
      ]
     },
     "execution_count": 28,
     "metadata": {},
     "output_type": "execute_result"
    }
   ],
   "source": [
    "len(full_dat2.index)"
   ]
  }
 ],
 "metadata": {
  "kernelspec": {
   "display_name": "Python 3",
   "language": "python",
   "name": "python3"
  },
  "language_info": {
   "codemirror_mode": {
    "name": "ipython",
    "version": 3
   },
   "file_extension": ".py",
   "mimetype": "text/x-python",
   "name": "python",
   "nbconvert_exporter": "python",
   "pygments_lexer": "ipython3",
   "version": "3.9.2"
  }
 },
 "nbformat": 4,
 "nbformat_minor": 5
}

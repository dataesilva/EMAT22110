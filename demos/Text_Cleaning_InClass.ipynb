{
 "cells": [
  {
   "cell_type": "code",
   "execution_count": 1,
   "metadata": {},
   "outputs": [],
   "source": [
    "#conda install nltk\n",
    "\n",
    "import nltk\n",
    "from nltk import tokenize as tk\n",
    "from nltk import FreqDist\n",
    "import pandas as pd\n",
    "from nltk.corpus import stopwords\n",
    "#import matplotlib\n",
    "import string"
   ]
  },
  {
   "cell_type": "code",
   "execution_count": 16,
   "metadata": {},
   "outputs": [
    {
     "data": {
      "text/plain": [
       "Index(['Unnamed: 0', '_id', '@', 'article', 'body', 'comments', 'createdAt',\n",
       "       'creator', 'depth', 'depthRaw', 'hashtags', 'id', 'impressions',\n",
       "       'links', 'preview', 'reposts', 'shareLink', 'sensitive', 'state',\n",
       "       'upvotes', 'filepath', 'filename', 'parent', 'root'],\n",
       "      dtype='object')"
      ]
     },
     "execution_count": 16,
     "metadata": {},
     "output_type": "execute_result"
    }
   ],
   "source": [
    "posts = pd.read_csv(\"H:/Dropbox/Social Media Projects/Parler/NewWork/merge3-8-21.csv\", encoding = 'utf-8')\n",
    "posts.keys()"
   ]
  },
  {
   "cell_type": "code",
   "execution_count": 17,
   "metadata": {},
   "outputs": [
    {
     "data": {
      "text/plain": [
       "0    Huh? Joe Biden Links Trump to Murders Of Black...\n",
       "1    NPR Fact Checks Trump: Sadiq Khan Isn't ‘Half ...\n",
       "2    Nike Celebrates Oppression of Women - Promotes...\n",
       "3    A Running List Of All The 2020 Dems Who Want I...\n",
       "4                                   #WriteInTrumpForGA\n",
       "5    I just joined Parler! Looking forward to meeti...\n",
       "6                                                  NaN\n",
       "7                                                  NaN\n",
       "8    Watch #presidenttrump video #censorship by #tw...\n",
       "9    bull-rushing inside the U.S. Capitol building\\...\n",
       "Name: body, dtype: object"
      ]
     },
     "execution_count": 17,
     "metadata": {},
     "output_type": "execute_result"
    }
   ],
   "source": [
    "posts['body'][0:10]"
   ]
  },
  {
   "cell_type": "code",
   "execution_count": 18,
   "metadata": {},
   "outputs": [
    {
     "data": {
      "text/plain": [
       "0    Huh? Joe Biden Links Trump to Murders Of Black...\n",
       "1    NPR Fact Checks Trump: Sadiq Khan Isn't ‘Half ...\n",
       "2    Nike Celebrates Oppression of Women - Promotes...\n",
       "3    A Running List Of All The 2020 Dems Who Want I...\n",
       "4                                   #WriteInTrumpForGA\n",
       "5    I just joined Parler! Looking forward to meeti...\n",
       "6                                                    0\n",
       "7                                                    0\n",
       "8    Watch #presidenttrump video #censorship by #tw...\n",
       "9    bull-rushing inside the U.S. Capitol building\\...\n",
       "Name: echo_labeled, dtype: object"
      ]
     },
     "execution_count": 18,
     "metadata": {},
     "output_type": "execute_result"
    }
   ],
   "source": [
    "echo_labeled = []\n",
    "for i in posts['body']:\n",
    "    if type(i) == str:\n",
    "        echo_labeled.append(i)\n",
    "    else:\n",
    "        echo_labeled.append('0')\n",
    "posts['echo_labeled'] = echo_labeled\n",
    "posts['echo_labeled'][0:10]"
   ]
  },
  {
   "cell_type": "code",
   "execution_count": 20,
   "metadata": {},
   "outputs": [],
   "source": [
    "posts['body_lowered'] = [x.lower() for x in posts['echo_labeled']]"
   ]
  },
  {
   "cell_type": "code",
   "execution_count": 22,
   "metadata": {},
   "outputs": [
    {
     "data": {
      "text/plain": [
       "0    huh? joe biden links trump to murders of black...\n",
       "1    npr fact checks trump: sadiq khan isn't ‘half ...\n",
       "2    nike celebrates oppression of women - promotes...\n",
       "3    a running list of all the 2020 dems who want i...\n",
       "4                                   #writeintrumpforga\n",
       "5    i just joined parler! looking forward to meeti...\n",
       "6                                                    0\n",
       "7                                                    0\n",
       "8    watch #presidenttrump video #censorship by #tw...\n",
       "9    bull-rushing inside the u.s. capitol building\\...\n",
       "Name: body_lowered, dtype: object"
      ]
     },
     "execution_count": 22,
     "metadata": {},
     "output_type": "execute_result"
    }
   ],
   "source": [
    "posts['body_lowered'][0:10]"
   ]
  },
  {
   "cell_type": "code",
   "execution_count": 35,
   "metadata": {},
   "outputs": [
    {
     "data": {
      "text/plain": [
       "0        [huh, ?, joe, biden, links, trump, to, murders...\n",
       "1        [npr, fact, checks, trump, :, sadiq, khan, is,...\n",
       "2        [nike, celebrates, oppression, of, women, -, p...\n",
       "3        [a, running, list, of, all, the, 2020, dems, w...\n",
       "4                                   [#, writeintrumpforga]\n",
       "                               ...                        \n",
       "12083                               [this, is, awesome, 😍]\n",
       "12084    [no, price, gouging, here, !, #, shopclub, #, ...\n",
       "12085                  [winter, must, haves, for, sure, !]\n",
       "12086                           [hello, from, wyoming, 🇺🇸]\n",
       "12087    [i, just, joined, parler, !, looking, forward,...\n",
       "Name: tokens, Length: 12088, dtype: object"
      ]
     },
     "execution_count": 35,
     "metadata": {},
     "output_type": "execute_result"
    }
   ],
   "source": [
    "posts['tokens'] = [tk.word_tokenize(x) for x in posts['body_lowered']]\n",
    "posts['tokens']"
   ]
  },
  {
   "cell_type": "code",
   "execution_count": 40,
   "metadata": {},
   "outputs": [],
   "source": [
    "filtered = []\n",
    "for i in posts['tokens']:\n",
    "    filtered.append([word for word in i if word not in stopwords.words('english')])\n",
    "    \n",
    "posts['filtered'] = filtered"
   ]
  },
  {
   "cell_type": "code",
   "execution_count": 42,
   "metadata": {},
   "outputs": [
    {
     "data": {
      "text/plain": [
       "['npr',\n",
       " 'fact',\n",
       " 'checks',\n",
       " 'trump',\n",
       " ':',\n",
       " 'sadiq',\n",
       " 'khan',\n",
       " \"n't\",\n",
       " '‘',\n",
       " 'half',\n",
       " 'height',\n",
       " '’',\n",
       " 'de',\n",
       " 'blasio']"
      ]
     },
     "execution_count": 42,
     "metadata": {},
     "output_type": "execute_result"
    }
   ],
   "source": [
    "posts['filtered'][1]"
   ]
  }
 ],
 "metadata": {
  "kernelspec": {
   "display_name": "Python 3",
   "language": "python",
   "name": "python3"
  },
  "language_info": {
   "codemirror_mode": {
    "name": "ipython",
    "version": 3
   },
   "file_extension": ".py",
   "mimetype": "text/x-python",
   "name": "python",
   "nbconvert_exporter": "python",
   "pygments_lexer": "ipython3",
   "version": "3.9.2"
  }
 },
 "nbformat": 4,
 "nbformat_minor": 4
}

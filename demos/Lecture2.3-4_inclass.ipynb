{
 "cells": [
  {
   "cell_type": "markdown",
   "metadata": {},
   "source": [
    "### Required packages for this analysis"
   ]
  },
  {
   "cell_type": "code",
   "execution_count": 13,
   "metadata": {},
   "outputs": [],
   "source": [
    "from matplotlib import pyplot as plt\n",
    "import json\n",
    "from datetime import datetime as dt\n",
    "import seaborn"
   ]
  },
  {
   "cell_type": "markdown",
   "metadata": {},
   "source": [
    "### Read in the datasets\n",
    "I downloaded this data using Facebook's account download options at."
   ]
  },
  {
   "cell_type": "code",
   "execution_count": 14,
   "metadata": {},
   "outputs": [],
   "source": [
    "with open(r'D:\\EMAT_22110\\FB Data Silva\\facebook-davidsilva100046_toshare\\ads_and_businesses\\advertisers_who_uploaded_a_contact_list_with_your_information.json') as cl:\n",
    "    contactlists = json.load(cl)"
   ]
  },
  {
   "cell_type": "code",
   "execution_count": 15,
   "metadata": {},
   "outputs": [],
   "source": [
    "with open(r'D:\\EMAT_22110\\FB Data Silva\\facebook-davidsilva100046_toshare\\posts\\your_posts_1.json') as p:\n",
    "    posts = json.load(p)"
   ]
  },
  {
   "cell_type": "code",
   "execution_count": 16,
   "metadata": {},
   "outputs": [
    {
     "data": {
      "text/plain": [
       "dict"
      ]
     },
     "execution_count": 16,
     "metadata": {},
     "output_type": "execute_result"
    }
   ],
   "source": [
    "type(contactlists)"
   ]
  },
  {
   "cell_type": "code",
   "execution_count": 17,
   "metadata": {},
   "outputs": [
    {
     "data": {
      "text/plain": [
       "dict_keys(['custom_audiences'])"
      ]
     },
     "execution_count": 17,
     "metadata": {},
     "output_type": "execute_result"
    }
   ],
   "source": [
    "contactlists.keys()"
   ]
  },
  {
   "cell_type": "code",
   "execution_count": 18,
   "metadata": {},
   "outputs": [
    {
     "data": {
      "text/plain": [
       "2970"
      ]
     },
     "execution_count": 18,
     "metadata": {},
     "output_type": "execute_result"
    }
   ],
   "source": [
    "len(contactlists['custom_audiences'])"
   ]
  },
  {
   "cell_type": "code",
   "execution_count": 19,
   "metadata": {},
   "outputs": [
    {
     "data": {
      "text/plain": [
       "[17, 14, 15, 9, 14, 10, 19, 17, 8, 13]"
      ]
     },
     "execution_count": 19,
     "metadata": {},
     "output_type": "execute_result"
    }
   ],
   "source": [
    "namelengths = [len(x) for x in contactlists['custom_audiences']]\n",
    "namelengths[:10]"
   ]
  },
  {
   "cell_type": "code",
   "execution_count": 20,
   "metadata": {},
   "outputs": [
    {
     "data": {
      "image/png": "[encoded data removed]",
      "text/plain": [
       "<Figure size 432x288 with 1 Axes>"
      ]
     },
     "metadata": {
      "needs_background": "light"
     },
     "output_type": "display_data"
    }
   ],
   "source": [
    "namelengthhist = plt.hist(namelengths)"
   ]
  },
  {
   "cell_type": "code",
   "execution_count": 21,
   "metadata": {},
   "outputs": [
    {
     "data": {
      "image/png": "[encoded data removed]",
      "text/plain": [
       "<Figure size 360x360 with 1 Axes>"
      ]
     },
     "metadata": {
      "needs_background": "light"
     },
     "output_type": "display_data"
    }
   ],
   "source": [
    "namelengthdist = seaborn.displot(namelengths)"
   ]
  },
  {
   "cell_type": "code",
   "execution_count": 22,
   "metadata": {},
   "outputs": [
    {
     "data": {
      "text/plain": [
       "list"
      ]
     },
     "execution_count": 22,
     "metadata": {},
     "output_type": "execute_result"
    }
   ],
   "source": [
    "type(posts)"
   ]
  },
  {
   "cell_type": "code",
   "execution_count": 27,
   "metadata": {},
   "outputs": [
    {
     "data": {
      "text/plain": [
       "dict"
      ]
     },
     "execution_count": 27,
     "metadata": {},
     "output_type": "execute_result"
    }
   ],
   "source": [
    "type(posts[0:1][0])"
   ]
  },
  {
   "cell_type": "code",
   "execution_count": 29,
   "metadata": {},
   "outputs": [
    {
     "data": {
      "text/plain": [
       "dict_keys(['timestamp', 'attachments', 'data'])"
      ]
     },
     "execution_count": 29,
     "metadata": {},
     "output_type": "execute_result"
    }
   ],
   "source": [
    "posts[0].keys()"
   ]
  },
  {
   "cell_type": "code",
   "execution_count": 30,
   "metadata": {},
   "outputs": [
    {
     "data": {
      "text/plain": [
       "536"
      ]
     },
     "execution_count": 30,
     "metadata": {},
     "output_type": "execute_result"
    }
   ],
   "source": [
    "len(posts)"
   ]
  },
  {
   "cell_type": "code",
   "execution_count": 32,
   "metadata": {},
   "outputs": [
    {
     "data": {
      "text/plain": [
       "1562008506"
      ]
     },
     "execution_count": 32,
     "metadata": {},
     "output_type": "execute_result"
    }
   ],
   "source": [
    "posts[0]['timestamp']"
   ]
  },
  {
   "cell_type": "code",
   "execution_count": 33,
   "metadata": {},
   "outputs": [
    {
     "data": {
      "text/plain": [
       "datetime.datetime(2019, 7, 1, 19, 15, 6)"
      ]
     },
     "execution_count": 33,
     "metadata": {},
     "output_type": "execute_result"
    }
   ],
   "source": [
    "a_date = dt.utcfromtimestamp(posts[0]['timestamp'])\n",
    "a_date"
   ]
  },
  {
   "cell_type": "code",
   "execution_count": 34,
   "metadata": {},
   "outputs": [
    {
     "data": {
      "text/plain": [
       "(7, 2019, 1)"
      ]
     },
     "execution_count": 34,
     "metadata": {},
     "output_type": "execute_result"
    }
   ],
   "source": [
    "a_date.month, a_date.year, a_date.day"
   ]
  },
  {
   "cell_type": "code",
   "execution_count": 35,
   "metadata": {},
   "outputs": [
    {
     "data": {
      "text/plain": [
       "{'timestamp': 1562008506,\n",
       " 'attachments': [{'data': [{'media': {'uri': 'photos_and_videos/TimelinePhotos_TaimeUdi3Q/65425624_10218800709066141_8812704912031875072_o_10218800709026140.jpg',\n",
       "      'creation_timestamp': 1562008366,\n",
       "      'media_metadata': {'photo_metadata': {'camera_make': 'Google',\n",
       "        'camera_model': 'Pixel 3',\n",
       "        'taken_timestamp': 1561983686,\n",
       "        'modified_timestamp': 1562008100,\n",
       "        'exposure': '33363/1000000',\n",
       "        'focal_length': '4440/1000',\n",
       "        'f_stop': '180/100',\n",
       "        'iso_speed': 73,\n",
       "        'latitude': 41.148383333333,\n",
       "        'longitude': -81.346986111111,\n",
       "        'orientation': 1,\n",
       "        'original_width': 2849,\n",
       "        'upload_ip': '131.123.49.82'}},\n",
       "      'title': 'Timeline Photos',\n",
       "      'description': 'This is just too surreal, exciting, mind boggling, crazy. 201J Taylor Hall at Kent State.'}}]}],\n",
       " 'data': [{'post': 'This is just too surreal, exciting, mind boggling, crazy. 201J Taylor Hall at Kent State.'}]}"
      ]
     },
     "execution_count": 35,
     "metadata": {},
     "output_type": "execute_result"
    }
   ],
   "source": [
    "posts[0]"
   ]
  },
  {
   "cell_type": "code",
   "execution_count": 37,
   "metadata": {},
   "outputs": [
    {
     "data": {
      "text/plain": [
       "[datetime.datetime(2019, 7, 1, 19, 15, 6),\n",
       " datetime.datetime(2019, 6, 11, 0, 44, 8),\n",
       " datetime.datetime(2019, 6, 10, 23, 45),\n",
       " datetime.datetime(2019, 6, 10, 20, 28, 52),\n",
       " datetime.datetime(2019, 6, 10, 20, 8, 1),\n",
       " datetime.datetime(2019, 6, 6, 18, 42, 58),\n",
       " datetime.datetime(2019, 6, 5, 23, 12, 49),\n",
       " datetime.datetime(2019, 6, 4, 21, 29, 55),\n",
       " datetime.datetime(2019, 3, 11, 5, 21, 9),\n",
       " datetime.datetime(2019, 3, 1, 18, 32, 25)]"
      ]
     },
     "execution_count": 37,
     "metadata": {},
     "output_type": "execute_result"
    }
   ],
   "source": [
    "post_dates = [dt.utcfromtimestamp(x['timestamp']) for x in posts]\n",
    "post_dates[:10]"
   ]
  },
  {
   "cell_type": "code",
   "execution_count": 38,
   "metadata": {},
   "outputs": [
    {
     "data": {
      "text/plain": [
       "[2019, 2019, 2019, 2019, 2019, 2019, 2019, 2019, 2019, 2019]"
      ]
     },
     "execution_count": 38,
     "metadata": {},
     "output_type": "execute_result"
    }
   ],
   "source": [
    "post_years = [x.year for x in post_dates]\n",
    "post_years[:10]"
   ]
  },
  {
   "cell_type": "code",
   "execution_count": 42,
   "metadata": {},
   "outputs": [
    {
     "data": {
      "text/plain": [
       "(array([258.,  58.,  52.,  16.,  61.,  30.,   3.,   9.,  26.,  23.]),\n",
       " array([2008. , 2009.1, 2010.2, 2011.3, 2012.4, 2013.5, 2014.6, 2015.7,\n",
       "        2016.8, 2017.9, 2019. ]),\n",
       " <BarContainer object of 10 artists>)"
      ]
     },
     "execution_count": 42,
     "metadata": {},
     "output_type": "execute_result"
    },
    {
     "data": {
      "image/png": "[encoded data removed]",
      "text/plain": [
       "<Figure size 432x288 with 1 Axes>"
      ]
     },
     "metadata": {
      "needs_background": "light"
     },
     "output_type": "display_data"
    }
   ],
   "source": [
    "plt.hist(post_years)"
   ]
  },
  {
   "cell_type": "code",
   "execution_count": 44,
   "metadata": {},
   "outputs": [
    {
     "data": {
      "text/html": [
       "<div>\n",
       "<style scoped>\n",
       "    .dataframe tbody tr th:only-of-type {\n",
       "        vertical-align: middle;\n",
       "    }\n",
       "\n",
       "    .dataframe tbody tr th {\n",
       "        vertical-align: top;\n",
       "    }\n",
       "\n",
       "    .dataframe thead th {\n",
       "        text-align: right;\n",
       "    }\n",
       "</style>\n",
       "<table border=\"1\" class=\"dataframe\">\n",
       "  <thead>\n",
       "    <tr style=\"text-align: right;\">\n",
       "      <th></th>\n",
       "      <th>timestamp</th>\n",
       "      <th>attachments</th>\n",
       "      <th>data</th>\n",
       "      <th>title</th>\n",
       "      <th>tags</th>\n",
       "    </tr>\n",
       "  </thead>\n",
       "  <tbody>\n",
       "    <tr>\n",
       "      <th>0</th>\n",
       "      <td>1562008506</td>\n",
       "      <td>[{'data': [{'media': {'uri': 'photos_and_video...</td>\n",
       "      <td>[{'post': 'This is just too surreal, exciting,...</td>\n",
       "      <td>NaN</td>\n",
       "      <td>NaN</td>\n",
       "    </tr>\n",
       "    <tr>\n",
       "      <th>1</th>\n",
       "      <td>1560213848</td>\n",
       "      <td>NaN</td>\n",
       "      <td>[{'post': 'The reading is done! Only took 3 ho...</td>\n",
       "      <td>David Silva updated his status.</td>\n",
       "      <td>NaN</td>\n",
       "    </tr>\n",
       "    <tr>\n",
       "      <th>2</th>\n",
       "      <td>1560210300</td>\n",
       "      <td>[{'data': [{'media': {'uri': 'photos_and_video...</td>\n",
       "      <td>[{'post': 'BACK AND READY TO FINISH THIS! Resu...</td>\n",
       "      <td>David Silva was live.</td>\n",
       "      <td>NaN</td>\n",
       "    </tr>\n",
       "    <tr>\n",
       "      <th>3</th>\n",
       "      <td>1560198532</td>\n",
       "      <td>[{'data': [{'media': {'uri': 'photos_and_video...</td>\n",
       "      <td>[{'post': 'Reading my dissertation live, no id...</td>\n",
       "      <td>David Silva was live.</td>\n",
       "      <td>NaN</td>\n",
       "    </tr>\n",
       "    <tr>\n",
       "      <th>4</th>\n",
       "      <td>1560197281</td>\n",
       "      <td>NaN</td>\n",
       "      <td>[{'post': 'Update: 3:42pm: After 2 hours and 1...</td>\n",
       "      <td>David Silva updated his status.</td>\n",
       "      <td>NaN</td>\n",
       "    </tr>\n",
       "    <tr>\n",
       "      <th>...</th>\n",
       "      <td>...</td>\n",
       "      <td>...</td>\n",
       "      <td>...</td>\n",
       "      <td>...</td>\n",
       "      <td>...</td>\n",
       "    </tr>\n",
       "    <tr>\n",
       "      <th>531</th>\n",
       "      <td>1213050248</td>\n",
       "      <td>NaN</td>\n",
       "      <td>[{'post': 'is going to MEXICO in 3 days!'}]</td>\n",
       "      <td>David Silva updated his status.</td>\n",
       "      <td>NaN</td>\n",
       "    </tr>\n",
       "    <tr>\n",
       "      <th>532</th>\n",
       "      <td>1212206744</td>\n",
       "      <td>NaN</td>\n",
       "      <td>[{'post': 'has to work tomorow :('}]</td>\n",
       "      <td>David Silva updated his status.</td>\n",
       "      <td>NaN</td>\n",
       "    </tr>\n",
       "    <tr>\n",
       "      <th>533</th>\n",
       "      <td>1212127875</td>\n",
       "      <td>NaN</td>\n",
       "      <td>[{'post': 'just got back from climbing! it was...</td>\n",
       "      <td>David Silva updated his status.</td>\n",
       "      <td>NaN</td>\n",
       "    </tr>\n",
       "    <tr>\n",
       "      <th>534</th>\n",
       "      <td>1212037617</td>\n",
       "      <td>NaN</td>\n",
       "      <td>[{'post': 'is your leader... do as he says'}]</td>\n",
       "      <td>David Silva updated his status.</td>\n",
       "      <td>NaN</td>\n",
       "    </tr>\n",
       "    <tr>\n",
       "      <th>535</th>\n",
       "      <td>1211508036</td>\n",
       "      <td>NaN</td>\n",
       "      <td>[{'post': 'is el presidente follow me'}]</td>\n",
       "      <td>David Silva updated his status.</td>\n",
       "      <td>NaN</td>\n",
       "    </tr>\n",
       "  </tbody>\n",
       "</table>\n",
       "<p>536 rows × 5 columns</p>\n",
       "</div>"
      ],
      "text/plain": [
       "      timestamp                                        attachments  \\\n",
       "0    1562008506  [{'data': [{'media': {'uri': 'photos_and_video...   \n",
       "1    1560213848                                                NaN   \n",
       "2    1560210300  [{'data': [{'media': {'uri': 'photos_and_video...   \n",
       "3    1560198532  [{'data': [{'media': {'uri': 'photos_and_video...   \n",
       "4    1560197281                                                NaN   \n",
       "..          ...                                                ...   \n",
       "531  1213050248                                                NaN   \n",
       "532  1212206744                                                NaN   \n",
       "533  1212127875                                                NaN   \n",
       "534  1212037617                                                NaN   \n",
       "535  1211508036                                                NaN   \n",
       "\n",
       "                                                  data  \\\n",
       "0    [{'post': 'This is just too surreal, exciting,...   \n",
       "1    [{'post': 'The reading is done! Only took 3 ho...   \n",
       "2    [{'post': 'BACK AND READY TO FINISH THIS! Resu...   \n",
       "3    [{'post': 'Reading my dissertation live, no id...   \n",
       "4    [{'post': 'Update: 3:42pm: After 2 hours and 1...   \n",
       "..                                                 ...   \n",
       "531        [{'post': 'is going to MEXICO in 3 days!'}]   \n",
       "532               [{'post': 'has to work tomorow :('}]   \n",
       "533  [{'post': 'just got back from climbing! it was...   \n",
       "534      [{'post': 'is your leader... do as he says'}]   \n",
       "535           [{'post': 'is el presidente follow me'}]   \n",
       "\n",
       "                               title tags  \n",
       "0                                NaN  NaN  \n",
       "1    David Silva updated his status.  NaN  \n",
       "2              David Silva was live.  NaN  \n",
       "3              David Silva was live.  NaN  \n",
       "4    David Silva updated his status.  NaN  \n",
       "..                               ...  ...  \n",
       "531  David Silva updated his status.  NaN  \n",
       "532  David Silva updated his status.  NaN  \n",
       "533  David Silva updated his status.  NaN  \n",
       "534  David Silva updated his status.  NaN  \n",
       "535  David Silva updated his status.  NaN  \n",
       "\n",
       "[536 rows x 5 columns]"
      ]
     },
     "execution_count": 44,
     "metadata": {},
     "output_type": "execute_result"
    }
   ],
   "source": [
    "import pandas as pd\n",
    "posts_df = pd.DataFrame(posts)\n",
    "posts_df"
   ]
  },
  {
   "cell_type": "code",
   "execution_count": 46,
   "metadata": {},
   "outputs": [
    {
     "data": {
      "text/html": [
       "<div>\n",
       "<style scoped>\n",
       "    .dataframe tbody tr th:only-of-type {\n",
       "        vertical-align: middle;\n",
       "    }\n",
       "\n",
       "    .dataframe tbody tr th {\n",
       "        vertical-align: top;\n",
       "    }\n",
       "\n",
       "    .dataframe thead th {\n",
       "        text-align: right;\n",
       "    }\n",
       "</style>\n",
       "<table border=\"1\" class=\"dataframe\">\n",
       "  <thead>\n",
       "    <tr style=\"text-align: right;\">\n",
       "      <th></th>\n",
       "      <th>timestamp</th>\n",
       "      <th>attachments</th>\n",
       "      <th>data</th>\n",
       "      <th>title</th>\n",
       "      <th>tags</th>\n",
       "      <th>date</th>\n",
       "    </tr>\n",
       "  </thead>\n",
       "  <tbody>\n",
       "    <tr>\n",
       "      <th>0</th>\n",
       "      <td>1562008506</td>\n",
       "      <td>[{'data': [{'media': {'uri': 'photos_and_video...</td>\n",
       "      <td>[{'post': 'This is just too surreal, exciting,...</td>\n",
       "      <td>NaN</td>\n",
       "      <td>NaN</td>\n",
       "      <td>2019-07-01 19:15:06</td>\n",
       "    </tr>\n",
       "    <tr>\n",
       "      <th>1</th>\n",
       "      <td>1560213848</td>\n",
       "      <td>NaN</td>\n",
       "      <td>[{'post': 'The reading is done! Only took 3 ho...</td>\n",
       "      <td>David Silva updated his status.</td>\n",
       "      <td>NaN</td>\n",
       "      <td>2019-06-11 00:44:08</td>\n",
       "    </tr>\n",
       "    <tr>\n",
       "      <th>2</th>\n",
       "      <td>1560210300</td>\n",
       "      <td>[{'data': [{'media': {'uri': 'photos_and_video...</td>\n",
       "      <td>[{'post': 'BACK AND READY TO FINISH THIS! Resu...</td>\n",
       "      <td>David Silva was live.</td>\n",
       "      <td>NaN</td>\n",
       "      <td>2019-06-10 23:45:00</td>\n",
       "    </tr>\n",
       "    <tr>\n",
       "      <th>3</th>\n",
       "      <td>1560198532</td>\n",
       "      <td>[{'data': [{'media': {'uri': 'photos_and_video...</td>\n",
       "      <td>[{'post': 'Reading my dissertation live, no id...</td>\n",
       "      <td>David Silva was live.</td>\n",
       "      <td>NaN</td>\n",
       "      <td>2019-06-10 20:28:52</td>\n",
       "    </tr>\n",
       "    <tr>\n",
       "      <th>4</th>\n",
       "      <td>1560197281</td>\n",
       "      <td>NaN</td>\n",
       "      <td>[{'post': 'Update: 3:42pm: After 2 hours and 1...</td>\n",
       "      <td>David Silva updated his status.</td>\n",
       "      <td>NaN</td>\n",
       "      <td>2019-06-10 20:08:01</td>\n",
       "    </tr>\n",
       "    <tr>\n",
       "      <th>...</th>\n",
       "      <td>...</td>\n",
       "      <td>...</td>\n",
       "      <td>...</td>\n",
       "      <td>...</td>\n",
       "      <td>...</td>\n",
       "      <td>...</td>\n",
       "    </tr>\n",
       "    <tr>\n",
       "      <th>531</th>\n",
       "      <td>1213050248</td>\n",
       "      <td>NaN</td>\n",
       "      <td>[{'post': 'is going to MEXICO in 3 days!'}]</td>\n",
       "      <td>David Silva updated his status.</td>\n",
       "      <td>NaN</td>\n",
       "      <td>2008-06-09 22:24:08</td>\n",
       "    </tr>\n",
       "    <tr>\n",
       "      <th>532</th>\n",
       "      <td>1212206744</td>\n",
       "      <td>NaN</td>\n",
       "      <td>[{'post': 'has to work tomorow :('}]</td>\n",
       "      <td>David Silva updated his status.</td>\n",
       "      <td>NaN</td>\n",
       "      <td>2008-05-31 04:05:44</td>\n",
       "    </tr>\n",
       "    <tr>\n",
       "      <th>533</th>\n",
       "      <td>1212127875</td>\n",
       "      <td>NaN</td>\n",
       "      <td>[{'post': 'just got back from climbing! it was...</td>\n",
       "      <td>David Silva updated his status.</td>\n",
       "      <td>NaN</td>\n",
       "      <td>2008-05-30 06:11:15</td>\n",
       "    </tr>\n",
       "    <tr>\n",
       "      <th>534</th>\n",
       "      <td>1212037617</td>\n",
       "      <td>NaN</td>\n",
       "      <td>[{'post': 'is your leader... do as he says'}]</td>\n",
       "      <td>David Silva updated his status.</td>\n",
       "      <td>NaN</td>\n",
       "      <td>2008-05-29 05:06:57</td>\n",
       "    </tr>\n",
       "    <tr>\n",
       "      <th>535</th>\n",
       "      <td>1211508036</td>\n",
       "      <td>NaN</td>\n",
       "      <td>[{'post': 'is el presidente follow me'}]</td>\n",
       "      <td>David Silva updated his status.</td>\n",
       "      <td>NaN</td>\n",
       "      <td>2008-05-23 02:00:36</td>\n",
       "    </tr>\n",
       "  </tbody>\n",
       "</table>\n",
       "<p>536 rows × 6 columns</p>\n",
       "</div>"
      ],
      "text/plain": [
       "      timestamp                                        attachments  \\\n",
       "0    1562008506  [{'data': [{'media': {'uri': 'photos_and_video...   \n",
       "1    1560213848                                                NaN   \n",
       "2    1560210300  [{'data': [{'media': {'uri': 'photos_and_video...   \n",
       "3    1560198532  [{'data': [{'media': {'uri': 'photos_and_video...   \n",
       "4    1560197281                                                NaN   \n",
       "..          ...                                                ...   \n",
       "531  1213050248                                                NaN   \n",
       "532  1212206744                                                NaN   \n",
       "533  1212127875                                                NaN   \n",
       "534  1212037617                                                NaN   \n",
       "535  1211508036                                                NaN   \n",
       "\n",
       "                                                  data  \\\n",
       "0    [{'post': 'This is just too surreal, exciting,...   \n",
       "1    [{'post': 'The reading is done! Only took 3 ho...   \n",
       "2    [{'post': 'BACK AND READY TO FINISH THIS! Resu...   \n",
       "3    [{'post': 'Reading my dissertation live, no id...   \n",
       "4    [{'post': 'Update: 3:42pm: After 2 hours and 1...   \n",
       "..                                                 ...   \n",
       "531        [{'post': 'is going to MEXICO in 3 days!'}]   \n",
       "532               [{'post': 'has to work tomorow :('}]   \n",
       "533  [{'post': 'just got back from climbing! it was...   \n",
       "534      [{'post': 'is your leader... do as he says'}]   \n",
       "535           [{'post': 'is el presidente follow me'}]   \n",
       "\n",
       "                               title tags                date  \n",
       "0                                NaN  NaN 2019-07-01 19:15:06  \n",
       "1    David Silva updated his status.  NaN 2019-06-11 00:44:08  \n",
       "2              David Silva was live.  NaN 2019-06-10 23:45:00  \n",
       "3              David Silva was live.  NaN 2019-06-10 20:28:52  \n",
       "4    David Silva updated his status.  NaN 2019-06-10 20:08:01  \n",
       "..                               ...  ...                 ...  \n",
       "531  David Silva updated his status.  NaN 2008-06-09 22:24:08  \n",
       "532  David Silva updated his status.  NaN 2008-05-31 04:05:44  \n",
       "533  David Silva updated his status.  NaN 2008-05-30 06:11:15  \n",
       "534  David Silva updated his status.  NaN 2008-05-29 05:06:57  \n",
       "535  David Silva updated his status.  NaN 2008-05-23 02:00:36  \n",
       "\n",
       "[536 rows x 6 columns]"
      ]
     },
     "execution_count": 46,
     "metadata": {},
     "output_type": "execute_result"
    }
   ],
   "source": [
    "posts_df['date'] = [dt.utcfromtimestamp(x) for x in posts_df['timestamp']]\n",
    "posts_df"
   ]
  },
  {
   "cell_type": "code",
   "execution_count": 48,
   "metadata": {},
   "outputs": [
    {
     "data": {
      "text/html": [
       "<div>\n",
       "<style scoped>\n",
       "    .dataframe tbody tr th:only-of-type {\n",
       "        vertical-align: middle;\n",
       "    }\n",
       "\n",
       "    .dataframe tbody tr th {\n",
       "        vertical-align: top;\n",
       "    }\n",
       "\n",
       "    .dataframe thead th {\n",
       "        text-align: right;\n",
       "    }\n",
       "</style>\n",
       "<table border=\"1\" class=\"dataframe\">\n",
       "  <thead>\n",
       "    <tr style=\"text-align: right;\">\n",
       "      <th></th>\n",
       "      <th>timestamp</th>\n",
       "      <th>attachments</th>\n",
       "      <th>data</th>\n",
       "      <th>title</th>\n",
       "      <th>tags</th>\n",
       "      <th>date</th>\n",
       "      <th>year</th>\n",
       "    </tr>\n",
       "  </thead>\n",
       "  <tbody>\n",
       "    <tr>\n",
       "      <th>0</th>\n",
       "      <td>1562008506</td>\n",
       "      <td>[{'data': [{'media': {'uri': 'photos_and_video...</td>\n",
       "      <td>[{'post': 'This is just too surreal, exciting,...</td>\n",
       "      <td>NaN</td>\n",
       "      <td>NaN</td>\n",
       "      <td>2019-07-01 19:15:06</td>\n",
       "      <td>2019</td>\n",
       "    </tr>\n",
       "    <tr>\n",
       "      <th>1</th>\n",
       "      <td>1560213848</td>\n",
       "      <td>NaN</td>\n",
       "      <td>[{'post': 'The reading is done! Only took 3 ho...</td>\n",
       "      <td>David Silva updated his status.</td>\n",
       "      <td>NaN</td>\n",
       "      <td>2019-06-11 00:44:08</td>\n",
       "      <td>2019</td>\n",
       "    </tr>\n",
       "    <tr>\n",
       "      <th>2</th>\n",
       "      <td>1560210300</td>\n",
       "      <td>[{'data': [{'media': {'uri': 'photos_and_video...</td>\n",
       "      <td>[{'post': 'BACK AND READY TO FINISH THIS! Resu...</td>\n",
       "      <td>David Silva was live.</td>\n",
       "      <td>NaN</td>\n",
       "      <td>2019-06-10 23:45:00</td>\n",
       "      <td>2019</td>\n",
       "    </tr>\n",
       "    <tr>\n",
       "      <th>3</th>\n",
       "      <td>1560198532</td>\n",
       "      <td>[{'data': [{'media': {'uri': 'photos_and_video...</td>\n",
       "      <td>[{'post': 'Reading my dissertation live, no id...</td>\n",
       "      <td>David Silva was live.</td>\n",
       "      <td>NaN</td>\n",
       "      <td>2019-06-10 20:28:52</td>\n",
       "      <td>2019</td>\n",
       "    </tr>\n",
       "    <tr>\n",
       "      <th>4</th>\n",
       "      <td>1560197281</td>\n",
       "      <td>NaN</td>\n",
       "      <td>[{'post': 'Update: 3:42pm: After 2 hours and 1...</td>\n",
       "      <td>David Silva updated his status.</td>\n",
       "      <td>NaN</td>\n",
       "      <td>2019-06-10 20:08:01</td>\n",
       "      <td>2019</td>\n",
       "    </tr>\n",
       "    <tr>\n",
       "      <th>...</th>\n",
       "      <td>...</td>\n",
       "      <td>...</td>\n",
       "      <td>...</td>\n",
       "      <td>...</td>\n",
       "      <td>...</td>\n",
       "      <td>...</td>\n",
       "      <td>...</td>\n",
       "    </tr>\n",
       "    <tr>\n",
       "      <th>531</th>\n",
       "      <td>1213050248</td>\n",
       "      <td>NaN</td>\n",
       "      <td>[{'post': 'is going to MEXICO in 3 days!'}]</td>\n",
       "      <td>David Silva updated his status.</td>\n",
       "      <td>NaN</td>\n",
       "      <td>2008-06-09 22:24:08</td>\n",
       "      <td>2008</td>\n",
       "    </tr>\n",
       "    <tr>\n",
       "      <th>532</th>\n",
       "      <td>1212206744</td>\n",
       "      <td>NaN</td>\n",
       "      <td>[{'post': 'has to work tomorow :('}]</td>\n",
       "      <td>David Silva updated his status.</td>\n",
       "      <td>NaN</td>\n",
       "      <td>2008-05-31 04:05:44</td>\n",
       "      <td>2008</td>\n",
       "    </tr>\n",
       "    <tr>\n",
       "      <th>533</th>\n",
       "      <td>1212127875</td>\n",
       "      <td>NaN</td>\n",
       "      <td>[{'post': 'just got back from climbing! it was...</td>\n",
       "      <td>David Silva updated his status.</td>\n",
       "      <td>NaN</td>\n",
       "      <td>2008-05-30 06:11:15</td>\n",
       "      <td>2008</td>\n",
       "    </tr>\n",
       "    <tr>\n",
       "      <th>534</th>\n",
       "      <td>1212037617</td>\n",
       "      <td>NaN</td>\n",
       "      <td>[{'post': 'is your leader... do as he says'}]</td>\n",
       "      <td>David Silva updated his status.</td>\n",
       "      <td>NaN</td>\n",
       "      <td>2008-05-29 05:06:57</td>\n",
       "      <td>2008</td>\n",
       "    </tr>\n",
       "    <tr>\n",
       "      <th>535</th>\n",
       "      <td>1211508036</td>\n",
       "      <td>NaN</td>\n",
       "      <td>[{'post': 'is el presidente follow me'}]</td>\n",
       "      <td>David Silva updated his status.</td>\n",
       "      <td>NaN</td>\n",
       "      <td>2008-05-23 02:00:36</td>\n",
       "      <td>2008</td>\n",
       "    </tr>\n",
       "  </tbody>\n",
       "</table>\n",
       "<p>536 rows × 7 columns</p>\n",
       "</div>"
      ],
      "text/plain": [
       "      timestamp                                        attachments  \\\n",
       "0    1562008506  [{'data': [{'media': {'uri': 'photos_and_video...   \n",
       "1    1560213848                                                NaN   \n",
       "2    1560210300  [{'data': [{'media': {'uri': 'photos_and_video...   \n",
       "3    1560198532  [{'data': [{'media': {'uri': 'photos_and_video...   \n",
       "4    1560197281                                                NaN   \n",
       "..          ...                                                ...   \n",
       "531  1213050248                                                NaN   \n",
       "532  1212206744                                                NaN   \n",
       "533  1212127875                                                NaN   \n",
       "534  1212037617                                                NaN   \n",
       "535  1211508036                                                NaN   \n",
       "\n",
       "                                                  data  \\\n",
       "0    [{'post': 'This is just too surreal, exciting,...   \n",
       "1    [{'post': 'The reading is done! Only took 3 ho...   \n",
       "2    [{'post': 'BACK AND READY TO FINISH THIS! Resu...   \n",
       "3    [{'post': 'Reading my dissertation live, no id...   \n",
       "4    [{'post': 'Update: 3:42pm: After 2 hours and 1...   \n",
       "..                                                 ...   \n",
       "531        [{'post': 'is going to MEXICO in 3 days!'}]   \n",
       "532               [{'post': 'has to work tomorow :('}]   \n",
       "533  [{'post': 'just got back from climbing! it was...   \n",
       "534      [{'post': 'is your leader... do as he says'}]   \n",
       "535           [{'post': 'is el presidente follow me'}]   \n",
       "\n",
       "                               title tags                date  year  \n",
       "0                                NaN  NaN 2019-07-01 19:15:06  2019  \n",
       "1    David Silva updated his status.  NaN 2019-06-11 00:44:08  2019  \n",
       "2              David Silva was live.  NaN 2019-06-10 23:45:00  2019  \n",
       "3              David Silva was live.  NaN 2019-06-10 20:28:52  2019  \n",
       "4    David Silva updated his status.  NaN 2019-06-10 20:08:01  2019  \n",
       "..                               ...  ...                 ...   ...  \n",
       "531  David Silva updated his status.  NaN 2008-06-09 22:24:08  2008  \n",
       "532  David Silva updated his status.  NaN 2008-05-31 04:05:44  2008  \n",
       "533  David Silva updated his status.  NaN 2008-05-30 06:11:15  2008  \n",
       "534  David Silva updated his status.  NaN 2008-05-29 05:06:57  2008  \n",
       "535  David Silva updated his status.  NaN 2008-05-23 02:00:36  2008  \n",
       "\n",
       "[536 rows x 7 columns]"
      ]
     },
     "execution_count": 48,
     "metadata": {},
     "output_type": "execute_result"
    }
   ],
   "source": [
    "posts_df['year'] = [x.year for x in posts_df['date']]\n",
    "posts_df"
   ]
  },
  {
   "cell_type": "code",
   "execution_count": 51,
   "metadata": {},
   "outputs": [
    {
     "data": {
      "text/html": [
       "<div>\n",
       "<style scoped>\n",
       "    .dataframe tbody tr th:only-of-type {\n",
       "        vertical-align: middle;\n",
       "    }\n",
       "\n",
       "    .dataframe tbody tr th {\n",
       "        vertical-align: top;\n",
       "    }\n",
       "\n",
       "    .dataframe thead th {\n",
       "        text-align: right;\n",
       "    }\n",
       "</style>\n",
       "<table border=\"1\" class=\"dataframe\">\n",
       "  <thead>\n",
       "    <tr style=\"text-align: right;\">\n",
       "      <th></th>\n",
       "      <th>timestamp</th>\n",
       "      <th>attachments</th>\n",
       "      <th>data</th>\n",
       "      <th>title</th>\n",
       "      <th>tags</th>\n",
       "      <th>date</th>\n",
       "    </tr>\n",
       "    <tr>\n",
       "      <th>year</th>\n",
       "      <th></th>\n",
       "      <th></th>\n",
       "      <th></th>\n",
       "      <th></th>\n",
       "      <th></th>\n",
       "      <th></th>\n",
       "    </tr>\n",
       "  </thead>\n",
       "  <tbody>\n",
       "    <tr>\n",
       "      <th>2009</th>\n",
       "      <td>182</td>\n",
       "      <td>21</td>\n",
       "      <td>163</td>\n",
       "      <td>178</td>\n",
       "      <td>1</td>\n",
       "      <td>182</td>\n",
       "    </tr>\n",
       "    <tr>\n",
       "      <th>2010</th>\n",
       "      <td>58</td>\n",
       "      <td>1</td>\n",
       "      <td>58</td>\n",
       "      <td>57</td>\n",
       "      <td>0</td>\n",
       "      <td>58</td>\n",
       "    </tr>\n",
       "    <tr>\n",
       "      <th>2011</th>\n",
       "      <td>52</td>\n",
       "      <td>4</td>\n",
       "      <td>51</td>\n",
       "      <td>49</td>\n",
       "      <td>0</td>\n",
       "      <td>52</td>\n",
       "    </tr>\n",
       "    <tr>\n",
       "      <th>2013</th>\n",
       "      <td>61</td>\n",
       "      <td>38</td>\n",
       "      <td>49</td>\n",
       "      <td>26</td>\n",
       "      <td>9</td>\n",
       "      <td>61</td>\n",
       "    </tr>\n",
       "    <tr>\n",
       "      <th>2008</th>\n",
       "      <td>76</td>\n",
       "      <td>32</td>\n",
       "      <td>44</td>\n",
       "      <td>76</td>\n",
       "      <td>28</td>\n",
       "      <td>76</td>\n",
       "    </tr>\n",
       "    <tr>\n",
       "      <th>2017</th>\n",
       "      <td>26</td>\n",
       "      <td>13</td>\n",
       "      <td>26</td>\n",
       "      <td>23</td>\n",
       "      <td>1</td>\n",
       "      <td>26</td>\n",
       "    </tr>\n",
       "    <tr>\n",
       "      <th>2014</th>\n",
       "      <td>30</td>\n",
       "      <td>18</td>\n",
       "      <td>23</td>\n",
       "      <td>12</td>\n",
       "      <td>8</td>\n",
       "      <td>30</td>\n",
       "    </tr>\n",
       "    <tr>\n",
       "      <th>2018</th>\n",
       "      <td>12</td>\n",
       "      <td>7</td>\n",
       "      <td>12</td>\n",
       "      <td>9</td>\n",
       "      <td>2</td>\n",
       "      <td>12</td>\n",
       "    </tr>\n",
       "    <tr>\n",
       "      <th>2012</th>\n",
       "      <td>16</td>\n",
       "      <td>8</td>\n",
       "      <td>10</td>\n",
       "      <td>8</td>\n",
       "      <td>4</td>\n",
       "      <td>16</td>\n",
       "    </tr>\n",
       "    <tr>\n",
       "      <th>2019</th>\n",
       "      <td>11</td>\n",
       "      <td>3</td>\n",
       "      <td>10</td>\n",
       "      <td>10</td>\n",
       "      <td>0</td>\n",
       "      <td>11</td>\n",
       "    </tr>\n",
       "    <tr>\n",
       "      <th>2016</th>\n",
       "      <td>9</td>\n",
       "      <td>2</td>\n",
       "      <td>9</td>\n",
       "      <td>9</td>\n",
       "      <td>0</td>\n",
       "      <td>9</td>\n",
       "    </tr>\n",
       "    <tr>\n",
       "      <th>2015</th>\n",
       "      <td>3</td>\n",
       "      <td>2</td>\n",
       "      <td>3</td>\n",
       "      <td>2</td>\n",
       "      <td>1</td>\n",
       "      <td>3</td>\n",
       "    </tr>\n",
       "  </tbody>\n",
       "</table>\n",
       "</div>"
      ],
      "text/plain": [
       "      timestamp  attachments  data  title  tags  date\n",
       "year                                                 \n",
       "2009        182           21   163    178     1   182\n",
       "2010         58            1    58     57     0    58\n",
       "2011         52            4    51     49     0    52\n",
       "2013         61           38    49     26     9    61\n",
       "2008         76           32    44     76    28    76\n",
       "2017         26           13    26     23     1    26\n",
       "2014         30           18    23     12     8    30\n",
       "2018         12            7    12      9     2    12\n",
       "2012         16            8    10      8     4    16\n",
       "2019         11            3    10     10     0    11\n",
       "2016          9            2     9      9     0     9\n",
       "2015          3            2     3      2     1     3"
      ]
     },
     "execution_count": 51,
     "metadata": {},
     "output_type": "execute_result"
    }
   ],
   "source": [
    "group_df = posts_df.groupby('year').count().sort_values('data', ascending = False)\n",
    "group_df"
   ]
  },
  {
   "cell_type": "code",
   "execution_count": 60,
   "metadata": {
    "scrolled": true
   },
   "outputs": [
    {
     "data": {
      "image/png": "[encoded data removed]",
      "text/plain": [
       "<Figure size 640x640 with 1 Axes>"
      ]
     },
     "metadata": {},
     "output_type": "display_data"
    }
   ],
   "source": [
    "labels = group_df['data'].keys()\n",
    "vals = group_df['data']\n",
    "width = .75\n",
    "\n",
    "fig, ax = plt.subplots(figsize=(8,8), dpi = 80, facecolor ='w', edgecolor = 'k')\n",
    "ax.bar(labels,vals)\n",
    "ax.set_ylabel('Number of Posts')\n",
    "plt.xticks(rotation=90, fontsize = 'small')\n",
    "plt.show()"
   ]
  },
  {
   "cell_type": "code",
   "execution_count": 61,
   "metadata": {},
   "outputs": [
    {
     "data": {
      "image/png": "[encoded data removed]",
      "text/plain": [
       "<Figure size 432x288 with 1 Axes>"
      ]
     },
     "metadata": {},
     "output_type": "display_data"
    }
   ],
   "source": [
    "year = range(2008, 2020)\n",
    "pieplot = plt.pie(x=group_df['data'],\n",
    "                             labels = group_df['data'].keys(), startangle = 90,\n",
    "                             counterclock = False, labeldistance = 1.2,\n",
    "                             textprops = {'rotation': -45})"
   ]
  }
 ],
 "metadata": {
  "kernelspec": {
   "display_name": "Python 3",
   "language": "python",
   "name": "python3"
  },
  "language_info": {
   "codemirror_mode": {
    "name": "ipython",
    "version": 3
   },
   "file_extension": ".py",
   "mimetype": "text/x-python",
   "name": "python",
   "nbconvert_exporter": "python",
   "pygments_lexer": "ipython3",
   "version": "3.9.1"
  }
 },
 "nbformat": 4,
 "nbformat_minor": 4
}

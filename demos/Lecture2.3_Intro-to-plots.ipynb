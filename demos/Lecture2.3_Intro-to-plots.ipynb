{
 "cells": [
  {
   "cell_type": "markdown",
   "metadata": {},
   "source": [
    "## Intro to Plots\n",
    "In this demonstration, we will begin working with and looking at data.\n",
    "After we have a good understanding of where our data comes from, the biases in our data set, and what our data represent, we can then start to look at the patterns present in the data."
   ]
  },
  {
   "cell_type": "code",
   "execution_count": 1,
   "metadata": {},
   "outputs": [],
   "source": [
    "from matplotlib import pyplot\n",
    "import json\n",
    "from datetime import datetime\n",
    "import seaborn"
   ]
  },
  {
   "cell_type": "code",
   "execution_count": 2,
   "metadata": {},
   "outputs": [],
   "source": [
    "with open(r'D:\\EMAT_22110\\FB Data Silva\\facebook-davidsilva100046_toshare\\ads_and_businesses\\advertisers_who_uploaded_a_contact_list_with_your_information.json') as cl:\n",
    "    contactlists = json.load(cl)\n",
    "\n",
    "with open(r'D:\\EMAT_22110\\FB Data Silva\\facebook-davidsilva100046_toshare\\posts\\your_posts_1.json') as p:\n",
    "    posts = json.load(p)"
   ]
  },
  {
   "cell_type": "markdown",
   "metadata": {},
   "source": [
    "Now that the data is loaded in, let's take a look to make sure we have what we expect using the `type()` function."
   ]
  },
  {
   "cell_type": "code",
   "execution_count": 3,
   "metadata": {},
   "outputs": [
    {
     "data": {
      "text/plain": [
       "dict"
      ]
     },
     "execution_count": 3,
     "metadata": {},
     "output_type": "execute_result"
    }
   ],
   "source": [
    "type(contactlists)"
   ]
  },
  {
   "cell_type": "code",
   "execution_count": 4,
   "metadata": {},
   "outputs": [
    {
     "data": {
      "text/plain": [
       "dict_keys(['custom_audiences'])"
      ]
     },
     "execution_count": 4,
     "metadata": {},
     "output_type": "execute_result"
    }
   ],
   "source": [
    "contactlists.keys()"
   ]
  },
  {
   "cell_type": "code",
   "execution_count": 5,
   "metadata": {},
   "outputs": [
    {
     "data": {
      "text/plain": [
       "2970"
      ]
     },
     "execution_count": 5,
     "metadata": {},
     "output_type": "execute_result"
    }
   ],
   "source": [
    "len(contactlists['custom_audiences'])"
   ]
  },
  {
   "cell_type": "code",
   "execution_count": 6,
   "metadata": {},
   "outputs": [
    {
     "data": {
      "text/plain": [
       "[17, 14, 15, 9, 14, 10, 19, 17, 8, 13]"
      ]
     },
     "execution_count": 6,
     "metadata": {},
     "output_type": "execute_result"
    }
   ],
   "source": [
    "namelengths = [len(x) for x in contactlists['custom_audiences']]\n",
    "namelengths[:10]"
   ]
  },
  {
   "cell_type": "markdown",
   "metadata": {},
   "source": [
    "Although it may be a bit arbitrary, we now have some numbers to work with.\n",
    "Possible questions that this data would help answer:\n",
    "1. What is a good length for a Facebook business page name?\n",
    "1. What is the longest name for a Facebook business page in this dataset?\n",
    "1. What is the shortest name for a Facebook business page in this dataset?\n",
    "1. *What is the distribution of name lengths for Facebook business pages?*"
   ]
  },
  {
   "cell_type": "code",
   "execution_count": 7,
   "metadata": {},
   "outputs": [
    {
     "data": {
      "text/plain": [
       "(array([242., 779., 728., 504., 324., 176.,  94.,  63.,  40.,  20.]),\n",
       " array([ 3. , 10.2, 17.4, 24.6, 31.8, 39. , 46.2, 53.4, 60.6, 67.8, 75. ]),\n",
       " <BarContainer object of 10 artists>)"
      ]
     },
     "execution_count": 7,
     "metadata": {},
     "output_type": "execute_result"
    },
    {
     "data": {
      "image/png": "[encoded data removed]",
      "text/plain": [
       "<Figure size 432x288 with 1 Axes>"
      ]
     },
     "metadata": {
      "needs_background": "light"
     },
     "output_type": "display_data"
    }
   ],
   "source": [
    "pyplot.hist(namelengths)"
   ]
  },
  {
   "cell_type": "code",
   "execution_count": 8,
   "metadata": {},
   "outputs": [
    {
     "data": {
      "text/plain": [
       "<seaborn.axisgrid.FacetGrid at 0x156bc19b4f0>"
      ]
     },
     "execution_count": 8,
     "metadata": {},
     "output_type": "execute_result"
    },
    {
     "data": {
      "image/png": "[encoded data removed]",
      "text/plain": [
       "<Figure size 360x360 with 1 Axes>"
      ]
     },
     "metadata": {
      "needs_background": "light"
     },
     "output_type": "display_data"
    }
   ],
   "source": [
    "seaborn.displot(namelengths)"
   ]
  },
  {
   "cell_type": "markdown",
   "metadata": {},
   "source": [
    "Enough of the arbitrary business names lengths.\n",
    "We also have some information about the posts our account has made on Facebook.\n",
    "*What questions could we ask of this dataset?*\n",
    "\n",
    "First, let's look at the data we are working with."
   ]
  },
  {
   "cell_type": "code",
   "execution_count": 9,
   "metadata": {},
   "outputs": [
    {
     "data": {
      "text/plain": [
       "list"
      ]
     },
     "execution_count": 9,
     "metadata": {},
     "output_type": "execute_result"
    }
   ],
   "source": [
    "type(posts)"
   ]
  },
  {
   "cell_type": "code",
   "execution_count": 10,
   "metadata": {},
   "outputs": [
    {
     "data": {
      "text/plain": [
       "[{'timestamp': 1562008506,\n",
       "  'attachments': [{'data': [{'media': {'uri': 'photos_and_videos/TimelinePhotos_TaimeUdi3Q/65425624_10218800709066141_8812704912031875072_o_10218800709026140.jpg',\n",
       "       'creation_timestamp': 1562008366,\n",
       "       'media_metadata': {'photo_metadata': {'camera_make': 'Google',\n",
       "         'camera_model': 'Pixel 3',\n",
       "         'taken_timestamp': 1561983686,\n",
       "         'modified_timestamp': 1562008100,\n",
       "         'exposure': '33363/1000000',\n",
       "         'focal_length': '4440/1000',\n",
       "         'f_stop': '180/100',\n",
       "         'iso_speed': 73,\n",
       "         'latitude': 41.148383333333,\n",
       "         'longitude': -81.346986111111,\n",
       "         'orientation': 1,\n",
       "         'original_width': 2849,\n",
       "         'upload_ip': '131.123.49.82'}},\n",
       "       'title': 'Timeline Photos',\n",
       "       'description': 'This is just too surreal, exciting, mind boggling, crazy. 201J Taylor Hall at Kent State.'}}]}],\n",
       "  'data': [{'post': 'This is just too surreal, exciting, mind boggling, crazy. 201J Taylor Hall at Kent State.'}]},\n",
       " {'timestamp': 1560213848,\n",
       "  'data': [{'post': \"The reading is done! Only took 3 hours.\\n\\nThank you for indulging this oddity and special thanks for those who stopped in to say hi. I appreciated seeing a lot of people I haven't heard from in a long time. It was a nice way to conclude this project.\\n\\nNow back to your regularly scheduled programming.\"}],\n",
       "  'title': 'David Silva updated his status.'},\n",
       " {'timestamp': 1560210300,\n",
       "  'attachments': [{'data': [{'media': {'uri': 'photos_and_videos/videos/10000000_131337901853681_4726396721803752534_n_10218641190158268.mp4',\n",
       "       'creation_timestamp': 1560210300,\n",
       "       'media_metadata': {'video_metadata': {'upload_timestamp': 0,\n",
       "         'upload_ip': '50.37.91.103'}},\n",
       "       'thumbnail': {'uri': 'photos_and_videos/thumbnails/61730549_10218641240679531_6551492948100382720_n.jpg'},\n",
       "       'description': 'BACK AND READY TO FINISH THIS! Results chapter up next, so get ready for lots of numbers.'}}]}],\n",
       "  'data': [{'post': 'BACK AND READY TO FINISH THIS! Results chapter up next, so get ready for lots of numbers.'}],\n",
       "  'title': 'David Silva was live.'},\n",
       " {'timestamp': 1560198532,\n",
       "  'attachments': [{'data': [{'media': {'uri': 'photos_and_videos/videos/10000000_663893631129424_2027873718903332501_n_10218639381713058.mp4',\n",
       "       'creation_timestamp': 1560198532,\n",
       "       'media_metadata': {'video_metadata': {'upload_timestamp': 0,\n",
       "         'upload_ip': '50.37.91.103'}},\n",
       "       'thumbnail': {'uri': 'photos_and_videos/thumbnails/61012644_10218639700881037_185497275282227200_n.jpg'},\n",
       "       'description': 'Reading my dissertation live, no idea why. Should take about 4 hours, so feel free to stop in and say hi.\\n\\nAaaaand heeree we gooooo!'}}]}],\n",
       "  'data': [{'post': 'Reading my dissertation live, no idea why. Should take about 4 hours, so feel free to stop in and say hi.\\n\\nAaaaand heeree we gooooo!'}],\n",
       "  'title': 'David Silva was live.'},\n",
       " {'timestamp': 1560197281,\n",
       "  'data': [{'post': 'Update: 3:42pm: After 2 hours and 12 minutes of reading, I finished Chapters 1, 2, and 3. Going to take a break for a bit then come back for the last two chapters!\\n\\nGoing to start reading the dissertation in ~15 minutes.'}],\n",
       "  'title': 'David Silva updated his status.'},\n",
       " {'timestamp': 1559846578,\n",
       "  'data': [{'post': 'Hi all, decided on Lumberyard because it has lots of options. From there, might go to Etsi later if we are up for it.'}],\n",
       "  'title': 'David Silva posted in Bit of Celebrating.'},\n",
       " {'timestamp': 1559776369,\n",
       "  'data': [{'post': '*shuffles papers* ahem\\n\\nI have my PhD.'}],\n",
       "  'title': 'David Silva updated his status.'},\n",
       " {'timestamp': 1559683795,\n",
       "  'data': [{'post': \"*Update 4:00pm 6/5/19: Defense passed! I have a PhD and I'm not afraid to use it (only for good things, of course).\\n\\nIn 24 hours, I will defend my dissertation. It's the last step in earning my PhD and the first time to publicly share this work that has kept me busy the last few years.\\n\\nIf all goes well, on June 10 I will live stream me reading every word of the 167 page document here on Facebook. Feel free to stop in for a sec, say hi, and see if I can actually stomach the task.\\n\\nAt the end of this month, I move to Ohio and begin as an Assistant Professor in the School of Communication Studies with a join appointment in the School of Digital Sciences at Kent State University. There I will continue my research and partner with their awesome faculty in training a new crop of students of communication, digital media, and data. Some days it seems too good to be real.\\n\\nStay tuned for hopefully good news in ~22 hours.\"}],\n",
       "  'title': 'David Silva updated his status.'},\n",
       " {'timestamp': 1552281669,\n",
       "  'data': [{'post': \"Already saw it (and I'll be in Ohio...), so hit me up for spoilers.\"}],\n",
       "  'title': 'David Silva posted in Burgers and Capt. Marvel.'},\n",
       " {'timestamp': 1551465145, 'title': 'David Silva posted in COM GRAD.'}]"
      ]
     },
     "execution_count": 10,
     "metadata": {},
     "output_type": "execute_result"
    }
   ],
   "source": [
    "posts[:10]"
   ]
  },
  {
   "cell_type": "code",
   "execution_count": 11,
   "metadata": {},
   "outputs": [
    {
     "data": {
      "text/plain": [
       "dict"
      ]
     },
     "execution_count": 11,
     "metadata": {},
     "output_type": "execute_result"
    }
   ],
   "source": [
    "type(posts[0])"
   ]
  },
  {
   "cell_type": "code",
   "execution_count": 12,
   "metadata": {},
   "outputs": [
    {
     "data": {
      "text/plain": [
       "dict_keys(['timestamp', 'attachments', 'data'])"
      ]
     },
     "execution_count": 12,
     "metadata": {},
     "output_type": "execute_result"
    }
   ],
   "source": [
    "posts[0].keys()"
   ]
  },
  {
   "cell_type": "code",
   "execution_count": 13,
   "metadata": {},
   "outputs": [
    {
     "data": {
      "text/plain": [
       "536"
      ]
     },
     "execution_count": 13,
     "metadata": {},
     "output_type": "execute_result"
    }
   ],
   "source": [
    "len(posts)"
   ]
  },
  {
   "cell_type": "markdown",
   "metadata": {},
   "source": [
    "There is a key called timestamp, let's look into that a bit more."
   ]
  },
  {
   "cell_type": "code",
   "execution_count": 14,
   "metadata": {},
   "outputs": [
    {
     "data": {
      "text/plain": [
       "1562008506"
      ]
     },
     "execution_count": 14,
     "metadata": {},
     "output_type": "execute_result"
    }
   ],
   "source": [
    "posts[0]['timestamp']"
   ]
  },
  {
   "cell_type": "code",
   "execution_count": 15,
   "metadata": {},
   "outputs": [
    {
     "data": {
      "text/plain": [
       "datetime.datetime(2019, 7, 1, 19, 15, 6)"
      ]
     },
     "execution_count": 15,
     "metadata": {},
     "output_type": "execute_result"
    }
   ],
   "source": [
    "a_date = datetime.utcfromtimestamp(posts[0]['timestamp'])\n",
    "a_date"
   ]
  },
  {
   "cell_type": "code",
   "execution_count": 16,
   "metadata": {},
   "outputs": [
    {
     "data": {
      "text/plain": [
       "(7, 1, 2019)"
      ]
     },
     "execution_count": 16,
     "metadata": {},
     "output_type": "execute_result"
    }
   ],
   "source": [
    "a_date.month, a_date.day, a_date.year"
   ]
  },
  {
   "cell_type": "code",
   "execution_count": 17,
   "metadata": {},
   "outputs": [
    {
     "data": {
      "text/plain": [
       "[datetime.datetime(2019, 7, 1, 19, 15, 6),\n",
       " datetime.datetime(2019, 6, 11, 0, 44, 8),\n",
       " datetime.datetime(2019, 6, 10, 23, 45),\n",
       " datetime.datetime(2019, 6, 10, 20, 28, 52),\n",
       " datetime.datetime(2019, 6, 10, 20, 8, 1),\n",
       " datetime.datetime(2019, 6, 6, 18, 42, 58),\n",
       " datetime.datetime(2019, 6, 5, 23, 12, 49),\n",
       " datetime.datetime(2019, 6, 4, 21, 29, 55),\n",
       " datetime.datetime(2019, 3, 11, 5, 21, 9),\n",
       " datetime.datetime(2019, 3, 1, 18, 32, 25)]"
      ]
     },
     "execution_count": 17,
     "metadata": {},
     "output_type": "execute_result"
    }
   ],
   "source": [
    "post_dates = [datetime.utcfromtimestamp(x['timestamp']) for x in posts]\n",
    "post_dates[:10]"
   ]
  },
  {
   "cell_type": "code",
   "execution_count": 18,
   "metadata": {},
   "outputs": [
    {
     "data": {
      "text/plain": [
       "[2019, 2019, 2019, 2019, 2019, 2019, 2019, 2019, 2019, 2019]"
      ]
     },
     "execution_count": 18,
     "metadata": {},
     "output_type": "execute_result"
    }
   ],
   "source": [
    "post_years = [x.year for x in post_dates]\n",
    "post_years[:10]"
   ]
  },
  {
   "cell_type": "code",
   "execution_count": 19,
   "metadata": {},
   "outputs": [
    {
     "data": {
      "text/plain": [
       "(array([258.,  58.,  52.,  16.,  61.,  30.,   3.,   9.,  26.,  23.]),\n",
       " array([2008. , 2009.1, 2010.2, 2011.3, 2012.4, 2013.5, 2014.6, 2015.7,\n",
       "        2016.8, 2017.9, 2019. ]),\n",
       " <BarContainer object of 10 artists>)"
      ]
     },
     "execution_count": 19,
     "metadata": {},
     "output_type": "execute_result"
    },
    {
     "data": {
      "image/png": "[encoded data removed]",
      "text/plain": [
       "<Figure size 432x288 with 1 Axes>"
      ]
     },
     "metadata": {
      "needs_background": "light"
     },
     "output_type": "display_data"
    }
   ],
   "source": [
    "pyplot.hist(post_years)"
   ]
  },
  {
   "cell_type": "markdown",
   "metadata": {},
   "source": [
    "Hold up, does this make any sense? We are treating time series as just a set of categories. We can do better than this."
   ]
  },
  {
   "cell_type": "code",
   "execution_count": 20,
   "metadata": {},
   "outputs": [],
   "source": [
    "import pandas as pd"
   ]
  },
  {
   "cell_type": "code",
   "execution_count": 21,
   "metadata": {},
   "outputs": [
    {
     "data": {
      "text/html": [
       "<div>\n",
       "<style scoped>\n",
       "    .dataframe tbody tr th:only-of-type {\n",
       "        vertical-align: middle;\n",
       "    }\n",
       "\n",
       "    .dataframe tbody tr th {\n",
       "        vertical-align: top;\n",
       "    }\n",
       "\n",
       "    .dataframe thead th {\n",
       "        text-align: right;\n",
       "    }\n",
       "</style>\n",
       "<table border=\"1\" class=\"dataframe\">\n",
       "  <thead>\n",
       "    <tr style=\"text-align: right;\">\n",
       "      <th></th>\n",
       "      <th>timestamp</th>\n",
       "      <th>attachments</th>\n",
       "      <th>data</th>\n",
       "      <th>title</th>\n",
       "      <th>tags</th>\n",
       "    </tr>\n",
       "  </thead>\n",
       "  <tbody>\n",
       "    <tr>\n",
       "      <th>0</th>\n",
       "      <td>1562008506</td>\n",
       "      <td>[{'data': [{'media': {'uri': 'photos_and_video...</td>\n",
       "      <td>[{'post': 'This is just too surreal, exciting,...</td>\n",
       "      <td>NaN</td>\n",
       "      <td>NaN</td>\n",
       "    </tr>\n",
       "    <tr>\n",
       "      <th>1</th>\n",
       "      <td>1560213848</td>\n",
       "      <td>NaN</td>\n",
       "      <td>[{'post': 'The reading is done! Only took 3 ho...</td>\n",
       "      <td>David Silva updated his status.</td>\n",
       "      <td>NaN</td>\n",
       "    </tr>\n",
       "    <tr>\n",
       "      <th>2</th>\n",
       "      <td>1560210300</td>\n",
       "      <td>[{'data': [{'media': {'uri': 'photos_and_video...</td>\n",
       "      <td>[{'post': 'BACK AND READY TO FINISH THIS! Resu...</td>\n",
       "      <td>David Silva was live.</td>\n",
       "      <td>NaN</td>\n",
       "    </tr>\n",
       "    <tr>\n",
       "      <th>3</th>\n",
       "      <td>1560198532</td>\n",
       "      <td>[{'data': [{'media': {'uri': 'photos_and_video...</td>\n",
       "      <td>[{'post': 'Reading my dissertation live, no id...</td>\n",
       "      <td>David Silva was live.</td>\n",
       "      <td>NaN</td>\n",
       "    </tr>\n",
       "    <tr>\n",
       "      <th>4</th>\n",
       "      <td>1560197281</td>\n",
       "      <td>NaN</td>\n",
       "      <td>[{'post': 'Update: 3:42pm: After 2 hours and 1...</td>\n",
       "      <td>David Silva updated his status.</td>\n",
       "      <td>NaN</td>\n",
       "    </tr>\n",
       "    <tr>\n",
       "      <th>...</th>\n",
       "      <td>...</td>\n",
       "      <td>...</td>\n",
       "      <td>...</td>\n",
       "      <td>...</td>\n",
       "      <td>...</td>\n",
       "    </tr>\n",
       "    <tr>\n",
       "      <th>531</th>\n",
       "      <td>1213050248</td>\n",
       "      <td>NaN</td>\n",
       "      <td>[{'post': 'is going to MEXICO in 3 days!'}]</td>\n",
       "      <td>David Silva updated his status.</td>\n",
       "      <td>NaN</td>\n",
       "    </tr>\n",
       "    <tr>\n",
       "      <th>532</th>\n",
       "      <td>1212206744</td>\n",
       "      <td>NaN</td>\n",
       "      <td>[{'post': 'has to work tomorow :('}]</td>\n",
       "      <td>David Silva updated his status.</td>\n",
       "      <td>NaN</td>\n",
       "    </tr>\n",
       "    <tr>\n",
       "      <th>533</th>\n",
       "      <td>1212127875</td>\n",
       "      <td>NaN</td>\n",
       "      <td>[{'post': 'just got back from climbing! it was...</td>\n",
       "      <td>David Silva updated his status.</td>\n",
       "      <td>NaN</td>\n",
       "    </tr>\n",
       "    <tr>\n",
       "      <th>534</th>\n",
       "      <td>1212037617</td>\n",
       "      <td>NaN</td>\n",
       "      <td>[{'post': 'is your leader... do as he says'}]</td>\n",
       "      <td>David Silva updated his status.</td>\n",
       "      <td>NaN</td>\n",
       "    </tr>\n",
       "    <tr>\n",
       "      <th>535</th>\n",
       "      <td>1211508036</td>\n",
       "      <td>NaN</td>\n",
       "      <td>[{'post': 'is el presidente follow me'}]</td>\n",
       "      <td>David Silva updated his status.</td>\n",
       "      <td>NaN</td>\n",
       "    </tr>\n",
       "  </tbody>\n",
       "</table>\n",
       "<p>536 rows × 5 columns</p>\n",
       "</div>"
      ],
      "text/plain": [
       "      timestamp                                        attachments  \\\n",
       "0    1562008506  [{'data': [{'media': {'uri': 'photos_and_video...   \n",
       "1    1560213848                                                NaN   \n",
       "2    1560210300  [{'data': [{'media': {'uri': 'photos_and_video...   \n",
       "3    1560198532  [{'data': [{'media': {'uri': 'photos_and_video...   \n",
       "4    1560197281                                                NaN   \n",
       "..          ...                                                ...   \n",
       "531  1213050248                                                NaN   \n",
       "532  1212206744                                                NaN   \n",
       "533  1212127875                                                NaN   \n",
       "534  1212037617                                                NaN   \n",
       "535  1211508036                                                NaN   \n",
       "\n",
       "                                                  data  \\\n",
       "0    [{'post': 'This is just too surreal, exciting,...   \n",
       "1    [{'post': 'The reading is done! Only took 3 ho...   \n",
       "2    [{'post': 'BACK AND READY TO FINISH THIS! Resu...   \n",
       "3    [{'post': 'Reading my dissertation live, no id...   \n",
       "4    [{'post': 'Update: 3:42pm: After 2 hours and 1...   \n",
       "..                                                 ...   \n",
       "531        [{'post': 'is going to MEXICO in 3 days!'}]   \n",
       "532               [{'post': 'has to work tomorow :('}]   \n",
       "533  [{'post': 'just got back from climbing! it was...   \n",
       "534      [{'post': 'is your leader... do as he says'}]   \n",
       "535           [{'post': 'is el presidente follow me'}]   \n",
       "\n",
       "                               title tags  \n",
       "0                                NaN  NaN  \n",
       "1    David Silva updated his status.  NaN  \n",
       "2              David Silva was live.  NaN  \n",
       "3              David Silva was live.  NaN  \n",
       "4    David Silva updated his status.  NaN  \n",
       "..                               ...  ...  \n",
       "531  David Silva updated his status.  NaN  \n",
       "532  David Silva updated his status.  NaN  \n",
       "533  David Silva updated his status.  NaN  \n",
       "534  David Silva updated his status.  NaN  \n",
       "535  David Silva updated his status.  NaN  \n",
       "\n",
       "[536 rows x 5 columns]"
      ]
     },
     "execution_count": 21,
     "metadata": {},
     "output_type": "execute_result"
    }
   ],
   "source": [
    "posts_df = pd.DataFrame(posts)\n",
    "posts_df"
   ]
  },
  {
   "cell_type": "code",
   "execution_count": 22,
   "metadata": {},
   "outputs": [
    {
     "data": {
      "text/html": [
       "<div>\n",
       "<style scoped>\n",
       "    .dataframe tbody tr th:only-of-type {\n",
       "        vertical-align: middle;\n",
       "    }\n",
       "\n",
       "    .dataframe tbody tr th {\n",
       "        vertical-align: top;\n",
       "    }\n",
       "\n",
       "    .dataframe thead th {\n",
       "        text-align: right;\n",
       "    }\n",
       "</style>\n",
       "<table border=\"1\" class=\"dataframe\">\n",
       "  <thead>\n",
       "    <tr style=\"text-align: right;\">\n",
       "      <th></th>\n",
       "      <th>timestamp</th>\n",
       "      <th>attachments</th>\n",
       "      <th>data</th>\n",
       "      <th>title</th>\n",
       "      <th>tags</th>\n",
       "    </tr>\n",
       "  </thead>\n",
       "  <tbody>\n",
       "    <tr>\n",
       "      <th>0</th>\n",
       "      <td>2019-07-01 19:15:06</td>\n",
       "      <td>[{'data': [{'media': {'uri': 'photos_and_video...</td>\n",
       "      <td>[{'post': 'This is just too surreal, exciting,...</td>\n",
       "      <td>NaN</td>\n",
       "      <td>NaN</td>\n",
       "    </tr>\n",
       "    <tr>\n",
       "      <th>1</th>\n",
       "      <td>2019-06-11 00:44:08</td>\n",
       "      <td>NaN</td>\n",
       "      <td>[{'post': 'The reading is done! Only took 3 ho...</td>\n",
       "      <td>David Silva updated his status.</td>\n",
       "      <td>NaN</td>\n",
       "    </tr>\n",
       "    <tr>\n",
       "      <th>2</th>\n",
       "      <td>2019-06-10 23:45:00</td>\n",
       "      <td>[{'data': [{'media': {'uri': 'photos_and_video...</td>\n",
       "      <td>[{'post': 'BACK AND READY TO FINISH THIS! Resu...</td>\n",
       "      <td>David Silva was live.</td>\n",
       "      <td>NaN</td>\n",
       "    </tr>\n",
       "    <tr>\n",
       "      <th>3</th>\n",
       "      <td>2019-06-10 20:28:52</td>\n",
       "      <td>[{'data': [{'media': {'uri': 'photos_and_video...</td>\n",
       "      <td>[{'post': 'Reading my dissertation live, no id...</td>\n",
       "      <td>David Silva was live.</td>\n",
       "      <td>NaN</td>\n",
       "    </tr>\n",
       "    <tr>\n",
       "      <th>4</th>\n",
       "      <td>2019-06-10 20:08:01</td>\n",
       "      <td>NaN</td>\n",
       "      <td>[{'post': 'Update: 3:42pm: After 2 hours and 1...</td>\n",
       "      <td>David Silva updated his status.</td>\n",
       "      <td>NaN</td>\n",
       "    </tr>\n",
       "    <tr>\n",
       "      <th>...</th>\n",
       "      <td>...</td>\n",
       "      <td>...</td>\n",
       "      <td>...</td>\n",
       "      <td>...</td>\n",
       "      <td>...</td>\n",
       "    </tr>\n",
       "    <tr>\n",
       "      <th>531</th>\n",
       "      <td>2008-06-09 22:24:08</td>\n",
       "      <td>NaN</td>\n",
       "      <td>[{'post': 'is going to MEXICO in 3 days!'}]</td>\n",
       "      <td>David Silva updated his status.</td>\n",
       "      <td>NaN</td>\n",
       "    </tr>\n",
       "    <tr>\n",
       "      <th>532</th>\n",
       "      <td>2008-05-31 04:05:44</td>\n",
       "      <td>NaN</td>\n",
       "      <td>[{'post': 'has to work tomorow :('}]</td>\n",
       "      <td>David Silva updated his status.</td>\n",
       "      <td>NaN</td>\n",
       "    </tr>\n",
       "    <tr>\n",
       "      <th>533</th>\n",
       "      <td>2008-05-30 06:11:15</td>\n",
       "      <td>NaN</td>\n",
       "      <td>[{'post': 'just got back from climbing! it was...</td>\n",
       "      <td>David Silva updated his status.</td>\n",
       "      <td>NaN</td>\n",
       "    </tr>\n",
       "    <tr>\n",
       "      <th>534</th>\n",
       "      <td>2008-05-29 05:06:57</td>\n",
       "      <td>NaN</td>\n",
       "      <td>[{'post': 'is your leader... do as he says'}]</td>\n",
       "      <td>David Silva updated his status.</td>\n",
       "      <td>NaN</td>\n",
       "    </tr>\n",
       "    <tr>\n",
       "      <th>535</th>\n",
       "      <td>2008-05-23 02:00:36</td>\n",
       "      <td>NaN</td>\n",
       "      <td>[{'post': 'is el presidente follow me'}]</td>\n",
       "      <td>David Silva updated his status.</td>\n",
       "      <td>NaN</td>\n",
       "    </tr>\n",
       "  </tbody>\n",
       "</table>\n",
       "<p>536 rows × 5 columns</p>\n",
       "</div>"
      ],
      "text/plain": [
       "              timestamp                                        attachments  \\\n",
       "0   2019-07-01 19:15:06  [{'data': [{'media': {'uri': 'photos_and_video...   \n",
       "1   2019-06-11 00:44:08                                                NaN   \n",
       "2   2019-06-10 23:45:00  [{'data': [{'media': {'uri': 'photos_and_video...   \n",
       "3   2019-06-10 20:28:52  [{'data': [{'media': {'uri': 'photos_and_video...   \n",
       "4   2019-06-10 20:08:01                                                NaN   \n",
       "..                  ...                                                ...   \n",
       "531 2008-06-09 22:24:08                                                NaN   \n",
       "532 2008-05-31 04:05:44                                                NaN   \n",
       "533 2008-05-30 06:11:15                                                NaN   \n",
       "534 2008-05-29 05:06:57                                                NaN   \n",
       "535 2008-05-23 02:00:36                                                NaN   \n",
       "\n",
       "                                                  data  \\\n",
       "0    [{'post': 'This is just too surreal, exciting,...   \n",
       "1    [{'post': 'The reading is done! Only took 3 ho...   \n",
       "2    [{'post': 'BACK AND READY TO FINISH THIS! Resu...   \n",
       "3    [{'post': 'Reading my dissertation live, no id...   \n",
       "4    [{'post': 'Update: 3:42pm: After 2 hours and 1...   \n",
       "..                                                 ...   \n",
       "531        [{'post': 'is going to MEXICO in 3 days!'}]   \n",
       "532               [{'post': 'has to work tomorow :('}]   \n",
       "533  [{'post': 'just got back from climbing! it was...   \n",
       "534      [{'post': 'is your leader... do as he says'}]   \n",
       "535           [{'post': 'is el presidente follow me'}]   \n",
       "\n",
       "                               title tags  \n",
       "0                                NaN  NaN  \n",
       "1    David Silva updated his status.  NaN  \n",
       "2              David Silva was live.  NaN  \n",
       "3              David Silva was live.  NaN  \n",
       "4    David Silva updated his status.  NaN  \n",
       "..                               ...  ...  \n",
       "531  David Silva updated his status.  NaN  \n",
       "532  David Silva updated his status.  NaN  \n",
       "533  David Silva updated his status.  NaN  \n",
       "534  David Silva updated his status.  NaN  \n",
       "535  David Silva updated his status.  NaN  \n",
       "\n",
       "[536 rows x 5 columns]"
      ]
     },
     "execution_count": 22,
     "metadata": {},
     "output_type": "execute_result"
    }
   ],
   "source": [
    "posts_df['timestamp'] = [datetime.utcfromtimestamp(x) for x in posts_df['timestamp']]\n",
    "posts_df"
   ]
  },
  {
   "cell_type": "code",
   "execution_count": 23,
   "metadata": {},
   "outputs": [
    {
     "data": {
      "text/html": [
       "<div>\n",
       "<style scoped>\n",
       "    .dataframe tbody tr th:only-of-type {\n",
       "        vertical-align: middle;\n",
       "    }\n",
       "\n",
       "    .dataframe tbody tr th {\n",
       "        vertical-align: top;\n",
       "    }\n",
       "\n",
       "    .dataframe thead th {\n",
       "        text-align: right;\n",
       "    }\n",
       "</style>\n",
       "<table border=\"1\" class=\"dataframe\">\n",
       "  <thead>\n",
       "    <tr style=\"text-align: right;\">\n",
       "      <th></th>\n",
       "      <th>timestamp</th>\n",
       "      <th>attachments</th>\n",
       "      <th>data</th>\n",
       "      <th>title</th>\n",
       "      <th>tags</th>\n",
       "      <th>years</th>\n",
       "    </tr>\n",
       "  </thead>\n",
       "  <tbody>\n",
       "    <tr>\n",
       "      <th>0</th>\n",
       "      <td>2019-07-01 19:15:06</td>\n",
       "      <td>[{'data': [{'media': {'uri': 'photos_and_video...</td>\n",
       "      <td>[{'post': 'This is just too surreal, exciting,...</td>\n",
       "      <td>NaN</td>\n",
       "      <td>NaN</td>\n",
       "      <td>2019</td>\n",
       "    </tr>\n",
       "    <tr>\n",
       "      <th>1</th>\n",
       "      <td>2019-06-11 00:44:08</td>\n",
       "      <td>NaN</td>\n",
       "      <td>[{'post': 'The reading is done! Only took 3 ho...</td>\n",
       "      <td>David Silva updated his status.</td>\n",
       "      <td>NaN</td>\n",
       "      <td>2019</td>\n",
       "    </tr>\n",
       "    <tr>\n",
       "      <th>2</th>\n",
       "      <td>2019-06-10 23:45:00</td>\n",
       "      <td>[{'data': [{'media': {'uri': 'photos_and_video...</td>\n",
       "      <td>[{'post': 'BACK AND READY TO FINISH THIS! Resu...</td>\n",
       "      <td>David Silva was live.</td>\n",
       "      <td>NaN</td>\n",
       "      <td>2019</td>\n",
       "    </tr>\n",
       "    <tr>\n",
       "      <th>3</th>\n",
       "      <td>2019-06-10 20:28:52</td>\n",
       "      <td>[{'data': [{'media': {'uri': 'photos_and_video...</td>\n",
       "      <td>[{'post': 'Reading my dissertation live, no id...</td>\n",
       "      <td>David Silva was live.</td>\n",
       "      <td>NaN</td>\n",
       "      <td>2019</td>\n",
       "    </tr>\n",
       "    <tr>\n",
       "      <th>4</th>\n",
       "      <td>2019-06-10 20:08:01</td>\n",
       "      <td>NaN</td>\n",
       "      <td>[{'post': 'Update: 3:42pm: After 2 hours and 1...</td>\n",
       "      <td>David Silva updated his status.</td>\n",
       "      <td>NaN</td>\n",
       "      <td>2019</td>\n",
       "    </tr>\n",
       "    <tr>\n",
       "      <th>...</th>\n",
       "      <td>...</td>\n",
       "      <td>...</td>\n",
       "      <td>...</td>\n",
       "      <td>...</td>\n",
       "      <td>...</td>\n",
       "      <td>...</td>\n",
       "    </tr>\n",
       "    <tr>\n",
       "      <th>531</th>\n",
       "      <td>2008-06-09 22:24:08</td>\n",
       "      <td>NaN</td>\n",
       "      <td>[{'post': 'is going to MEXICO in 3 days!'}]</td>\n",
       "      <td>David Silva updated his status.</td>\n",
       "      <td>NaN</td>\n",
       "      <td>2008</td>\n",
       "    </tr>\n",
       "    <tr>\n",
       "      <th>532</th>\n",
       "      <td>2008-05-31 04:05:44</td>\n",
       "      <td>NaN</td>\n",
       "      <td>[{'post': 'has to work tomorow :('}]</td>\n",
       "      <td>David Silva updated his status.</td>\n",
       "      <td>NaN</td>\n",
       "      <td>2008</td>\n",
       "    </tr>\n",
       "    <tr>\n",
       "      <th>533</th>\n",
       "      <td>2008-05-30 06:11:15</td>\n",
       "      <td>NaN</td>\n",
       "      <td>[{'post': 'just got back from climbing! it was...</td>\n",
       "      <td>David Silva updated his status.</td>\n",
       "      <td>NaN</td>\n",
       "      <td>2008</td>\n",
       "    </tr>\n",
       "    <tr>\n",
       "      <th>534</th>\n",
       "      <td>2008-05-29 05:06:57</td>\n",
       "      <td>NaN</td>\n",
       "      <td>[{'post': 'is your leader... do as he says'}]</td>\n",
       "      <td>David Silva updated his status.</td>\n",
       "      <td>NaN</td>\n",
       "      <td>2008</td>\n",
       "    </tr>\n",
       "    <tr>\n",
       "      <th>535</th>\n",
       "      <td>2008-05-23 02:00:36</td>\n",
       "      <td>NaN</td>\n",
       "      <td>[{'post': 'is el presidente follow me'}]</td>\n",
       "      <td>David Silva updated his status.</td>\n",
       "      <td>NaN</td>\n",
       "      <td>2008</td>\n",
       "    </tr>\n",
       "  </tbody>\n",
       "</table>\n",
       "<p>536 rows × 6 columns</p>\n",
       "</div>"
      ],
      "text/plain": [
       "              timestamp                                        attachments  \\\n",
       "0   2019-07-01 19:15:06  [{'data': [{'media': {'uri': 'photos_and_video...   \n",
       "1   2019-06-11 00:44:08                                                NaN   \n",
       "2   2019-06-10 23:45:00  [{'data': [{'media': {'uri': 'photos_and_video...   \n",
       "3   2019-06-10 20:28:52  [{'data': [{'media': {'uri': 'photos_and_video...   \n",
       "4   2019-06-10 20:08:01                                                NaN   \n",
       "..                  ...                                                ...   \n",
       "531 2008-06-09 22:24:08                                                NaN   \n",
       "532 2008-05-31 04:05:44                                                NaN   \n",
       "533 2008-05-30 06:11:15                                                NaN   \n",
       "534 2008-05-29 05:06:57                                                NaN   \n",
       "535 2008-05-23 02:00:36                                                NaN   \n",
       "\n",
       "                                                  data  \\\n",
       "0    [{'post': 'This is just too surreal, exciting,...   \n",
       "1    [{'post': 'The reading is done! Only took 3 ho...   \n",
       "2    [{'post': 'BACK AND READY TO FINISH THIS! Resu...   \n",
       "3    [{'post': 'Reading my dissertation live, no id...   \n",
       "4    [{'post': 'Update: 3:42pm: After 2 hours and 1...   \n",
       "..                                                 ...   \n",
       "531        [{'post': 'is going to MEXICO in 3 days!'}]   \n",
       "532               [{'post': 'has to work tomorow :('}]   \n",
       "533  [{'post': 'just got back from climbing! it was...   \n",
       "534      [{'post': 'is your leader... do as he says'}]   \n",
       "535           [{'post': 'is el presidente follow me'}]   \n",
       "\n",
       "                               title tags  years  \n",
       "0                                NaN  NaN   2019  \n",
       "1    David Silva updated his status.  NaN   2019  \n",
       "2              David Silva was live.  NaN   2019  \n",
       "3              David Silva was live.  NaN   2019  \n",
       "4    David Silva updated his status.  NaN   2019  \n",
       "..                               ...  ...    ...  \n",
       "531  David Silva updated his status.  NaN   2008  \n",
       "532  David Silva updated his status.  NaN   2008  \n",
       "533  David Silva updated his status.  NaN   2008  \n",
       "534  David Silva updated his status.  NaN   2008  \n",
       "535  David Silva updated his status.  NaN   2008  \n",
       "\n",
       "[536 rows x 6 columns]"
      ]
     },
     "execution_count": 23,
     "metadata": {},
     "output_type": "execute_result"
    }
   ],
   "source": [
    "posts_df['years'] = [x.year for x in posts_df['timestamp']]\n",
    "posts_df"
   ]
  },
  {
   "cell_type": "code",
   "execution_count": 24,
   "metadata": {},
   "outputs": [
    {
     "data": {
      "text/html": [
       "<div>\n",
       "<style scoped>\n",
       "    .dataframe tbody tr th:only-of-type {\n",
       "        vertical-align: middle;\n",
       "    }\n",
       "\n",
       "    .dataframe tbody tr th {\n",
       "        vertical-align: top;\n",
       "    }\n",
       "\n",
       "    .dataframe thead th {\n",
       "        text-align: right;\n",
       "    }\n",
       "</style>\n",
       "<table border=\"1\" class=\"dataframe\">\n",
       "  <thead>\n",
       "    <tr style=\"text-align: right;\">\n",
       "      <th></th>\n",
       "      <th>timestamp</th>\n",
       "      <th>attachments</th>\n",
       "      <th>data</th>\n",
       "      <th>title</th>\n",
       "      <th>tags</th>\n",
       "    </tr>\n",
       "    <tr>\n",
       "      <th>years</th>\n",
       "      <th></th>\n",
       "      <th></th>\n",
       "      <th></th>\n",
       "      <th></th>\n",
       "      <th></th>\n",
       "    </tr>\n",
       "  </thead>\n",
       "  <tbody>\n",
       "    <tr>\n",
       "      <th>2008</th>\n",
       "      <td>76</td>\n",
       "      <td>32</td>\n",
       "      <td>44</td>\n",
       "      <td>76</td>\n",
       "      <td>28</td>\n",
       "    </tr>\n",
       "    <tr>\n",
       "      <th>2009</th>\n",
       "      <td>182</td>\n",
       "      <td>21</td>\n",
       "      <td>163</td>\n",
       "      <td>178</td>\n",
       "      <td>1</td>\n",
       "    </tr>\n",
       "    <tr>\n",
       "      <th>2010</th>\n",
       "      <td>58</td>\n",
       "      <td>1</td>\n",
       "      <td>58</td>\n",
       "      <td>57</td>\n",
       "      <td>0</td>\n",
       "    </tr>\n",
       "    <tr>\n",
       "      <th>2011</th>\n",
       "      <td>52</td>\n",
       "      <td>4</td>\n",
       "      <td>51</td>\n",
       "      <td>49</td>\n",
       "      <td>0</td>\n",
       "    </tr>\n",
       "    <tr>\n",
       "      <th>2012</th>\n",
       "      <td>16</td>\n",
       "      <td>8</td>\n",
       "      <td>10</td>\n",
       "      <td>8</td>\n",
       "      <td>4</td>\n",
       "    </tr>\n",
       "    <tr>\n",
       "      <th>2013</th>\n",
       "      <td>61</td>\n",
       "      <td>38</td>\n",
       "      <td>49</td>\n",
       "      <td>26</td>\n",
       "      <td>9</td>\n",
       "    </tr>\n",
       "    <tr>\n",
       "      <th>2014</th>\n",
       "      <td>30</td>\n",
       "      <td>18</td>\n",
       "      <td>23</td>\n",
       "      <td>12</td>\n",
       "      <td>8</td>\n",
       "    </tr>\n",
       "    <tr>\n",
       "      <th>2015</th>\n",
       "      <td>3</td>\n",
       "      <td>2</td>\n",
       "      <td>3</td>\n",
       "      <td>2</td>\n",
       "      <td>1</td>\n",
       "    </tr>\n",
       "    <tr>\n",
       "      <th>2016</th>\n",
       "      <td>9</td>\n",
       "      <td>2</td>\n",
       "      <td>9</td>\n",
       "      <td>9</td>\n",
       "      <td>0</td>\n",
       "    </tr>\n",
       "    <tr>\n",
       "      <th>2017</th>\n",
       "      <td>26</td>\n",
       "      <td>13</td>\n",
       "      <td>26</td>\n",
       "      <td>23</td>\n",
       "      <td>1</td>\n",
       "    </tr>\n",
       "    <tr>\n",
       "      <th>2018</th>\n",
       "      <td>12</td>\n",
       "      <td>7</td>\n",
       "      <td>12</td>\n",
       "      <td>9</td>\n",
       "      <td>2</td>\n",
       "    </tr>\n",
       "    <tr>\n",
       "      <th>2019</th>\n",
       "      <td>11</td>\n",
       "      <td>3</td>\n",
       "      <td>10</td>\n",
       "      <td>10</td>\n",
       "      <td>0</td>\n",
       "    </tr>\n",
       "  </tbody>\n",
       "</table>\n",
       "</div>"
      ],
      "text/plain": [
       "       timestamp  attachments  data  title  tags\n",
       "years                                           \n",
       "2008          76           32    44     76    28\n",
       "2009         182           21   163    178     1\n",
       "2010          58            1    58     57     0\n",
       "2011          52            4    51     49     0\n",
       "2012          16            8    10      8     4\n",
       "2013          61           38    49     26     9\n",
       "2014          30           18    23     12     8\n",
       "2015           3            2     3      2     1\n",
       "2016           9            2     9      9     0\n",
       "2017          26           13    26     23     1\n",
       "2018          12            7    12      9     2\n",
       "2019          11            3    10     10     0"
      ]
     },
     "execution_count": 24,
     "metadata": {},
     "output_type": "execute_result"
    }
   ],
   "source": [
    "groups_df = posts_df.groupby('years').count()\n",
    "groups_df"
   ]
  },
  {
   "cell_type": "code",
   "execution_count": 25,
   "metadata": {},
   "outputs": [],
   "source": [
    "years = range(2008,2020)"
   ]
  },
  {
   "cell_type": "code",
   "execution_count": 26,
   "metadata": {},
   "outputs": [
    {
     "data": {
      "image/png": "[encoded data removed]",
      "text/plain": [
       "<Figure size 432x288 with 1 Axes>"
      ]
     },
     "metadata": {},
     "output_type": "display_data"
    }
   ],
   "source": [
    "pieplot = pyplot.pie(x = groups_df['data'], labels = years, startangle = 90, counterclock = False, labeldistance = 1.2, textprops = {'rotation': -45})"
   ]
  },
  {
   "cell_type": "markdown",
   "metadata": {},
   "source": [
    "Without any statistical analysis, what observations can we make about the number of posts made to Facebook over the years?"
   ]
  }
 ],
 "metadata": {
  "kernelspec": {
   "display_name": "Python 3",
   "language": "python",
   "name": "python3"
  },
  "language_info": {
   "codemirror_mode": {
    "name": "ipython",
    "version": 3
   },
   "file_extension": ".py",
   "mimetype": "text/x-python",
   "name": "python",
   "nbconvert_exporter": "python",
   "pygments_lexer": "ipython3",
   "version": "3.9.1"
  }
 },
 "nbformat": 4,
 "nbformat_minor": 4
}

{
 "cells": [
  {
   "cell_type": "code",
   "execution_count": 1,
   "id": "herbal-tyler",
   "metadata": {},
   "outputs": [],
   "source": [
    "import requests\n",
    "import urllib\n",
    "import json\n",
    "import pandas as pd"
   ]
  },
  {
   "cell_type": "code",
   "execution_count": 2,
   "id": "amateur-universe",
   "metadata": {},
   "outputs": [],
   "source": [
    "tokens = pd.read_csv('Twitter-Keys_4.19.12.txt', sep = '\\t', header = None).T\n",
    "tokens.columns = tokens.iloc[0]\n",
    "tokens = tokens[1:]\n",
    "#tokens.Bearer_Token[1]"
   ]
  },
  {
   "cell_type": "code",
   "execution_count": 3,
   "id": "ready-activation",
   "metadata": {},
   "outputs": [],
   "source": [
    "def auth():\n",
    "    return tokens.Bearer_Token[1]\n",
    "\n",
    "#print(auth())"
   ]
  },
  {
   "cell_type": "code",
   "execution_count": 4,
   "id": "humanitarian-villa",
   "metadata": {},
   "outputs": [],
   "source": [
    "#Here is where you build your query from operators\n",
    "#See operators here: https://developer.twitter.com/en/docs/twitter-api/tweets/search/integrate/build-a-query#build"
   ]
  },
  {
   "cell_type": "code",
   "execution_count": 5,
   "id": "traditional-intake",
   "metadata": {},
   "outputs": [
    {
     "name": "stdout",
     "output_type": "stream",
     "text": [
      "https://api.twitter.com/2/tweets/search/recent?query=%28Columbus%20Crew%29%20OR%20%23Crew96%20-is%3Aretweet&tweet.fields=author_id,conversation_id,geo,public_metrics,text\n"
     ]
    }
   ],
   "source": [
    "def create_url():\n",
    "    query = urllib.parse.quote('(Columbus Crew) OR #Crew96 -is:retweet')\n",
    "    #query = \"#Crew96 -is:retweet lang:en\"\n",
    "    # Tweet fields are adjustable.\n",
    "    # Options include:\n",
    "    # attachments, author_id, context_annotations,\n",
    "    # conversation_id, created_at, entities, geo, id,\n",
    "    # in_reply_to_user_id, lang, non_public_metrics, organic_metrics,\n",
    "    # possibly_sensitive, promoted_metrics, public_metrics, referenced_tweets,\n",
    "    # source, text, and withheld\n",
    "    tweet_fields = \"tweet.fields=author_id,conversation_id,geo,public_metrics,text\"\n",
    "    url = \"https://api.twitter.com/2/tweets/search/recent?query={}&{}\".format(\n",
    "        query, tweet_fields\n",
    "    )\n",
    "    return url\n",
    "\n",
    "print(create_url())"
   ]
  },
  {
   "cell_type": "code",
   "execution_count": 6,
   "id": "comfortable-count",
   "metadata": {},
   "outputs": [],
   "source": [
    "def create_headers(bearer_token):\n",
    "    headers = {\"Authorization\": \"Bearer {}\".format(bearer_token)}\n",
    "    return headers\n",
    "\n",
    "#print(create_headers(tokens.Bearer_Token[1]))"
   ]
  },
  {
   "cell_type": "code",
   "execution_count": 7,
   "id": "determined-showcase",
   "metadata": {},
   "outputs": [],
   "source": [
    "def connect_to_endpoint(url, headers):\n",
    "    response = requests.request(\"GET\", url, headers=headers)\n",
    "    print(response.status_code)\n",
    "    if response.status_code != 200:\n",
    "        raise Exception(response.status_code, response.text)\n",
    "    return response.json()"
   ]
  },
  {
   "cell_type": "code",
   "execution_count": 8,
   "id": "manual-flour",
   "metadata": {},
   "outputs": [],
   "source": [
    "def main():\n",
    "    bearer_token = auth()\n",
    "    url = create_url()\n",
    "    headers = create_headers(bearer_token)\n",
    "    json_response = connect_to_endpoint(url, headers)\n",
    "    print(json.dumps(json_response, indent=4, sort_keys=True))"
   ]
  },
  {
   "cell_type": "code",
   "execution_count": 9,
   "id": "declared-dietary",
   "metadata": {},
   "outputs": [],
   "source": [
    "#main()"
   ]
  }
 ],
 "metadata": {
  "kernelspec": {
   "display_name": "Python 3",
   "language": "python",
   "name": "python3"
  },
  "language_info": {
   "codemirror_mode": {
    "name": "ipython",
    "version": 3
   },
   "file_extension": ".py",
   "mimetype": "text/x-python",
   "name": "python",
   "nbconvert_exporter": "python",
   "pygments_lexer": "ipython3",
   "version": "3.9.2"
  }
 },
 "nbformat": 4,
 "nbformat_minor": 5
}

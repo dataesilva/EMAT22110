{
 "cells": [
  {
   "cell_type": "markdown",
   "metadata": {},
   "source": [
    "### Testing out the chi-square test of independence, t-test and Pearson correlation\n",
    "We are going to use the you_off-facebook_activity file from the Facebook profile information. After transforming the data to a DataFrame of frequencies by event type, we are going to compare the distributions of event types to each other."
   ]
  },
  {
   "cell_type": "code",
   "execution_count": 1,
   "metadata": {},
   "outputs": [],
   "source": [
    "import json\n",
    "from datetime import datetime\n",
    "import matplotlib.pyplot as plt\n",
    "import numpy as np\n",
    "import time\n",
    "import pandas as pd"
   ]
  },
  {
   "cell_type": "markdown",
   "metadata": {},
   "source": [
    "To read in your data, you will need the json file titled \"your_off_facebook_activity\". This file is usually located the the folder titled \"ads_and_businesses\" from the Facebook download."
   ]
  },
  {
   "cell_type": "code",
   "execution_count": 2,
   "metadata": {},
   "outputs": [
    {
     "data": {
      "text/plain": [
       "dict_keys(['off_facebook_activity'])"
      ]
     },
     "execution_count": 2,
     "metadata": {},
     "output_type": "execute_result"
    }
   ],
   "source": [
    "with open(r\"D:\\EMAT_22110\\FB Data Silva\\facebook-davidsilva100046_toshare\\ads_and_businesses\\your_off-facebook_activity.json\") as f:\n",
    "    act = json.load(f)\n",
    "act.keys()"
   ]
  },
  {
   "cell_type": "markdown",
   "metadata": {},
   "source": [
    "##### List Comprehension\n",
    "`apps_requests` is the resulting list of looping over each dictionary in the 'off_facebook_activity' list and selecting the value from the 'name' key.\n",
    "`all_event_count` is the resulting list of looping over each dictionary in the 'off_facebook_activity' list and getting the length of the 'events' list.\n",
    "The other six variables accomplish the follow task, except for different activity types:\n",
    "Each dictionary in the 'off_facebook_activity' list is selected in order and given the temporary name `j`. Each element from the 'events' key is selected from j and it's 'type' is checked against a specific type. The number of True values for that type are then saved for all the apps. "
   ]
  },
  {
   "cell_type": "code",
   "execution_count": 3,
   "metadata": {},
   "outputs": [
    {
     "data": {
      "text/plain": [
       "True"
      ]
     },
     "execution_count": 3,
     "metadata": {},
     "output_type": "execute_result"
    }
   ],
   "source": [
    "act['off_facebook_activity'][0]['events'][0]['type'] == 'ACTIVATE_APP'"
   ]
  },
  {
   "cell_type": "code",
   "execution_count": 4,
   "metadata": {},
   "outputs": [],
   "source": [
    "apps_requests = [x['name'] for x in act['off_facebook_activity']]\n",
    "all_event_count = [len(x['events']) for x in act['off_facebook_activity']]\n",
    "activation_count = [len([x for x in j['events'] if x['type'] == 'ACTIVATE_APP']) for j in act['off_facebook_activity']]\n",
    "custom_count = [len([x for x in j['events'] if x['type'] == 'CUSTOM']) for j in act['off_facebook_activity']]\n",
    "search_count = [len([x for x in j['events'] if x['type'] == 'SEARCH']) for j in act['off_facebook_activity']]\n",
    "view_content_count = [len([x for x in j['events'] if x['type'] == 'VIEW_CONTENT']) for j in act['off_facebook_activity']]\n",
    "ad_request_count = [len([x for x in j['events'] if x['type'] == 'AD_REQUEST']) for j in act['off_facebook_activity']]\n",
    "page_view_count = [len([x for x in j['events'] if x['type'] == 'PAGE_VIEW']) for j in act['off_facebook_activity']]"
   ]
  },
  {
   "cell_type": "markdown",
   "metadata": {},
   "source": [
    "##### For Loop Method\n",
    "This alternative method results in the exact same data as the list comprehension. However, instead of nesting two list comprehensions, the variable `i` is used to iterate over the list of app dictionaries. For each iteration of the loop, a simpler list comprehension statement is applied and the result is appended to the end of the empty lists declared in the first few lines. "
   ]
  },
  {
   "cell_type": "code",
   "execution_count": 5,
   "metadata": {},
   "outputs": [],
   "source": [
    "apps = []\n",
    "events = []\n",
    "actapp = []\n",
    "custom = []\n",
    "search = []\n",
    "viewc = []\n",
    "ad = []\n",
    "view = []\n",
    "\n",
    "for i in act['off_facebook_activity']:\n",
    "    apps.append(i['name'])\n",
    "    events.append((len(i['events'])))\n",
    "    actapp.append(len([x for x in i['events'] if x['type'] == 'ACTIVATE_APP']))\n",
    "    custom.append(len([x for x in i['events'] if x['type'] == 'CUSTOM']))\n",
    "    search.append(len([x for x in i['events'] if x['type'] == 'SEARCH']))\n",
    "    viewc.append(len([x for x in i['events'] if x['type'] == 'VIEW_CONTENT']))\n",
    "    ad.append(len([x for x in i['events'] if x['type'] == 'AD_REQUEST']))\n",
    "    view.append(len([x for x in i['events'] if x['type'] == 'PAGE_VIEW']))"
   ]
  },
  {
   "cell_type": "markdown",
   "metadata": {},
   "source": [
    "No matter what method you use, the end result is a series of lists containing the data of interest. These can then be combined into a DataFrame. Below, I'm using a new method. The first line creates an empty DataFrame with the desired column names. The rest of the lines then assign the lists of data to those columns."
   ]
  },
  {
   "cell_type": "code",
   "execution_count": 6,
   "metadata": {},
   "outputs": [
    {
     "data": {
      "text/html": [
       "<div>\n",
       "<style scoped>\n",
       "    .dataframe tbody tr th:only-of-type {\n",
       "        vertical-align: middle;\n",
       "    }\n",
       "\n",
       "    .dataframe tbody tr th {\n",
       "        vertical-align: top;\n",
       "    }\n",
       "\n",
       "    .dataframe thead th {\n",
       "        text-align: right;\n",
       "    }\n",
       "</style>\n",
       "<table border=\"1\" class=\"dataframe\">\n",
       "  <thead>\n",
       "    <tr style=\"text-align: right;\">\n",
       "      <th></th>\n",
       "      <th>App</th>\n",
       "      <th>Event Count</th>\n",
       "      <th>Activate App</th>\n",
       "      <th>Custom</th>\n",
       "      <th>Search</th>\n",
       "      <th>View Content</th>\n",
       "      <th>Ad Request</th>\n",
       "      <th>Page Views</th>\n",
       "    </tr>\n",
       "  </thead>\n",
       "  <tbody>\n",
       "    <tr>\n",
       "      <th>0</th>\n",
       "      <td>U.S. Bank - Inspired by customers</td>\n",
       "      <td>18</td>\n",
       "      <td>18</td>\n",
       "      <td>0</td>\n",
       "      <td>0</td>\n",
       "      <td>0</td>\n",
       "      <td>0</td>\n",
       "      <td>0</td>\n",
       "    </tr>\n",
       "    <tr>\n",
       "      <th>1</th>\n",
       "      <td>Egg, Inc.</td>\n",
       "      <td>165</td>\n",
       "      <td>109</td>\n",
       "      <td>0</td>\n",
       "      <td>0</td>\n",
       "      <td>0</td>\n",
       "      <td>35</td>\n",
       "      <td>0</td>\n",
       "    </tr>\n",
       "    <tr>\n",
       "      <th>2</th>\n",
       "      <td>AP News</td>\n",
       "      <td>465</td>\n",
       "      <td>133</td>\n",
       "      <td>325</td>\n",
       "      <td>0</td>\n",
       "      <td>0</td>\n",
       "      <td>7</td>\n",
       "      <td>0</td>\n",
       "    </tr>\n",
       "    <tr>\n",
       "      <th>3</th>\n",
       "      <td>TikTok - Make Your Day</td>\n",
       "      <td>371</td>\n",
       "      <td>99</td>\n",
       "      <td>267</td>\n",
       "      <td>5</td>\n",
       "      <td>0</td>\n",
       "      <td>0</td>\n",
       "      <td>0</td>\n",
       "    </tr>\n",
       "    <tr>\n",
       "      <th>4</th>\n",
       "      <td>uoregon.edu</td>\n",
       "      <td>1</td>\n",
       "      <td>0</td>\n",
       "      <td>0</td>\n",
       "      <td>0</td>\n",
       "      <td>0</td>\n",
       "      <td>0</td>\n",
       "      <td>1</td>\n",
       "    </tr>\n",
       "  </tbody>\n",
       "</table>\n",
       "</div>"
      ],
      "text/plain": [
       "                                 App  Event Count  Activate App  Custom  \\\n",
       "0  U.S. Bank - Inspired by customers           18            18       0   \n",
       "1                          Egg, Inc.          165           109       0   \n",
       "2                            AP News          465           133     325   \n",
       "3             TikTok - Make Your Day          371            99     267   \n",
       "4                        uoregon.edu            1             0       0   \n",
       "\n",
       "   Search  View Content  Ad Request  Page Views  \n",
       "0       0             0           0           0  \n",
       "1       0             0          35           0  \n",
       "2       0             0           7           0  \n",
       "3       5             0           0           0  \n",
       "4       0             0           0           1  "
      ]
     },
     "execution_count": 6,
     "metadata": {},
     "output_type": "execute_result"
    }
   ],
   "source": [
    "appbyevent = pd.DataFrame(columns = ('App', 'Event Count', 'Activate App', 'Custom', 'Search', 'View Content', 'Ad Request', 'Page Views'))\n",
    "appbyevent['App'] = apps\n",
    "appbyevent['Event Count'] = events\n",
    "appbyevent['Activate App'] = actapp\n",
    "appbyevent['Custom'] = custom\n",
    "appbyevent['Search'] = search\n",
    "appbyevent['View Content'] = viewc\n",
    "appbyevent['Ad Request'] = ad\n",
    "appbyevent['Page Views'] = view\n",
    "appbyevent.head()"
   ]
  },
  {
   "cell_type": "markdown",
   "metadata": {},
   "source": [
    "Now that we have a collection of event types, we can start to look at the distributions of frequencies per event type. To do this, we could start to plot univariate distributions."
   ]
  },
  {
   "cell_type": "code",
   "execution_count": 7,
   "metadata": {},
   "outputs": [],
   "source": [
    "from scipy import stats"
   ]
  },
  {
   "cell_type": "code",
   "execution_count": 8,
   "metadata": {},
   "outputs": [
    {
     "data": {
      "text/plain": [
       "array([[ 18, 109, 133,  99],\n",
       "       [  0,   0, 325, 267]], dtype=int64)"
      ]
     },
     "execution_count": 8,
     "metadata": {},
     "output_type": "execute_result"
    }
   ],
   "source": [
    "obs = np.array([appbyevent['Activate App'][:4], appbyevent['Custom'][:4]])\n",
    "obs"
   ]
  },
  {
   "cell_type": "code",
   "execution_count": 9,
   "metadata": {},
   "outputs": [
    {
     "data": {
      "text/plain": [
       "(242.04711361320508,\n",
       " 3.434079785684188e-52,\n",
       " 3,\n",
       " array([[  6.79495268,  41.14721346, 172.893796  , 138.16403785],\n",
       "        [ 11.20504732,  67.85278654, 285.106204  , 227.83596215]]))"
      ]
     },
     "execution_count": 9,
     "metadata": {},
     "output_type": "execute_result"
    }
   ],
   "source": [
    "stats.chi2_contingency(obs)"
   ]
  },
  {
   "cell_type": "markdown",
   "metadata": {},
   "source": [
    "For this next analysis, we are going to narrow down our focus some to only those apps that have at least a few events of a few types."
   ]
  },
  {
   "cell_type": "code",
   "execution_count": 10,
   "metadata": {},
   "outputs": [
    {
     "data": {
      "text/html": [
       "<div>\n",
       "<style scoped>\n",
       "    .dataframe tbody tr th:only-of-type {\n",
       "        vertical-align: middle;\n",
       "    }\n",
       "\n",
       "    .dataframe tbody tr th {\n",
       "        vertical-align: top;\n",
       "    }\n",
       "\n",
       "    .dataframe thead th {\n",
       "        text-align: right;\n",
       "    }\n",
       "</style>\n",
       "<table border=\"1\" class=\"dataframe\">\n",
       "  <thead>\n",
       "    <tr style=\"text-align: right;\">\n",
       "      <th></th>\n",
       "      <th>App</th>\n",
       "      <th>Event Count</th>\n",
       "      <th>Activate App</th>\n",
       "      <th>Custom</th>\n",
       "      <th>Ad Request</th>\n",
       "      <th>View Content</th>\n",
       "      <th>Page Views</th>\n",
       "    </tr>\n",
       "  </thead>\n",
       "  <tbody>\n",
       "    <tr>\n",
       "      <th>0</th>\n",
       "      <td>U.S. Bank - Inspired by customers</td>\n",
       "      <td>18</td>\n",
       "      <td>18</td>\n",
       "      <td>0</td>\n",
       "      <td>0</td>\n",
       "      <td>0</td>\n",
       "      <td>0</td>\n",
       "    </tr>\n",
       "    <tr>\n",
       "      <th>1</th>\n",
       "      <td>Egg, Inc.</td>\n",
       "      <td>165</td>\n",
       "      <td>109</td>\n",
       "      <td>0</td>\n",
       "      <td>35</td>\n",
       "      <td>0</td>\n",
       "      <td>0</td>\n",
       "    </tr>\n",
       "    <tr>\n",
       "      <th>2</th>\n",
       "      <td>AP News</td>\n",
       "      <td>465</td>\n",
       "      <td>133</td>\n",
       "      <td>325</td>\n",
       "      <td>7</td>\n",
       "      <td>0</td>\n",
       "      <td>0</td>\n",
       "    </tr>\n",
       "    <tr>\n",
       "      <th>3</th>\n",
       "      <td>TikTok - Make Your Day</td>\n",
       "      <td>371</td>\n",
       "      <td>99</td>\n",
       "      <td>267</td>\n",
       "      <td>0</td>\n",
       "      <td>0</td>\n",
       "      <td>0</td>\n",
       "    </tr>\n",
       "    <tr>\n",
       "      <th>5</th>\n",
       "      <td>kent.edu</td>\n",
       "      <td>226</td>\n",
       "      <td>0</td>\n",
       "      <td>0</td>\n",
       "      <td>0</td>\n",
       "      <td>102</td>\n",
       "      <td>124</td>\n",
       "    </tr>\n",
       "    <tr>\n",
       "      <th>13</th>\n",
       "      <td>Slack</td>\n",
       "      <td>20</td>\n",
       "      <td>1</td>\n",
       "      <td>19</td>\n",
       "      <td>0</td>\n",
       "      <td>0</td>\n",
       "      <td>0</td>\n",
       "    </tr>\n",
       "    <tr>\n",
       "      <th>14</th>\n",
       "      <td>bonappetit.com</td>\n",
       "      <td>28</td>\n",
       "      <td>0</td>\n",
       "      <td>16</td>\n",
       "      <td>0</td>\n",
       "      <td>0</td>\n",
       "      <td>12</td>\n",
       "    </tr>\n",
       "    <tr>\n",
       "      <th>15</th>\n",
       "      <td>CondÃ© Nast</td>\n",
       "      <td>14</td>\n",
       "      <td>0</td>\n",
       "      <td>14</td>\n",
       "      <td>0</td>\n",
       "      <td>0</td>\n",
       "      <td>0</td>\n",
       "    </tr>\n",
       "    <tr>\n",
       "      <th>23</th>\n",
       "      <td>Microsoft Outlook: Organize Your Email &amp; Calendar</td>\n",
       "      <td>72</td>\n",
       "      <td>72</td>\n",
       "      <td>0</td>\n",
       "      <td>0</td>\n",
       "      <td>0</td>\n",
       "      <td>0</td>\n",
       "    </tr>\n",
       "    <tr>\n",
       "      <th>30</th>\n",
       "      <td>Spotify: Listen to new music, podcasts, and songs</td>\n",
       "      <td>29</td>\n",
       "      <td>29</td>\n",
       "      <td>0</td>\n",
       "      <td>0</td>\n",
       "      <td>0</td>\n",
       "      <td>0</td>\n",
       "    </tr>\n",
       "    <tr>\n",
       "      <th>35</th>\n",
       "      <td>wiley.com</td>\n",
       "      <td>16</td>\n",
       "      <td>0</td>\n",
       "      <td>13</td>\n",
       "      <td>0</td>\n",
       "      <td>3</td>\n",
       "      <td>0</td>\n",
       "    </tr>\n",
       "    <tr>\n",
       "      <th>36</th>\n",
       "      <td>tandfonline.com</td>\n",
       "      <td>41</td>\n",
       "      <td>0</td>\n",
       "      <td>0</td>\n",
       "      <td>0</td>\n",
       "      <td>24</td>\n",
       "      <td>16</td>\n",
       "    </tr>\n",
       "    <tr>\n",
       "      <th>37</th>\n",
       "      <td>sagepub.com</td>\n",
       "      <td>28</td>\n",
       "      <td>0</td>\n",
       "      <td>11</td>\n",
       "      <td>0</td>\n",
       "      <td>16</td>\n",
       "      <td>1</td>\n",
       "    </tr>\n",
       "    <tr>\n",
       "      <th>43</th>\n",
       "      <td>brandwatch.com</td>\n",
       "      <td>41</td>\n",
       "      <td>0</td>\n",
       "      <td>0</td>\n",
       "      <td>0</td>\n",
       "      <td>22</td>\n",
       "      <td>19</td>\n",
       "    </tr>\n",
       "    <tr>\n",
       "      <th>94</th>\n",
       "      <td>newegg.com</td>\n",
       "      <td>22</td>\n",
       "      <td>0</td>\n",
       "      <td>0</td>\n",
       "      <td>0</td>\n",
       "      <td>12</td>\n",
       "      <td>5</td>\n",
       "    </tr>\n",
       "    <tr>\n",
       "      <th>114</th>\n",
       "      <td>cnn.com</td>\n",
       "      <td>14</td>\n",
       "      <td>0</td>\n",
       "      <td>0</td>\n",
       "      <td>0</td>\n",
       "      <td>6</td>\n",
       "      <td>8</td>\n",
       "    </tr>\n",
       "    <tr>\n",
       "      <th>221</th>\n",
       "      <td>mobalytics.gg</td>\n",
       "      <td>14</td>\n",
       "      <td>0</td>\n",
       "      <td>0</td>\n",
       "      <td>0</td>\n",
       "      <td>0</td>\n",
       "      <td>14</td>\n",
       "    </tr>\n",
       "    <tr>\n",
       "      <th>261</th>\n",
       "      <td>theatlantic.com</td>\n",
       "      <td>12</td>\n",
       "      <td>0</td>\n",
       "      <td>6</td>\n",
       "      <td>0</td>\n",
       "      <td>5</td>\n",
       "      <td>1</td>\n",
       "    </tr>\n",
       "    <tr>\n",
       "      <th>283</th>\n",
       "      <td>Spotify</td>\n",
       "      <td>14</td>\n",
       "      <td>0</td>\n",
       "      <td>0</td>\n",
       "      <td>0</td>\n",
       "      <td>14</td>\n",
       "      <td>0</td>\n",
       "    </tr>\n",
       "    <tr>\n",
       "      <th>377</th>\n",
       "      <td>The NBC App - Stream Live TV and Episodes for ...</td>\n",
       "      <td>18</td>\n",
       "      <td>3</td>\n",
       "      <td>15</td>\n",
       "      <td>0</td>\n",
       "      <td>0</td>\n",
       "      <td>0</td>\n",
       "    </tr>\n",
       "  </tbody>\n",
       "</table>\n",
       "</div>"
      ],
      "text/plain": [
       "                                                   App  Event Count  \\\n",
       "0                    U.S. Bank - Inspired by customers           18   \n",
       "1                                            Egg, Inc.          165   \n",
       "2                                              AP News          465   \n",
       "3                               TikTok - Make Your Day          371   \n",
       "5                                             kent.edu          226   \n",
       "13                                               Slack           20   \n",
       "14                                      bonappetit.com           28   \n",
       "15                                         CondÃ© Nast           14   \n",
       "23   Microsoft Outlook: Organize Your Email & Calendar           72   \n",
       "30   Spotify: Listen to new music, podcasts, and songs           29   \n",
       "35                                           wiley.com           16   \n",
       "36                                     tandfonline.com           41   \n",
       "37                                         sagepub.com           28   \n",
       "43                                      brandwatch.com           41   \n",
       "94                                          newegg.com           22   \n",
       "114                                            cnn.com           14   \n",
       "221                                      mobalytics.gg           14   \n",
       "261                                    theatlantic.com           12   \n",
       "283                                            Spotify           14   \n",
       "377  The NBC App - Stream Live TV and Episodes for ...           18   \n",
       "\n",
       "     Activate App  Custom  Ad Request  View Content  Page Views  \n",
       "0              18       0           0             0           0  \n",
       "1             109       0          35             0           0  \n",
       "2             133     325           7             0           0  \n",
       "3              99     267           0             0           0  \n",
       "5               0       0           0           102         124  \n",
       "13              1      19           0             0           0  \n",
       "14              0      16           0             0          12  \n",
       "15              0      14           0             0           0  \n",
       "23             72       0           0             0           0  \n",
       "30             29       0           0             0           0  \n",
       "35              0      13           0             3           0  \n",
       "36              0       0           0            24          16  \n",
       "37              0      11           0            16           1  \n",
       "43              0       0           0            22          19  \n",
       "94              0       0           0            12           5  \n",
       "114             0       0           0             6           8  \n",
       "221             0       0           0             0          14  \n",
       "261             0       6           0             5           1  \n",
       "283             0       0           0            14           0  \n",
       "377             3      15           0             0           0  "
      ]
     },
     "execution_count": 10,
     "metadata": {},
     "output_type": "execute_result"
    }
   ],
   "source": [
    "sub_apps = appbyevent[['App', 'Event Count', 'Activate App', 'Custom', 'Ad Request', 'View Content', 'Page Views']].loc[appbyevent['Event Count'] > 10]\n",
    "sub_apps"
   ]
  },
  {
   "cell_type": "code",
   "execution_count": 11,
   "metadata": {},
   "outputs": [
    {
     "data": {
      "text/plain": [
       "array([[ 18,   0,   0,   0,   0],\n",
       "       [109,   0,  35,   0,   0],\n",
       "       [133, 325,   7,   0,   0],\n",
       "       [ 99, 267,   0,   0,   0],\n",
       "       [  0,   0,   0, 102, 124],\n",
       "       [  1,  19,   0,   0,   0],\n",
       "       [  0,  16,   0,   0,  12],\n",
       "       [  0,  14,   0,   0,   0],\n",
       "       [ 72,   0,   0,   0,   0],\n",
       "       [ 29,   0,   0,   0,   0],\n",
       "       [  0,  13,   0,   3,   0],\n",
       "       [  0,   0,   0,  24,  16],\n",
       "       [  0,  11,   0,  16,   1],\n",
       "       [  0,   0,   0,  22,  19],\n",
       "       [  0,   0,   0,  12,   5],\n",
       "       [  0,   0,   0,   6,   8],\n",
       "       [  0,   0,   0,   0,  14],\n",
       "       [  0,   6,   0,   5,   1],\n",
       "       [  0,   0,   0,  14,   0],\n",
       "       [  3,  15,   0,   0,   0]], dtype=int64)"
      ]
     },
     "execution_count": 11,
     "metadata": {},
     "output_type": "execute_result"
    }
   ],
   "source": [
    "sub_obs = np.array(sub_apps.drop(columns = ['App', 'Event Count']))\n",
    "sub_obs"
   ]
  },
  {
   "cell_type": "code",
   "execution_count": 12,
   "metadata": {},
   "outputs": [
    {
     "data": {
      "text/plain": [
       "(2516.890890779281,\n",
       " 0.0,\n",
       " 76,\n",
       " array([[  5.23308271,   7.73684211,   0.47368421,   2.30075188,\n",
       "           2.2556391 ],\n",
       "        [ 41.86466165,  61.89473684,   3.78947368,  18.40601504,\n",
       "          18.04511278],\n",
       "        [135.18796992, 199.86842105,  12.23684211,  59.43609023,\n",
       "          58.27067669],\n",
       "        [106.40601504, 157.31578947,   9.63157895,  46.78195489,\n",
       "          45.86466165],\n",
       "        [ 65.70426065,  97.14035088,   5.94736842,  28.88721805,\n",
       "          28.32080201],\n",
       "        [  5.81453634,   8.59649123,   0.52631579,   2.55639098,\n",
       "           2.50626566],\n",
       "        [  8.14035088,  12.03508772,   0.73684211,   3.57894737,\n",
       "           3.50877193],\n",
       "        [  4.07017544,   6.01754386,   0.36842105,   1.78947368,\n",
       "           1.75438596],\n",
       "        [ 20.93233083,  30.94736842,   1.89473684,   9.20300752,\n",
       "           9.02255639],\n",
       "        [  8.43107769,  12.46491228,   0.76315789,   3.70676692,\n",
       "           3.63408521],\n",
       "        [  4.65162907,   6.87719298,   0.42105263,   2.04511278,\n",
       "           2.00501253],\n",
       "        [ 11.62907268,  17.19298246,   1.05263158,   5.11278195,\n",
       "           5.01253133],\n",
       "        [  8.14035088,  12.03508772,   0.73684211,   3.57894737,\n",
       "           3.50877193],\n",
       "        [ 11.9197995 ,  17.62280702,   1.07894737,   5.2406015 ,\n",
       "           5.13784461],\n",
       "        [  4.94235589,   7.30701754,   0.44736842,   2.17293233,\n",
       "           2.13032581],\n",
       "        [  4.07017544,   6.01754386,   0.36842105,   1.78947368,\n",
       "           1.75438596],\n",
       "        [  4.07017544,   6.01754386,   0.36842105,   1.78947368,\n",
       "           1.75438596],\n",
       "        [  3.4887218 ,   5.15789474,   0.31578947,   1.53383459,\n",
       "           1.5037594 ],\n",
       "        [  4.07017544,   6.01754386,   0.36842105,   1.78947368,\n",
       "           1.75438596],\n",
       "        [  5.23308271,   7.73684211,   0.47368421,   2.30075188,\n",
       "           2.2556391 ]]))"
      ]
     },
     "execution_count": 12,
     "metadata": {},
     "output_type": "execute_result"
    }
   ],
   "source": [
    "stats.chi2_contingency(sub_obs)"
   ]
  },
  {
   "cell_type": "code",
   "execution_count": 13,
   "metadata": {},
   "outputs": [
    {
     "data": {
      "text/html": [
       "<div>\n",
       "<style scoped>\n",
       "    .dataframe tbody tr th:only-of-type {\n",
       "        vertical-align: middle;\n",
       "    }\n",
       "\n",
       "    .dataframe tbody tr th {\n",
       "        vertical-align: top;\n",
       "    }\n",
       "\n",
       "    .dataframe thead th {\n",
       "        text-align: right;\n",
       "    }\n",
       "</style>\n",
       "<table border=\"1\" class=\"dataframe\">\n",
       "  <thead>\n",
       "    <tr style=\"text-align: right;\">\n",
       "      <th></th>\n",
       "      <th>App</th>\n",
       "      <th>Event Count</th>\n",
       "      <th>Activate App</th>\n",
       "      <th>Custom</th>\n",
       "      <th>Search</th>\n",
       "      <th>View Content</th>\n",
       "      <th>Ad Request</th>\n",
       "      <th>Page Views</th>\n",
       "    </tr>\n",
       "  </thead>\n",
       "  <tbody>\n",
       "    <tr>\n",
       "      <th>1</th>\n",
       "      <td>Egg, Inc.</td>\n",
       "      <td>165</td>\n",
       "      <td>109</td>\n",
       "      <td>0</td>\n",
       "      <td>0</td>\n",
       "      <td>0</td>\n",
       "      <td>35</td>\n",
       "      <td>0</td>\n",
       "    </tr>\n",
       "  </tbody>\n",
       "</table>\n",
       "</div>"
      ],
      "text/plain": [
       "         App  Event Count  Activate App  Custom  Search  View Content  \\\n",
       "1  Egg, Inc.          165           109       0       0             0   \n",
       "\n",
       "   Ad Request  Page Views  \n",
       "1          35           0  "
      ]
     },
     "execution_count": 13,
     "metadata": {},
     "output_type": "execute_result"
    }
   ],
   "source": [
    "appbyevent.loc[appbyevent['App'] == \"Egg, Inc.\"]"
   ]
  },
  {
   "cell_type": "code",
   "execution_count": 14,
   "metadata": {},
   "outputs": [
    {
     "data": {
      "text/html": [
       "<div>\n",
       "<style scoped>\n",
       "    .dataframe tbody tr th:only-of-type {\n",
       "        vertical-align: middle;\n",
       "    }\n",
       "\n",
       "    .dataframe tbody tr th {\n",
       "        vertical-align: top;\n",
       "    }\n",
       "\n",
       "    .dataframe thead th {\n",
       "        text-align: right;\n",
       "    }\n",
       "</style>\n",
       "<table border=\"1\" class=\"dataframe\">\n",
       "  <thead>\n",
       "    <tr style=\"text-align: right;\">\n",
       "      <th></th>\n",
       "      <th>App</th>\n",
       "      <th>Event Count</th>\n",
       "      <th>Activate App</th>\n",
       "      <th>Custom</th>\n",
       "      <th>Search</th>\n",
       "      <th>View Content</th>\n",
       "      <th>Ad Request</th>\n",
       "      <th>Page Views</th>\n",
       "    </tr>\n",
       "  </thead>\n",
       "  <tbody>\n",
       "    <tr>\n",
       "      <th>114</th>\n",
       "      <td>cnn.com</td>\n",
       "      <td>14</td>\n",
       "      <td>0</td>\n",
       "      <td>0</td>\n",
       "      <td>0</td>\n",
       "      <td>6</td>\n",
       "      <td>0</td>\n",
       "      <td>8</td>\n",
       "    </tr>\n",
       "  </tbody>\n",
       "</table>\n",
       "</div>"
      ],
      "text/plain": [
       "         App  Event Count  Activate App  Custom  Search  View Content  \\\n",
       "114  cnn.com           14             0       0       0             6   \n",
       "\n",
       "     Ad Request  Page Views  \n",
       "114           0           8  "
      ]
     },
     "execution_count": 14,
     "metadata": {},
     "output_type": "execute_result"
    }
   ],
   "source": [
    "appbyevent.loc[appbyevent['App'] == \"cnn.com\"]"
   ]
  },
  {
   "cell_type": "code",
   "execution_count": 15,
   "metadata": {},
   "outputs": [
    {
     "data": {
      "text/plain": [
       "0                      U.S. Bank - Inspired by customers\n",
       "1                                              Egg, Inc.\n",
       "2                                                AP News\n",
       "3                                 TikTok - Make Your Day\n",
       "5                                               kent.edu\n",
       "13                                                 Slack\n",
       "14                                        bonappetit.com\n",
       "15                                           CondÃ© Nast\n",
       "23     Microsoft Outlook: Organize Your Email & Calendar\n",
       "30     Spotify: Listen to new music, podcasts, and songs\n",
       "35                                             wiley.com\n",
       "36                                       tandfonline.com\n",
       "37                                           sagepub.com\n",
       "43                                        brandwatch.com\n",
       "94                                            newegg.com\n",
       "114                                              cnn.com\n",
       "221                                        mobalytics.gg\n",
       "261                                      theatlantic.com\n",
       "283                                              Spotify\n",
       "377    The NBC App - Stream Live TV and Episodes for ...\n",
       "Name: App, dtype: object"
      ]
     },
     "execution_count": 15,
     "metadata": {},
     "output_type": "execute_result"
    }
   ],
   "source": [
    "sub_apps['App']"
   ]
  },
  {
   "cell_type": "code",
   "execution_count": 16,
   "metadata": {},
   "outputs": [
    {
     "data": {
      "text/plain": [
       "['app',\n",
       " 'app',\n",
       " 'app',\n",
       " 'app',\n",
       " 'site',\n",
       " 'app',\n",
       " 'site',\n",
       " 'unknown',\n",
       " 'app',\n",
       " 'app',\n",
       " 'site',\n",
       " 'site',\n",
       " 'site',\n",
       " 'site',\n",
       " 'site',\n",
       " 'site',\n",
       " 'site',\n",
       " 'site',\n",
       " 'unknown',\n",
       " 'app']"
      ]
     },
     "execution_count": 16,
     "metadata": {},
     "output_type": "execute_result"
    }
   ],
   "source": [
    "cats = ['app', 'app', 'app', 'app', 'site', 'app', 'site', 'unknown', 'app', 'app', 'site', 'site', 'site', 'site', 'site', 'site', 'site', 'site', 'unknown', 'app']\n",
    "cats"
   ]
  },
  {
   "cell_type": "code",
   "execution_count": 17,
   "metadata": {},
   "outputs": [
    {
     "data": {
      "text/html": [
       "<div>\n",
       "<style scoped>\n",
       "    .dataframe tbody tr th:only-of-type {\n",
       "        vertical-align: middle;\n",
       "    }\n",
       "\n",
       "    .dataframe tbody tr th {\n",
       "        vertical-align: top;\n",
       "    }\n",
       "\n",
       "    .dataframe thead th {\n",
       "        text-align: right;\n",
       "    }\n",
       "</style>\n",
       "<table border=\"1\" class=\"dataframe\">\n",
       "  <thead>\n",
       "    <tr style=\"text-align: right;\">\n",
       "      <th></th>\n",
       "      <th>App</th>\n",
       "      <th>Event Count</th>\n",
       "      <th>Activate App</th>\n",
       "      <th>Custom</th>\n",
       "      <th>Ad Request</th>\n",
       "      <th>View Content</th>\n",
       "      <th>Page Views</th>\n",
       "      <th>category</th>\n",
       "    </tr>\n",
       "  </thead>\n",
       "  <tbody>\n",
       "    <tr>\n",
       "      <th>0</th>\n",
       "      <td>U.S. Bank - Inspired by customers</td>\n",
       "      <td>18</td>\n",
       "      <td>18</td>\n",
       "      <td>0</td>\n",
       "      <td>0</td>\n",
       "      <td>0</td>\n",
       "      <td>0</td>\n",
       "      <td>app</td>\n",
       "    </tr>\n",
       "    <tr>\n",
       "      <th>1</th>\n",
       "      <td>Egg, Inc.</td>\n",
       "      <td>165</td>\n",
       "      <td>109</td>\n",
       "      <td>0</td>\n",
       "      <td>35</td>\n",
       "      <td>0</td>\n",
       "      <td>0</td>\n",
       "      <td>app</td>\n",
       "    </tr>\n",
       "    <tr>\n",
       "      <th>2</th>\n",
       "      <td>AP News</td>\n",
       "      <td>465</td>\n",
       "      <td>133</td>\n",
       "      <td>325</td>\n",
       "      <td>7</td>\n",
       "      <td>0</td>\n",
       "      <td>0</td>\n",
       "      <td>app</td>\n",
       "    </tr>\n",
       "    <tr>\n",
       "      <th>3</th>\n",
       "      <td>TikTok - Make Your Day</td>\n",
       "      <td>371</td>\n",
       "      <td>99</td>\n",
       "      <td>267</td>\n",
       "      <td>0</td>\n",
       "      <td>0</td>\n",
       "      <td>0</td>\n",
       "      <td>app</td>\n",
       "    </tr>\n",
       "    <tr>\n",
       "      <th>5</th>\n",
       "      <td>kent.edu</td>\n",
       "      <td>226</td>\n",
       "      <td>0</td>\n",
       "      <td>0</td>\n",
       "      <td>0</td>\n",
       "      <td>102</td>\n",
       "      <td>124</td>\n",
       "      <td>site</td>\n",
       "    </tr>\n",
       "    <tr>\n",
       "      <th>13</th>\n",
       "      <td>Slack</td>\n",
       "      <td>20</td>\n",
       "      <td>1</td>\n",
       "      <td>19</td>\n",
       "      <td>0</td>\n",
       "      <td>0</td>\n",
       "      <td>0</td>\n",
       "      <td>app</td>\n",
       "    </tr>\n",
       "    <tr>\n",
       "      <th>14</th>\n",
       "      <td>bonappetit.com</td>\n",
       "      <td>28</td>\n",
       "      <td>0</td>\n",
       "      <td>16</td>\n",
       "      <td>0</td>\n",
       "      <td>0</td>\n",
       "      <td>12</td>\n",
       "      <td>site</td>\n",
       "    </tr>\n",
       "    <tr>\n",
       "      <th>15</th>\n",
       "      <td>CondÃ© Nast</td>\n",
       "      <td>14</td>\n",
       "      <td>0</td>\n",
       "      <td>14</td>\n",
       "      <td>0</td>\n",
       "      <td>0</td>\n",
       "      <td>0</td>\n",
       "      <td>unknown</td>\n",
       "    </tr>\n",
       "    <tr>\n",
       "      <th>23</th>\n",
       "      <td>Microsoft Outlook: Organize Your Email &amp; Calendar</td>\n",
       "      <td>72</td>\n",
       "      <td>72</td>\n",
       "      <td>0</td>\n",
       "      <td>0</td>\n",
       "      <td>0</td>\n",
       "      <td>0</td>\n",
       "      <td>app</td>\n",
       "    </tr>\n",
       "    <tr>\n",
       "      <th>30</th>\n",
       "      <td>Spotify: Listen to new music, podcasts, and songs</td>\n",
       "      <td>29</td>\n",
       "      <td>29</td>\n",
       "      <td>0</td>\n",
       "      <td>0</td>\n",
       "      <td>0</td>\n",
       "      <td>0</td>\n",
       "      <td>app</td>\n",
       "    </tr>\n",
       "    <tr>\n",
       "      <th>35</th>\n",
       "      <td>wiley.com</td>\n",
       "      <td>16</td>\n",
       "      <td>0</td>\n",
       "      <td>13</td>\n",
       "      <td>0</td>\n",
       "      <td>3</td>\n",
       "      <td>0</td>\n",
       "      <td>site</td>\n",
       "    </tr>\n",
       "    <tr>\n",
       "      <th>36</th>\n",
       "      <td>tandfonline.com</td>\n",
       "      <td>41</td>\n",
       "      <td>0</td>\n",
       "      <td>0</td>\n",
       "      <td>0</td>\n",
       "      <td>24</td>\n",
       "      <td>16</td>\n",
       "      <td>site</td>\n",
       "    </tr>\n",
       "    <tr>\n",
       "      <th>37</th>\n",
       "      <td>sagepub.com</td>\n",
       "      <td>28</td>\n",
       "      <td>0</td>\n",
       "      <td>11</td>\n",
       "      <td>0</td>\n",
       "      <td>16</td>\n",
       "      <td>1</td>\n",
       "      <td>site</td>\n",
       "    </tr>\n",
       "    <tr>\n",
       "      <th>43</th>\n",
       "      <td>brandwatch.com</td>\n",
       "      <td>41</td>\n",
       "      <td>0</td>\n",
       "      <td>0</td>\n",
       "      <td>0</td>\n",
       "      <td>22</td>\n",
       "      <td>19</td>\n",
       "      <td>site</td>\n",
       "    </tr>\n",
       "    <tr>\n",
       "      <th>94</th>\n",
       "      <td>newegg.com</td>\n",
       "      <td>22</td>\n",
       "      <td>0</td>\n",
       "      <td>0</td>\n",
       "      <td>0</td>\n",
       "      <td>12</td>\n",
       "      <td>5</td>\n",
       "      <td>site</td>\n",
       "    </tr>\n",
       "    <tr>\n",
       "      <th>114</th>\n",
       "      <td>cnn.com</td>\n",
       "      <td>14</td>\n",
       "      <td>0</td>\n",
       "      <td>0</td>\n",
       "      <td>0</td>\n",
       "      <td>6</td>\n",
       "      <td>8</td>\n",
       "      <td>site</td>\n",
       "    </tr>\n",
       "    <tr>\n",
       "      <th>221</th>\n",
       "      <td>mobalytics.gg</td>\n",
       "      <td>14</td>\n",
       "      <td>0</td>\n",
       "      <td>0</td>\n",
       "      <td>0</td>\n",
       "      <td>0</td>\n",
       "      <td>14</td>\n",
       "      <td>site</td>\n",
       "    </tr>\n",
       "    <tr>\n",
       "      <th>261</th>\n",
       "      <td>theatlantic.com</td>\n",
       "      <td>12</td>\n",
       "      <td>0</td>\n",
       "      <td>6</td>\n",
       "      <td>0</td>\n",
       "      <td>5</td>\n",
       "      <td>1</td>\n",
       "      <td>site</td>\n",
       "    </tr>\n",
       "    <tr>\n",
       "      <th>283</th>\n",
       "      <td>Spotify</td>\n",
       "      <td>14</td>\n",
       "      <td>0</td>\n",
       "      <td>0</td>\n",
       "      <td>0</td>\n",
       "      <td>14</td>\n",
       "      <td>0</td>\n",
       "      <td>unknown</td>\n",
       "    </tr>\n",
       "    <tr>\n",
       "      <th>377</th>\n",
       "      <td>The NBC App - Stream Live TV and Episodes for ...</td>\n",
       "      <td>18</td>\n",
       "      <td>3</td>\n",
       "      <td>15</td>\n",
       "      <td>0</td>\n",
       "      <td>0</td>\n",
       "      <td>0</td>\n",
       "      <td>app</td>\n",
       "    </tr>\n",
       "  </tbody>\n",
       "</table>\n",
       "</div>"
      ],
      "text/plain": [
       "                                                   App  Event Count  \\\n",
       "0                    U.S. Bank - Inspired by customers           18   \n",
       "1                                            Egg, Inc.          165   \n",
       "2                                              AP News          465   \n",
       "3                               TikTok - Make Your Day          371   \n",
       "5                                             kent.edu          226   \n",
       "13                                               Slack           20   \n",
       "14                                      bonappetit.com           28   \n",
       "15                                         CondÃ© Nast           14   \n",
       "23   Microsoft Outlook: Organize Your Email & Calendar           72   \n",
       "30   Spotify: Listen to new music, podcasts, and songs           29   \n",
       "35                                           wiley.com           16   \n",
       "36                                     tandfonline.com           41   \n",
       "37                                         sagepub.com           28   \n",
       "43                                      brandwatch.com           41   \n",
       "94                                          newegg.com           22   \n",
       "114                                            cnn.com           14   \n",
       "221                                      mobalytics.gg           14   \n",
       "261                                    theatlantic.com           12   \n",
       "283                                            Spotify           14   \n",
       "377  The NBC App - Stream Live TV and Episodes for ...           18   \n",
       "\n",
       "     Activate App  Custom  Ad Request  View Content  Page Views category  \n",
       "0              18       0           0             0           0      app  \n",
       "1             109       0          35             0           0      app  \n",
       "2             133     325           7             0           0      app  \n",
       "3              99     267           0             0           0      app  \n",
       "5               0       0           0           102         124     site  \n",
       "13              1      19           0             0           0      app  \n",
       "14              0      16           0             0          12     site  \n",
       "15              0      14           0             0           0  unknown  \n",
       "23             72       0           0             0           0      app  \n",
       "30             29       0           0             0           0      app  \n",
       "35              0      13           0             3           0     site  \n",
       "36              0       0           0            24          16     site  \n",
       "37              0      11           0            16           1     site  \n",
       "43              0       0           0            22          19     site  \n",
       "94              0       0           0            12           5     site  \n",
       "114             0       0           0             6           8     site  \n",
       "221             0       0           0             0          14     site  \n",
       "261             0       6           0             5           1     site  \n",
       "283             0       0           0            14           0  unknown  \n",
       "377             3      15           0             0           0      app  "
      ]
     },
     "execution_count": 17,
     "metadata": {},
     "output_type": "execute_result"
    }
   ],
   "source": [
    "sub_apps['category'] = cats\n",
    "sub_apps"
   ]
  },
  {
   "cell_type": "code",
   "execution_count": 18,
   "metadata": {},
   "outputs": [
    {
     "data": {
      "image/png": "[encoded data removed]",
      "text/plain": [
       "<Figure size 432x288 with 1 Axes>"
      ]
     },
     "metadata": {
      "needs_background": "light"
     },
     "output_type": "display_data"
    }
   ],
   "source": [
    "bins = np.linspace(0, 500, 20)\n",
    "plt.hist(sub_apps['Event Count'].loc[sub_apps['category'] == 'app'], bins, alpha = 0.5, label = \"Apps\")\n",
    "plt.hist(sub_apps['Event Count'].loc[sub_apps['category'] == 'site'], bins, alpha = 0.5, label = \"Websites\")\n",
    "plt.legend(loc = 'upper right')\n",
    "plt.show()"
   ]
  },
  {
   "cell_type": "code",
   "execution_count": 19,
   "metadata": {},
   "outputs": [
    {
     "data": {
      "image/png": "[encoded data removed]",
      "text/plain": [
       "<Figure size 432x288 with 1 Axes>"
      ]
     },
     "metadata": {
      "needs_background": "light"
     },
     "output_type": "display_data"
    }
   ],
   "source": [
    "bins = np.linspace(0, 500, 10)\n",
    "apps = sub_apps['Event Count'].loc[sub_apps['category'] == 'app']\n",
    "sites = sub_apps['Event Count'].loc[sub_apps['category'] == 'site']\n",
    "plt.hist([apps, sites], bins, label = ['Apps', 'Websites'])\n",
    "plt.legend(loc = 'upper right')\n",
    "plt.show()"
   ]
  },
  {
   "cell_type": "code",
   "execution_count": 20,
   "metadata": {},
   "outputs": [
    {
     "data": {
      "text/plain": [
       "1.6683907283710953"
      ]
     },
     "execution_count": 20,
     "metadata": {},
     "output_type": "execute_result"
    }
   ],
   "source": [
    "ttest_eventcount = stats.ttest_ind(sub_apps['Event Count'].loc[sub_apps['category'] == 'app'], sub_apps['Event Count'].loc[sub_apps['category'] == 'site'])\n",
    "ttest_eventcount.statistic"
   ]
  },
  {
   "cell_type": "code",
   "execution_count": 21,
   "metadata": {},
   "outputs": [
    {
     "data": {
      "image/png": "[encoded data removed]",
      "text/plain": [
       "<Figure size 432x288 with 1 Axes>"
      ]
     },
     "metadata": {
      "needs_background": "light"
     },
     "output_type": "display_data"
    }
   ],
   "source": [
    "df1 = (len(apps) - 1) + (len(sites) - 1)\n",
    "#df2 = 100\n",
    "fig, ax1 = plt.subplots(1,1)\n",
    "x1 = np.linspace(stats.t.ppf(0.01, df1), stats.t.ppf(0.99, df1), 100)\n",
    "ax1.plot(x1, stats.t.pdf(x1, df1), 'r-', lw = 5, label = 't df = 16')\n",
    "#x2 = np.linspace(stats.t.ppf(0.01, df2), stats.t.ppf(0.99, df2), 100)\n",
    "#ax1.plot(x2, stats.t.pdf(x2, df2), 'k-', lw = 5, label = 't df = 100')\n",
    "ax1.axvline(x=ttest_eventcount.statistic, label = 'test-statistic 1.668')\n",
    "ax1.axvline(x=-ttest_eventcount.statistic, label = '_nolegend_')\n",
    "ax1.legend(loc = 'best', frameon = False)\n",
    "plt.show()"
   ]
  },
  {
   "cell_type": "code",
   "execution_count": 22,
   "metadata": {},
   "outputs": [
    {
     "data": {
      "text/plain": [
       "0.11468615477476041"
      ]
     },
     "execution_count": 22,
     "metadata": {},
     "output_type": "execute_result"
    }
   ],
   "source": [
    "ttest_eventcount.pvalue"
   ]
  },
  {
   "cell_type": "code",
   "execution_count": 23,
   "metadata": {},
   "outputs": [
    {
     "data": {
      "image/png": "[encoded data removed]",
      "text/plain": [
       "<Figure size 432x288 with 1 Axes>"
      ]
     },
     "metadata": {
      "needs_background": "light"
     },
     "output_type": "display_data"
    }
   ],
   "source": [
    "bins = np.linspace(0, 150, 5)\n",
    "apps = sub_apps['Activate App'].loc[sub_apps['category'] == 'app']\n",
    "sites = sub_apps['Activate App'].loc[sub_apps['category'] == 'site']\n",
    "plt.hist([apps, sites], bins, label = ['Apps', 'Websites'])\n",
    "plt.legend(loc = 'upper right')\n",
    "plt.show()"
   ]
  },
  {
   "cell_type": "code",
   "execution_count": 24,
   "metadata": {},
   "outputs": [
    {
     "data": {
      "text/plain": [
       "Ttest_indResult(statistic=3.565414232164613, pvalue=0.0025810784902644667)"
      ]
     },
     "execution_count": 24,
     "metadata": {},
     "output_type": "execute_result"
    }
   ],
   "source": [
    "ttest_activateapp = stats.ttest_ind(sub_apps['Activate App'].loc[sub_apps['category'] == 'app'], sub_apps['Activate App'].loc[sub_apps['category'] == 'site'])\n",
    "ttest_activateapp"
   ]
  },
  {
   "cell_type": "code",
   "execution_count": 25,
   "metadata": {},
   "outputs": [
    {
     "data": {
      "image/png": "[encoded data removed]",
      "text/plain": [
       "<Figure size 432x288 with 1 Axes>"
      ]
     },
     "metadata": {
      "needs_background": "light"
     },
     "output_type": "display_data"
    }
   ],
   "source": [
    "bins = np.linspace(0, 130, 10)\n",
    "apps = sub_apps['View Content'].loc[sub_apps['category'] == 'app']\n",
    "sites = sub_apps['View Content'].loc[sub_apps['category'] == 'site']\n",
    "plt.hist([apps, sites], bins, label = ['Apps', 'Websites'])\n",
    "plt.legend(loc = 'upper right')\n",
    "plt.show()"
   ]
  },
  {
   "cell_type": "code",
   "execution_count": 26,
   "metadata": {},
   "outputs": [
    {
     "data": {
      "text/plain": [
       "Ttest_indResult(statistic=-1.7561285258261878, pvalue=0.09818667064727682)"
      ]
     },
     "execution_count": 26,
     "metadata": {},
     "output_type": "execute_result"
    }
   ],
   "source": [
    "ttest_viewcontent = stats.ttest_ind(sub_apps['View Content'].loc[sub_apps['category'] == 'app'], sub_apps['View Content'].loc[sub_apps['category'] == 'site'])\n",
    "ttest_viewcontent"
   ]
  }
 ],
 "metadata": {
  "kernelspec": {
   "display_name": "Python 3",
   "language": "python",
   "name": "python3"
  },
  "language_info": {
   "codemirror_mode": {
    "name": "ipython",
    "version": 3
   },
   "file_extension": ".py",
   "mimetype": "text/x-python",
   "name": "python",
   "nbconvert_exporter": "python",
   "pygments_lexer": "ipython3",
   "version": "3.9.1"
  },
  "latex_envs": {
   "LaTeX_envs_menu_present": true,
   "autoclose": false,
   "autocomplete": true,
   "bibliofile": "biblio.bib",
   "cite_by": "apalike",
   "current_citInitial": 1,
   "eqLabelWithNumbers": true,
   "eqNumInitial": 1,
   "hotkeys": {
    "equation": "Ctrl-E",
    "itemize": "Ctrl-I"
   },
   "labels_anchors": false,
   "latex_user_defs": false,
   "report_style_numbering": false,
   "user_envs_cfg": false
  }
 },
 "nbformat": 4,
 "nbformat_minor": 4
}

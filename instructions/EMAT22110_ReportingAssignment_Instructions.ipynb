{
 "cells": [
  {
   "cell_type": "markdown",
   "metadata": {},
   "source": [
    "# Reporting Assignment - Instructions\n",
    "### EMAT 22110 - Data in Emerging Media and Technology\n",
    "### Author: David E. Silva\n",
    "\n",
    "<img src = \"https://upload.wikimedia.org/wikipedia/commons/6/67/REPORTING.png\" alt = \"Cheesy Business Reports\">\n",
    "\n",
    "#### Purpose\n",
    "**The first assignment is technically the last step of the data loop, but correct report writing is important to practice often and perfect early. A final report will be a requirement of all future assignments. This is where you will demonstrate you have learned the basic techniques of report writing including recognizing types of data, appropriate use of common visualizations, and using evidence to support assertions. (150pts)**\n",
    "\n",
    "Before attempting this assignment, you will need to complete the Systems Check, download your personal Instagram data, and review the content from \"Focus on Reporting.\"\n",
    "\n",
    "To complete this assignment follow the in-class example to:\n",
    "1. Open and <a href = \"https://docs.python.org/3/library/json.html\">load</a> the <a href=\"https://www.json.org/json-en.html\">JSON</a> file titled \"likes.json\"\n",
    "2. Convert the data in \"likes.json\" to a DataFrame object using Pandas\n",
    "3. Summarize the number of likes by account using the <a href = \"https://pandas.pydata.org/pandas-docs/stable/reference/api/pandas.DataFrame.groupby.html\"><code>groupby()</code></a> and <a href = \"https://pandas.pydata.org/pandas-docs/stable/reference/api/pandas.DataFrame.count.html\"><code>count()</code></a> DataFrame methods\n",
    "4. Plot the estimated distribution density, counts, and proportion of likes by account using <a href=\"https://seaborn.pydata.org/generated/seaborn.distplot.html\"><code>seaborn.distplot()</code></a>, <a href=\"https://matplotlib.org/3.2.1/api/_as_gen/matplotlib.pyplot.bar.html#matplotlib.pyplot.bar\"><code>pyplot.bar()</code></a>, and <a href=\"https://matplotlib.org/3.2.1/api/_as_gen/matplotlib.pyplot.pie.html#matplotlib.pyplot.pie\"><code>pyplot.pie()</code></a> respectively.\n",
    "(Perhaps also use the pandas options for pie and bar plots?)\n",
    "\n",
    "Then write a complete report of the data that:\n",
    "5. Provides and overview that clearly states the driving question and links the question to the data approach\n",
    "6. Describe the raw data structure and data types used in the analysis\n",
    "7. Documents the wrangling and analysis of the data\n",
    "8. Includes a clear and appropriate visualization\n",
    "9. Draws a data-driven conclusion that addresses the original question\n",
    "10. Reflects on limitations, alternative approaches, and next steps"
   ]
  },
  {
   "cell_type": "markdown",
   "metadata": {},
   "source": [
    "# Example\n",
    "\n",
    "### 1. Overview\n",
    "\n",
    "#### 1.1 Research Questions\n"
   ]
  },
  {
   "cell_type": "markdown",
   "metadata": {},
   "source": [
    "### 2. Data\n",
    "The data for this report comes from the \"Your Instagram Data\" files <a href=\"https://help.instagram.com/181231772500920\">available for download through the user's \"Privacy and Security\" settings</a>. In the data dump is a file named \"likes.json\" which was read in and loaded to a Python 3 environment."
   ]
  },
  {
   "cell_type": "code",
   "execution_count": 1,
   "metadata": {},
   "outputs": [
    {
     "name": "stdout",
     "output_type": "stream",
     "text": [
      "3.8.3\n"
     ]
    }
   ],
   "source": [
    "from platform import python_version\n",
    "\n",
    "print(python_version())"
   ]
  },
  {
   "cell_type": "markdown",
   "metadata": {},
   "source": [
    "The following packages were used in this analysis."
   ]
  },
  {
   "cell_type": "code",
   "execution_count": 2,
   "metadata": {},
   "outputs": [],
   "source": [
    "import json\n",
    "import pandas as pd\n",
    "import matplotlib.pyplot as plt\n",
    "import seaborn as sns\n",
    "import numpy as np"
   ]
  },
  {
   "cell_type": "code",
   "execution_count": null,
   "metadata": {
    "scrolled": true
   },
   "outputs": [],
   "source": []
  },
  {
   "cell_type": "code",
   "execution_count": null,
   "metadata": {},
   "outputs": [],
   "source": []
  },
  {
   "cell_type": "markdown",
   "metadata": {},
   "source": [
    "The \"likes.json\" file contains...\n",
    "This user...\n",
    "\n",
    "The JSON files was converted to a DataFrame and summarized by counting each like per account."
   ]
  },
  {
   "cell_type": "code",
   "execution_count": null,
   "metadata": {
    "scrolled": true
   },
   "outputs": [],
   "source": []
  },
  {
   "cell_type": "markdown",
   "metadata": {},
   "source": [
    "### 3. Analysis\n"
   ]
  },
  {
   "cell_type": "code",
   "execution_count": null,
   "metadata": {},
   "outputs": [],
   "source": []
  },
  {
   "cell_type": "markdown",
   "metadata": {},
   "source": [
    "### 4. Conclusions\n",
    "#### 4.1 Findings\n",
    "\n",
    "#### 4.2 Limitations & Future Steps"
   ]
  }
 ],
 "metadata": {
  "kernelspec": {
   "display_name": "Python 3",
   "language": "python",
   "name": "python3"
  },
  "language_info": {
   "codemirror_mode": {
    "name": "ipython",
    "version": 3
   },
   "file_extension": ".py",
   "mimetype": "text/x-python",
   "name": "python",
   "nbconvert_exporter": "python",
   "pygments_lexer": "ipython3",
   "version": "3.8.3"
  },
  "latex_envs": {
   "LaTeX_envs_menu_present": true,
   "autoclose": false,
   "autocomplete": true,
   "bibliofile": "biblio.bib",
   "cite_by": "apalike",
   "current_citInitial": 1,
   "eqLabelWithNumbers": true,
   "eqNumInitial": 1,
   "hotkeys": {
    "equation": "Ctrl-E",
    "itemize": "Ctrl-I"
   },
   "labels_anchors": false,
   "latex_user_defs": false,
   "report_style_numbering": false,
   "user_envs_cfg": false
  }
 },
 "nbformat": 4,
 "nbformat_minor": 4
}

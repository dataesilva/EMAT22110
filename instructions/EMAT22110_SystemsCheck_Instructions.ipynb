{
 "cells": [
  {
   "cell_type": "markdown",
   "metadata": {},
   "source": [
    "# Systems Check - Instructions\n",
    "### EMAT 22110 - Data in Emerging Media and Technology\n",
    "### Author: David E. Silva\n",
    "<img src = https://github.com/dataesilva/EMAT22110/blob/master/instructions/spacexarabsat6a.jpg alt=\"Falcon Heavy Rocket Launch; source: SpaceX\" title=\"Rocket Launch\" width=\"600px\"/>\n",
    "\n",
    "\n",
    "#### Purpose\n",
    "**This introductory assignment is to verify your environment is properly configured and that you can identify and submit the correct file types. (20pts)**\n",
    "\n",
    "Before attempting this assignment you will need to install Anaconda, create an environment, and install Jupyter.\n",
    "\n",
    "To complete this assignment:\n",
    "1. Launch Jupyter Notebooks from the Anaconda Powershell\n",
    "2. Create a course folder\n",
    "3. Create a new .ipynb file\n",
    "4. Rename the .ipynb file\n",
    "5. Create <a href = \"https://jupyter-notebook.readthedocs.io/en/stable/examples/Notebook/Working%20With%20Markdown%20Cells.html\">Markdown cells</a> with multi-level headings, ordered lists, and **basic** *text* and image formats\n",
    "6. Enable the <a href=\"https://github.com/ipython-contrib/jupyter_contrib_nbextensions/tree/master/src/jupyter_contrib_nbextensions/nbextensions/spellchecker\">spellcheck</a> extension with <code>conda install -c conda-forge jupyter_contrib_nbextensions</code>\n",
    "7. Create a code cells for variable assignment, a basic for loop, a print statement, and a return statement (see examples below)\n",
    "\n",
    "This assignment is graded on completion. Successfully implementing each of the above steps will earn full points. Incomplete submissions will earn a 0 until corrected."
   ]
  },
  {
   "cell_type": "markdown",
   "metadata": {},
   "source": [
    "#### Variable Assignment"
   ]
  },
  {
   "cell_type": "code",
   "execution_count": null,
   "metadata": {},
   "outputs": [],
   "source": []
  },
  {
   "cell_type": "markdown",
   "metadata": {},
   "source": [
    "#### Basic Loop"
   ]
  },
  {
   "cell_type": "code",
   "execution_count": null,
   "metadata": {},
   "outputs": [],
   "source": []
  },
  {
   "cell_type": "markdown",
   "metadata": {},
   "source": [
    "#### Print Statement"
   ]
  },
  {
   "cell_type": "code",
   "execution_count": null,
   "metadata": {},
   "outputs": [],
   "source": []
  },
  {
   "cell_type": "markdown",
   "metadata": {},
   "source": [
    "#### Return Statement"
   ]
  },
  {
   "cell_type": "code",
   "execution_count": null,
   "metadata": {},
   "outputs": [],
   "source": []
  },
  {
   "cell_type": "markdown",
   "metadata": {},
   "source": [
    "###### End"
   ]
  }
 ],
 "metadata": {
  "kernelspec": {
   "display_name": "Python 3",
   "language": "python",
   "name": "python3"
  },
  "language_info": {
   "codemirror_mode": {
    "name": "ipython",
    "version": 3
   },
   "file_extension": ".py",
   "mimetype": "text/x-python",
   "name": "python",
   "nbconvert_exporter": "python",
   "pygments_lexer": "ipython3",
   "version": "3.8.3"
  },
  "latex_envs": {
   "LaTeX_envs_menu_present": true,
   "autoclose": false,
   "autocomplete": true,
   "bibliofile": "biblio.bib",
   "cite_by": "apalike",
   "current_citInitial": 1,
   "eqLabelWithNumbers": true,
   "eqNumInitial": 1,
   "hotkeys": {
    "equation": "Ctrl-E",
    "itemize": "Ctrl-I"
   },
   "labels_anchors": false,
   "latex_user_defs": false,
   "report_style_numbering": false,
   "user_envs_cfg": false
  }
 },
 "nbformat": 4,
 "nbformat_minor": 4
}

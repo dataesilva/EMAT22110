{
 "cells": [
  {
   "cell_type": "markdown",
   "metadata": {},
   "source": [
    "# \"your_off-facebook_activity\" Report - Instructions\n",
    "### EMAT 22110 - Data in Emerging Media and Technology\n",
    "### Author: David E. Silva\n",
    "### Created: 7/21/20\n",
    "### Last Updated: 2/24/21\n",
    "<img src=\"https://media.giphy.com/media/3ohc14lCEdXHSpnnSU/giphy.gif\">\n",
    "\n",
    "#### Purpose\n",
    "**The analysis step of the loop covers a wide variety of techniques to bring sense to data. This is an investigative and reflective process, not a canned sequence of actions. The most common error is matching the wrong analysis to the data in hand. In this assignment you will showcase your ability to conduct a variety of analyses and appropriately apply the analysis tools covered in class. You will submit a final report documenting your analysis so it can be reproduced by others and displaying evidence to support the conclusions you draw from the data.**\n",
    "\n",
    "Before attempting this assignment, you will need to complete the Reporting Assignment, downoad your personal Facebook data, and review the content from \"Focus on Analysis.\"\n",
    "\n",
    "To complete this assignment follow the in-class example to:\n",
    "1. Open and <a href=\"https://docs.python.org/3/library/json.html\">load</a> the <a href=\"https://www.json.org/json-en.html\">JSON</a> file titled \"your_off-facebook_activity.json\"\n",
    "2. Convert the data in \"your_off-facebook_activity.json\" to a DataFrame object using Pandas\n",
    "3. Complete steps 1 through 4 from “<a href=\"https://psyarxiv.com/r8g7c/\">The Eight Steps of Data Analysis</a>” by Dustin Fife.\n",
    "4. Select the conduct the appropriate statistical summaries and analyses (for example from scipy.stats: <a href=\"https://docs.scipy.org/doc/scipy/reference/generated/scipy.stats.describe.html#scipy.stats.describe\"> describe()</a>, <a href=\"https://docs.scipy.org/doc/scipy/reference/generated/scipy.stats.chisquare.html#scipy.stats.chisquare\">chisquare()</a>, <a href=\"https://docs.scipy.org/doc/scipy/reference/generated/scipy.stats.ttest_ind.html#scipy.stats.ttest_ind\">ttest_ind()</a> or <a href=\"https://docs.scipy.org/doc/scipy/reference/generated/scipy.stats.f_oneway.html#scipy.stats.f_oneway\">f_oneway()</a>) for the data type.\n",
    "5. Choose an appropriate visualization to aid in interpreting the chosen summaries and analyses.\n",
    "\n",
    "Then write a complete report of the data that:\n",
    "\n",
    "6. Provides and overview that clearly states the driving question and links the question to the data approach\n",
    "7. Describe the raw data structure and data types used in the analysis\n",
    "8. Documents the wrangling and analysis of the data\n",
    "9. Includes a clear and appropriate visualization\n",
    "10. Draws a data-driven conclusion that addresses the original question\n",
    "11. Reflects on limitations, alternative approaches, and next steps"
   ]
  },
  {
   "cell_type": "markdown",
   "metadata": {},
   "source": [
    "## Some Direction\n",
    "### 1. Overview\n",
    "Your driving question should be something along these lines:\n",
    "How is your Facebook information connected to non-Facebook apps? How frequently do these apps request your Facebook data? Do all apps request Facebook data with the same frequency? Why do apps connect to Facebook data?\n",
    "An example of a hypothesis could be:\n",
    "Because Facebook data is used to target advertisements, the apps with the most ads will access Facebook data the most frequently."
   ]
  },
  {
   "cell_type": "code",
   "execution_count": 45,
   "metadata": {},
   "outputs": [],
   "source": [
    "import json\n",
    "from datetime import datetime\n",
    "import matplotlib.pyplot as plt\n",
    "import numpy as np\n",
    "import time\n",
    "import pandas as pd"
   ]
  },
  {
   "cell_type": "markdown",
   "metadata": {},
   "source": [
    "To read in your data, you will need the json file titled \"your_off_facebook_activity\". This file is usually located the the folder titled \"ads_and_businesses\" from the Facebook download."
   ]
  },
  {
   "cell_type": "code",
   "execution_count": 46,
   "metadata": {},
   "outputs": [
    {
     "data": {
      "text/plain": [
       "dict_keys(['off_facebook_activity'])"
      ]
     },
     "execution_count": 46,
     "metadata": {},
     "output_type": "execute_result"
    }
   ],
   "source": [
    "with open(r\"D:\\EMAT_22110\\FB Data Silva\\facebook-davidsilva100046_toshare\\ads_and_businesses\\your_off-facebook_activity.json\") as f:\n",
    "    act = json.load(f)\n",
    "act.keys()"
   ]
  },
  {
   "cell_type": "markdown",
   "metadata": {},
   "source": [
    "### 2. The Data\n",
    "Describe the raw data structure and data types. Where did this data come from? Do you trust this data? Are there any concerns using this data?\n",
    "\n",
    "Your very first step should be to explore the data structure. As we saw with the Instagram data, this may look different for some people. My data is structured as a hierarchy of lists and dictionaries. Specifically, the act dictionary contains the key \"off_facebook_activity\" whose value is a list of other dictionaries. Each dictionary in that list is the data for one specific app. "
   ]
  },
  {
   "cell_type": "code",
   "execution_count": 47,
   "metadata": {},
   "outputs": [
    {
     "data": {
      "text/plain": [
       "list"
      ]
     },
     "execution_count": 47,
     "metadata": {},
     "output_type": "execute_result"
    }
   ],
   "source": [
    "type(act['off_facebook_activity'])"
   ]
  },
  {
   "cell_type": "code",
   "execution_count": 48,
   "metadata": {},
   "outputs": [
    {
     "data": {
      "text/plain": [
       "{'name': 'U.S. Bank - Inspired by customers',\n",
       " 'events': [{'id': 1591992844216198,\n",
       "   'type': 'ACTIVATE_APP',\n",
       "   'timestamp': 1594274368},\n",
       "  {'id': 1591992844216198, 'type': 'ACTIVATE_APP', 'timestamp': 1594239280},\n",
       "  {'id': 1591992844216198, 'type': 'ACTIVATE_APP', 'timestamp': 1594156238},\n",
       "  {'id': 1591992844216198, 'type': 'ACTIVATE_APP', 'timestamp': 1594066670},\n",
       "  {'id': 1591992844216198, 'type': 'ACTIVATE_APP', 'timestamp': 1593919348},\n",
       "  {'id': 1591992844216198, 'type': 'ACTIVATE_APP', 'timestamp': 1593652182},\n",
       "  {'id': 1591992844216198, 'type': 'ACTIVATE_APP', 'timestamp': 1593651360},\n",
       "  {'id': 1591992844216198, 'type': 'ACTIVATE_APP', 'timestamp': 1593273365},\n",
       "  {'id': 1591992844216198, 'type': 'ACTIVATE_APP', 'timestamp': 1593127728},\n",
       "  {'id': 1591992844216198, 'type': 'ACTIVATE_APP', 'timestamp': 1593100373},\n",
       "  {'id': 1591992844216198, 'type': 'ACTIVATE_APP', 'timestamp': 1593095964},\n",
       "  {'id': 1591992844216198, 'type': 'ACTIVATE_APP', 'timestamp': 1592933608},\n",
       "  {'id': 1591992844216198, 'type': 'ACTIVATE_APP', 'timestamp': 1592933352},\n",
       "  {'id': 1591992844216198, 'type': 'ACTIVATE_APP', 'timestamp': 1592882594},\n",
       "  {'id': 1591992844216198, 'type': 'ACTIVATE_APP', 'timestamp': 1592624705},\n",
       "  {'id': 1591992844216198, 'type': 'ACTIVATE_APP', 'timestamp': 1592624538},\n",
       "  {'id': 1591992844216198, 'type': 'ACTIVATE_APP', 'timestamp': 1592575910},\n",
       "  {'id': 1591992844216198, 'type': 'ACTIVATE_APP', 'timestamp': 1592523210}]}"
      ]
     },
     "execution_count": 48,
     "metadata": {},
     "output_type": "execute_result"
    }
   ],
   "source": [
    "act['off_facebook_activity'][0]"
   ]
  },
  {
   "cell_type": "code",
   "execution_count": 49,
   "metadata": {},
   "outputs": [
    {
     "data": {
      "text/plain": [
       "dict_keys(['name', 'events'])"
      ]
     },
     "execution_count": 49,
     "metadata": {},
     "output_type": "execute_result"
    }
   ],
   "source": [
    "act['off_facebook_activity'][0].keys()"
   ]
  },
  {
   "cell_type": "markdown",
   "metadata": {},
   "source": [
    "As shown above, each dictionary for each app includes the key \"events\" whose value is a list of events each stored as a yet another dictionary. The information for each event includes an identifying number, the kind of event logged, and the time each event occurred."
   ]
  },
  {
   "cell_type": "code",
   "execution_count": 50,
   "metadata": {},
   "outputs": [
    {
     "data": {
      "text/plain": [
       "'ACTIVATE_APP'"
      ]
     },
     "execution_count": 50,
     "metadata": {},
     "output_type": "execute_result"
    }
   ],
   "source": [
    "act['off_facebook_activity'][0]['events'][0]['type']"
   ]
  },
  {
   "cell_type": "markdown",
   "metadata": {},
   "source": [
    "### 3. Data Preparation\n",
    "With the structure of the data file in mine, you will need to decide what information you are most interested in to answer the driving questions or test your hypothesis. You should describe each step taken to wrangle, summarize, or modify your data. The one exception is if you removed data due to privacy concerns or any other reason. You do not need to describe what was removed for the assignment.\n",
    "\n",
    "You may use the code below as a starting point to summarize the activity data. The two approaches shown below both select and summarize the number of events of specific types for each app. The first uses list comprehension, which we have talked about a few times in class, but is admittedly a bit more complex than the previous examples.\n",
    "The second approaches uses a for loop to append the desired data to new lists."
   ]
  },
  {
   "cell_type": "markdown",
   "metadata": {},
   "source": [
    "##### List Comprehension\n",
    "`apps_requests` is the resulting list of looping over each dictionary in the 'off_facebook_activity' list and selecting the value from the 'name' key.\n",
    "`all_event_count` is the resulting list of looping over each dictionary in the 'off_facebook_activity' list and getting the length of the 'events' list.\n",
    "The other six variables accomplish the follow task, except for different activity types:\n",
    "Each dictionary in the 'off_facebook_activity' list is selected in order and given the temporary name `j`. Each element from the 'events' key is selected from j and it's 'type' is checked against a specific type. The number of True values for that type are then saved for all the apps. "
   ]
  },
  {
   "cell_type": "code",
   "execution_count": 51,
   "metadata": {},
   "outputs": [
    {
     "data": {
      "text/plain": [
       "True"
      ]
     },
     "execution_count": 51,
     "metadata": {},
     "output_type": "execute_result"
    }
   ],
   "source": [
    "act['off_facebook_activity'][0]['events'][0]['type'] == 'ACTIVATE_APP'"
   ]
  },
  {
   "cell_type": "code",
   "execution_count": 52,
   "metadata": {},
   "outputs": [],
   "source": [
    "apps_requests = [x['name'] for x in act['off_facebook_activity']]\n",
    "all_event_count = [len(x['events']) for x in act['off_facebook_activity']]\n",
    "activation_count = [len([x for x in j['events'] if x['type'] == 'ACTIVATE_APP']) for j in act['off_facebook_activity']]\n",
    "custom_count = [len([x for x in j['events'] if x['type'] == 'CUSTOM']) for j in act['off_facebook_activity']]\n",
    "search_count = [len([x for x in j['events'] if x['type'] == 'SEARCH']) for j in act['off_facebook_activity']]\n",
    "view_content_count = [len([x for x in j['events'] if x['type'] == 'VIEW_CONTENT']) for j in act['off_facebook_activity']]\n",
    "ad_request_count = [len([x for x in j['events'] if x['type'] == 'AD_REQUEST']) for j in act['off_facebook_activity']]\n",
    "page_view_count = [len([x for x in j['events'] if x['type'] == 'PAGE_VIEW']) for j in act['off_facebook_activity']]"
   ]
  },
  {
   "cell_type": "markdown",
   "metadata": {},
   "source": [
    "##### For Loop Method\n",
    "This alternative method results in the exact same data as the list comprehension. However, instead of nesting two list comprehensions, the variable `i` is used to iterate over the list of app dictionaries. For each iteration of the loop, a simpler list comprehension statement is applied and the result is appended to the end of the empty lists declared in the first few lines. "
   ]
  },
  {
   "cell_type": "code",
   "execution_count": 53,
   "metadata": {},
   "outputs": [],
   "source": [
    "apps = []\n",
    "events = []\n",
    "actapp = []\n",
    "custom = []\n",
    "search = []\n",
    "viewc = []\n",
    "ad = []\n",
    "view = []\n",
    "\n",
    "for i in act['off_facebook_activity']:\n",
    "    apps.append(i['name'])\n",
    "    events.append((len(i['events'])))\n",
    "    actapp.append(len([x for x in i['events'] if x['type'] == 'ACTIVATE_APP']))\n",
    "    custom.append(len([x for x in i['events'] if x['type'] == 'CUSTOM']))\n",
    "    search.append(len([x for x in i['events'] if x['type'] == 'SEARCH']))\n",
    "    viewc.append(len([x for x in i['events'] if x['type'] == 'VIEW_CONTENT']))\n",
    "    ad.append(len([x for x in i['events'] if x['type'] == 'AD_REQUEST']))\n",
    "    view.append(len([x for x in i['events'] if x['type'] == 'PAGE_VIEW']))"
   ]
  },
  {
   "cell_type": "markdown",
   "metadata": {},
   "source": [
    "No matter what method you use, the end result is a series of lists containing the data of interest. These can then be combined into a DataFrame. Below, I'm using a new method. The first line creates an empty DataFrame with the desired column names. The rest of the lines then assign the lists of data to those columns."
   ]
  },
  {
   "cell_type": "code",
   "execution_count": 54,
   "metadata": {},
   "outputs": [
    {
     "data": {
      "text/html": [
       "<div>\n",
       "<style scoped>\n",
       "    .dataframe tbody tr th:only-of-type {\n",
       "        vertical-align: middle;\n",
       "    }\n",
       "\n",
       "    .dataframe tbody tr th {\n",
       "        vertical-align: top;\n",
       "    }\n",
       "\n",
       "    .dataframe thead th {\n",
       "        text-align: right;\n",
       "    }\n",
       "</style>\n",
       "<table border=\"1\" class=\"dataframe\">\n",
       "  <thead>\n",
       "    <tr style=\"text-align: right;\">\n",
       "      <th></th>\n",
       "      <th>App</th>\n",
       "      <th>Event Count</th>\n",
       "      <th>Activate App</th>\n",
       "      <th>Custom</th>\n",
       "      <th>Search</th>\n",
       "      <th>View Content</th>\n",
       "      <th>Ad Request</th>\n",
       "      <th>Page Views</th>\n",
       "    </tr>\n",
       "  </thead>\n",
       "  <tbody>\n",
       "    <tr>\n",
       "      <th>0</th>\n",
       "      <td>U.S. Bank - Inspired by customers</td>\n",
       "      <td>18</td>\n",
       "      <td>18</td>\n",
       "      <td>0</td>\n",
       "      <td>0</td>\n",
       "      <td>0</td>\n",
       "      <td>0</td>\n",
       "      <td>0</td>\n",
       "    </tr>\n",
       "    <tr>\n",
       "      <th>1</th>\n",
       "      <td>Egg, Inc.</td>\n",
       "      <td>165</td>\n",
       "      <td>109</td>\n",
       "      <td>0</td>\n",
       "      <td>0</td>\n",
       "      <td>0</td>\n",
       "      <td>35</td>\n",
       "      <td>0</td>\n",
       "    </tr>\n",
       "    <tr>\n",
       "      <th>2</th>\n",
       "      <td>AP News</td>\n",
       "      <td>465</td>\n",
       "      <td>133</td>\n",
       "      <td>325</td>\n",
       "      <td>0</td>\n",
       "      <td>0</td>\n",
       "      <td>7</td>\n",
       "      <td>0</td>\n",
       "    </tr>\n",
       "    <tr>\n",
       "      <th>3</th>\n",
       "      <td>TikTok - Make Your Day</td>\n",
       "      <td>371</td>\n",
       "      <td>99</td>\n",
       "      <td>267</td>\n",
       "      <td>5</td>\n",
       "      <td>0</td>\n",
       "      <td>0</td>\n",
       "      <td>0</td>\n",
       "    </tr>\n",
       "    <tr>\n",
       "      <th>4</th>\n",
       "      <td>uoregon.edu</td>\n",
       "      <td>1</td>\n",
       "      <td>0</td>\n",
       "      <td>0</td>\n",
       "      <td>0</td>\n",
       "      <td>0</td>\n",
       "      <td>0</td>\n",
       "      <td>1</td>\n",
       "    </tr>\n",
       "  </tbody>\n",
       "</table>\n",
       "</div>"
      ],
      "text/plain": [
       "                                 App  Event Count  Activate App  Custom  \\\n",
       "0  U.S. Bank - Inspired by customers           18            18       0   \n",
       "1                          Egg, Inc.          165           109       0   \n",
       "2                            AP News          465           133     325   \n",
       "3             TikTok - Make Your Day          371            99     267   \n",
       "4                        uoregon.edu            1             0       0   \n",
       "\n",
       "   Search  View Content  Ad Request  Page Views  \n",
       "0       0             0           0           0  \n",
       "1       0             0          35           0  \n",
       "2       0             0           7           0  \n",
       "3       5             0           0           0  \n",
       "4       0             0           0           1  "
      ]
     },
     "execution_count": 54,
     "metadata": {},
     "output_type": "execute_result"
    }
   ],
   "source": [
    "appbyevent = pd.DataFrame(columns = ('App', 'Event Count', 'Activate App', 'Custom', 'Search', 'View Content', 'Ad Request', 'Page Views'))\n",
    "appbyevent['App'] = apps\n",
    "appbyevent['Event Count'] = events\n",
    "appbyevent['Activate App'] = actapp\n",
    "appbyevent['Custom'] = custom\n",
    "appbyevent['Search'] = search\n",
    "appbyevent['View Content'] = viewc\n",
    "appbyevent['Ad Request'] = ad\n",
    "appbyevent['Page Views'] = view\n",
    "appbyevent.head()"
   ]
  },
  {
   "cell_type": "markdown",
   "metadata": {},
   "source": [
    "### 4. Data Visualization\n",
    "You must include at least one appropriate visualization of the data. Your visualization cannot be an exact replication of the example below."
   ]
  },
  {
   "cell_type": "code",
   "execution_count": 55,
   "metadata": {},
   "outputs": [
    {
     "data": {
      "image/png": "[encoded data removed]",
      "text/plain": [
       "<Figure size 432x288 with 1 Axes>"
      ]
     },
     "metadata": {
      "needs_background": "light"
     },
     "output_type": "display_data"
    }
   ],
   "source": [
    "\n",
    "\n",
    "appbyevent = appbyevent.sort_values(by = ['Event Count'], ascending = False)\n",
    "X = np.arange(30)\n",
    "fig = plt.figure()\n",
    "ax = fig.add_axes([0,0,1,1])\n",
    "ax.bar(X + 0.00, appbyevent['Event Count'][0:30], color = 'b', alpha = .1, width = .90)\n",
    "ax.bar(X + 0.00, appbyevent['Activate App'][0:30], color='b', width = .15)\n",
    "ax.bar(X + 0.15, appbyevent['Custom'][0:30], color='g', width = .15)\n",
    "ax.bar(X + 0.30, appbyevent['Page Views'][0:30], color='r', width = .15)\n",
    "ax.bar(X + 0.45, appbyevent['View Content'][0:30], color='c', width = .15)\n",
    "ax.bar(X+.60, appbyevent['Ad Request'][0:30], color = 'y', width = .15)\n",
    "plt.xticks(ticks=X+.2, labels = list(appbyevent['App'][0:30]), rotation=90)\n",
    "ax.legend(labels=['Total Events' ,'Activate App', 'Custom', 'Page Views', 'View Content', 'Ad Request'])\n",
    "plt.show()"
   ]
  },
  {
   "cell_type": "code",
   "execution_count": 56,
   "metadata": {
    "scrolled": false
   },
   "outputs": [
    {
     "data": {
      "image/png": "[encoded data removed]",
      "text/plain": [
       "<Figure size 432x288 with 1 Axes>"
      ]
     },
     "metadata": {
      "needs_background": "light"
     },
     "output_type": "display_data"
    }
   ],
   "source": [
    "X = np.arange(30)\n",
    "plt.bar(appbyevent['App'][0:29], appbyevent['Activate App'][0:29], color='b', width = .25)\n",
    "plt.bar(appbyevent['App'][0:29], appbyevent['Custom'][0:29], color='c', width = .25)\n",
    "plt.bar(appbyevent['App'][0:29], appbyevent['Search'][0:29], color='g', width = .25)\n",
    "plt.bar(appbyevent['App'][0:29], appbyevent['View Content'][0:29], color='y', width = .25)\n",
    "plt.xticks(rotation=90)\n",
    "plt.show()"
   ]
  },
  {
   "cell_type": "markdown",
   "metadata": {},
   "source": [
    "At this point, you should be thinking about what statistical tests are relevant for your chosen data. Make sure to match the right test to your question/hypothesis and fully explain the results."
   ]
  },
  {
   "cell_type": "markdown",
   "metadata": {},
   "source": [
    "### 5. Conclusions\n",
    "Draw at least two data-driven conclusions from the above analysis and visualization. What did you learn? Were there answers to your driving questions?\n",
    "\n",
    "### 6. Limitations, Alternative Approaches, & Next Steps\n",
    "Note any limitations to to this analysis or other ways to looking at the same data. Are there new questions raised from this analysis? What could be done next to continue adding new understanding to this topic?"
   ]
  }
 ],
 "metadata": {
  "kernelspec": {
   "display_name": "Python 3",
   "language": "python",
   "name": "python3"
  },
  "language_info": {
   "codemirror_mode": {
    "name": "ipython",
    "version": 3
   },
   "file_extension": ".py",
   "mimetype": "text/x-python",
   "name": "python",
   "nbconvert_exporter": "python",
   "pygments_lexer": "ipython3",
   "version": "3.9.1"
  },
  "latex_envs": {
   "LaTeX_envs_menu_present": true,
   "autoclose": false,
   "autocomplete": true,
   "bibliofile": "biblio.bib",
   "cite_by": "apalike",
   "current_citInitial": 1,
   "eqLabelWithNumbers": true,
   "eqNumInitial": 1,
   "hotkeys": {
    "equation": "Ctrl-E",
    "itemize": "Ctrl-I"
   },
   "labels_anchors": false,
   "latex_user_defs": false,
   "report_style_numbering": false,
   "user_envs_cfg": false
  }
 },
 "nbformat": 4,
 "nbformat_minor": 4
}
